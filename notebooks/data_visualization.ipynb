{
 "cells": [
  {
   "cell_type": "markdown",
   "id": "4fff91aa",
   "metadata": {},
   "source": [
    "# Data Visualization"
   ]
  },
  {
   "cell_type": "markdown",
   "id": "f7b71618",
   "metadata": {},
   "source": []
  },
  {
   "cell_type": "markdown",
   "id": "fcae8082",
   "metadata": {},
   "source": [
    "Curb Dataset: Lab Dataset with ideal Labels<br>\n",
    "a. curb 1cm<br>\n",
    "b. curb 2cm<br>\n",
    "c. curb 3cm<br>\n",
    "d. ramp 0cm to 3cm<br>\n",
    "e. transition stone 0cm to 3cm"
   ]
  },
  {
   "cell_type": "code",
   "execution_count": null,
   "id": "88c7e17a",
   "metadata": {
    "vscode": {
     "languageId": "plaintext"
    }
   },
   "outputs": [],
   "source": []
  },
  {
   "cell_type": "markdown",
   "id": "57dabb0b",
   "metadata": {},
   "source": [
    "Road Roughness Data:<br>\n",
    "a. Asphalt Road<br>\n",
    "b. Cobblestone Road<br>\n",
    "c. Gravel Road<br>\n",
    "d. Paving Stone Road<br>\n",
    "e. Dirt Road<br>\n"
   ]
  },
  {
   "cell_type": "code",
   "execution_count": null,
   "id": "f4769bbf",
   "metadata": {
    "vscode": {
     "languageId": "plaintext"
    }
   },
   "outputs": [],
   "source": []
  },
  {
   "cell_type": "markdown",
   "id": "12f21c09",
   "metadata": {},
   "source": [
    "Real World Cycling:<br>\n",
    "Label<br>\n",
    "a. cycling: 0<br>\n",
    "b. crossing down over any type of curb: 1<br>\n",
    "c. crossing up over any type of curb: 3<br>\n",
    "\n"
   ]
  },
  {
   "cell_type": "code",
   "execution_count": null,
   "id": "bcc4b2e7",
   "metadata": {
    "vscode": {
     "languageId": "plaintext"
    }
   },
   "outputs": [],
   "source": []
  },
  {
   "cell_type": "markdown",
   "id": "3c4b4154",
   "metadata": {},
   "source": []
  }
 ],
 "metadata": {
  "language_info": {
   "name": "python"
  }
 },
 "nbformat": 4,
 "nbformat_minor": 5
}
