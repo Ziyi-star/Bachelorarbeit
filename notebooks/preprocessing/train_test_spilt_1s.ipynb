{
 "cells": [
  {
   "cell_type": "markdown",
   "id": "6f163eb8",
   "metadata": {},
   "source": [
    "## Combine all datasets and Train Test Spilt"
   ]
  },
  {
   "cell_type": "code",
   "execution_count": 1,
   "id": "c29d18e9",
   "metadata": {},
   "outputs": [],
   "source": [
    "%load_ext autoreload\n",
    "%autoreload 2"
   ]
  },
  {
   "cell_type": "code",
   "execution_count": 2,
   "id": "9a0e0e1d",
   "metadata": {},
   "outputs": [],
   "source": [
    "import sys\n",
    "import numpy as np\n",
    "sys.path.append('../../')   # Add parent directory to Python path\n",
    "from utils.preprocessing import *\n",
    "from utils.segmentation import *\n",
    "from utils.visualization import *\n",
    "import pickle\n",
    "from sklearn.preprocessing import StandardScaler\n",
    "from sklearn.preprocessing import LabelEncoder\n",
    "from keras.utils import to_categorical\n",
    "from sklearn.model_selection import train_test_split\n",
    "\n",
    "np.random.seed(42)  # For reproducibility\n"
   ]
  },
  {
   "cell_type": "code",
   "execution_count": 4,
   "id": "cfe69668",
   "metadata": {},
   "outputs": [],
   "source": [
    "def select_random_samples(data, n=90):\n",
    "    indices = np.random.choice(data.shape[0], n, replace=False)\n",
    "    return data[indices]"
   ]
  },
  {
   "cell_type": "markdown",
   "id": "71deede5",
   "metadata": {},
   "source": [
    "## 1. Combine all datasets"
   ]
  },
  {
   "cell_type": "code",
   "execution_count": 3,
   "id": "dc3d347a",
   "metadata": {},
   "outputs": [
    {
     "name": "stdout",
     "output_type": "stream",
     "text": [
      "(93, 100, 3) (93, 100, 3)\n"
     ]
    }
   ],
   "source": [
    "data = np.load('../../data/Curb/P3/handlebar/Accelerometer/segments_100hz_1s_50overlap.npz')\n",
    "data_curb_0 = data['segments_0']\n",
    "data_curb_1 = data['segments_1']\n",
    "print(data_curb_0.shape, data_curb_1.shape)"
   ]
  },
  {
   "cell_type": "code",
   "execution_count": 10,
   "id": "1e8bbb6a",
   "metadata": {},
   "outputs": [],
   "source": [
    "data= np.load('../../data/RoadRoughness/Raw/Asphalt/P1/segments_100hz_1s_50overlap.npz')\n",
    "data_asphalt= data['segments']\n",
    "data_asphalt = select_random_samples(data_asphalt, 93)\n",
    "data= np.load('../../data/RoadRoughness/Raw/Cobblestone/P1/segments_100hz_1s_50overlap.npz')\n",
    "data_cobblestone= data['segments']\n",
    "data_cobblestone = select_random_samples(data_cobblestone, 93)\n",
    "data= np.load('../../data/RoadRoughness/Raw/CompactGravel/P1/segments_100hz_1s_50overlap.npz')\n",
    "data_compact_gravel= data['segments']\n",
    "data_compact_gravel = select_random_samples(data_compact_gravel, 93)\n",
    "data= np.load('../../data/RoadRoughness/Raw/Dirt/P1/segments_100hz_1s_50overlap.npz')\n",
    "data_Dirt= data['segments']\n",
    "data_Dirt = select_random_samples(data_Dirt, 93)\n",
    "data= np.load('../../data/RoadRoughness/Raw/PavingStone/P1/segments_100hz_1s_50overlap.npz')\n",
    "data_PavingStone= data['segments']\n",
    "data_PavingStone = select_random_samples(data_PavingStone, 93)\n",
    "\n"
   ]
  },
  {
   "cell_type": "code",
   "execution_count": 11,
   "id": "e91720d0",
   "metadata": {},
   "outputs": [],
   "source": [
    "# Add labels\n",
    "# Assign labels for each surface type\n",
    "datasets = [\n",
    "    (data_curb_0, \"curb_0\"),\n",
    "    (data_curb_1, \"curb_1\"),\n",
    "    (data_asphalt, \"asphalt\"),\n",
    "    (data_cobblestone, \"cobblestone\"),\n",
    "    (data_compact_gravel, \"compact_gravel\"),\n",
    "    (data_Dirt, \"dirt\"),\n",
    "    (data_PavingStone, \"paving_stone\")\n",
    "]\n",
    "\n",
    "# Combine all into a single list of (sensor_values, label)\n",
    "combined_dataset = []\n",
    "for data, label in datasets:\n",
    "    for segment in data:\n",
    "        combined_dataset.append((segment, label))"
   ]
  },
  {
   "cell_type": "code",
   "execution_count": 12,
   "id": "efa1f8eb",
   "metadata": {},
   "outputs": [],
   "source": [
    "# save the combined dataset\n",
    "with open('../../data/data_1s/combined_dataset.pkl', 'wb') as f:\n",
    "    pickle.dump(combined_dataset, f)"
   ]
  },
  {
   "cell_type": "code",
   "execution_count": 13,
   "id": "1a903e5c",
   "metadata": {},
   "outputs": [
    {
     "name": "stdout",
     "output_type": "stream",
     "text": [
      "Number of samples: 651\n",
      "Shape of first sample's sensor values: (100, 3)\n",
      "Number of samples per label:\n",
      "curb_0: 93\n",
      "curb_1: 93\n",
      "asphalt: 93\n",
      "cobblestone: 93\n",
      "compact_gravel: 93\n",
      "dirt: 93\n",
      "paving_stone: 93\n"
     ]
    }
   ],
   "source": [
    "print(\"Number of samples:\", len(combined_dataset))\n",
    "print(\"Shape of first sample's sensor values:\", combined_dataset[0][0].shape)\n",
    "# # Show first 3 samples (sensor values and labels)\n",
    "# for i in range(3):\n",
    "#     print(combined_dataset[i][0], combined_dataset[i][1])\n",
    "\n",
    "from collections import Counter\n",
    "label_counts = Counter(label for _, label in combined_dataset)\n",
    "print(\"Number of samples per label:\")\n",
    "for label, count in label_counts.items():\n",
    "    print(f\"{label}: {count}\")"
   ]
  },
  {
   "cell_type": "markdown",
   "id": "16e4d92a",
   "metadata": {},
   "source": [
    "## 2. Train Test Spilt\n"
   ]
  },
  {
   "cell_type": "code",
   "execution_count": 14,
   "id": "a4d9ecb0",
   "metadata": {},
   "outputs": [
    {
     "name": "stdout",
     "output_type": "stream",
     "text": [
      "520 131\n",
      "Label train: 520, Label test: 131\n"
     ]
    }
   ],
   "source": [
    "# 80% train, 20% test\n",
    "train_set, test_set = train_test_split(combined_dataset, test_size=0.2, random_state=42, shuffle=True, stratify=[label for data, label in combined_dataset])\n",
    "print(len(train_set), len(test_set))\n",
    "# Separate sensor values and labels\n",
    "X_train = [x for x, _ in train_set]\n",
    "y_train = [label for _, label in train_set]\n",
    "X_test = [x for x, _ in test_set]\n",
    "y_test = [label for _, label in test_set]\n",
    "print(f\"Label train: {len(y_train)}, Label test: {len(y_test)}\")"
   ]
  },
  {
   "cell_type": "code",
   "execution_count": 15,
   "id": "858a93ae",
   "metadata": {},
   "outputs": [],
   "source": [
    "# save the train and test sets\n",
    "with open('../../data/data_1s/train_set.pkl', 'wb') as f:\n",
    "    pickle.dump(train_set, f)\n",
    "with open('../../data/data_1s/test_set.pkl', 'wb') as f:\n",
    "    pickle.dump(test_set, f)\n"
   ]
  },
  {
   "cell_type": "markdown",
   "id": "52db636c",
   "metadata": {},
   "source": [
    "## 3. Normalise dataset"
   ]
  },
  {
   "cell_type": "code",
   "execution_count": 16,
   "id": "09be39a6",
   "metadata": {},
   "outputs": [
    {
     "data": {
      "text/plain": [
       "array([[0.27970582, 4.12415814, 8.93236776],\n",
       "       [0.27978636, 4.12417064, 8.93233769],\n",
       "       [0.2798669 , 4.12418315, 8.93230763],\n",
       "       [0.27994744, 4.12419565, 8.93227757],\n",
       "       [0.28002798, 4.12420815, 8.9322475 ],\n",
       "       [0.28010852, 4.12422065, 8.93221744],\n",
       "       [0.28018906, 4.12423316, 8.93218738],\n",
       "       [0.2802696 , 4.12424566, 8.93215731],\n",
       "       [0.28035014, 4.12425816, 8.93212725],\n",
       "       [0.28043068, 4.12427066, 8.93209719],\n",
       "       [0.28051122, 4.12428317, 8.93206712],\n",
       "       [0.28059176, 4.12429567, 8.93203706],\n",
       "       [0.2806723 , 4.12430817, 8.932007  ],\n",
       "       [0.28075284, 4.12432067, 8.93197693],\n",
       "       [0.28083339, 4.12433318, 8.93194687],\n",
       "       [0.28091393, 4.12434568, 8.93191681],\n",
       "       [0.28099447, 4.12435818, 8.93188674],\n",
       "       [0.28107501, 4.12437069, 8.93185668],\n",
       "       [0.28115555, 4.12438319, 8.93182662],\n",
       "       [0.28123609, 4.12439569, 8.93179656],\n",
       "       [0.28131663, 4.12440819, 8.93176649],\n",
       "       [0.28139717, 4.1244207 , 8.93173643],\n",
       "       [0.28147771, 4.1244332 , 8.93170637],\n",
       "       [0.28155825, 4.1244457 , 8.9316763 ],\n",
       "       [0.28163879, 4.1244582 , 8.93164624],\n",
       "       [0.28171933, 4.12447071, 8.93161618],\n",
       "       [0.28179987, 4.12448321, 8.93158611],\n",
       "       [0.28188041, 4.12449571, 8.93155605],\n",
       "       [0.28196095, 4.12450821, 8.93152599],\n",
       "       [0.2820415 , 4.12452072, 8.93149592],\n",
       "       [0.28212204, 4.12453322, 8.93146586],\n",
       "       [0.28220258, 4.12454572, 8.9314358 ],\n",
       "       [0.28228312, 4.12455822, 8.93140573],\n",
       "       [0.28236366, 4.12457073, 8.93137567],\n",
       "       [0.2824442 , 4.12458323, 8.93134561],\n",
       "       [0.28252474, 4.12459573, 8.93131554],\n",
       "       [0.28260528, 4.12460823, 8.93128548],\n",
       "       [0.28268582, 4.12462074, 8.93125542],\n",
       "       [0.28276636, 4.12463324, 8.93122535],\n",
       "       [0.2828469 , 4.12464574, 8.93119529],\n",
       "       [0.28292744, 4.12465825, 8.93116523],\n",
       "       [0.28300798, 4.12467075, 8.93113516],\n",
       "       [0.28308852, 4.12468325, 8.9311051 ],\n",
       "       [0.28316906, 4.12469575, 8.93107504],\n",
       "       [0.28324961, 4.12470826, 8.93104497],\n",
       "       [0.28333015, 4.12472076, 8.93101491],\n",
       "       [0.28341069, 4.12473326, 8.93098485],\n",
       "       [0.28349123, 4.12474576, 8.93095478],\n",
       "       [0.28357177, 4.12475827, 8.93092472],\n",
       "       [0.28365231, 4.12477077, 8.93089466],\n",
       "       [0.28373285, 4.12478327, 8.9308646 ],\n",
       "       [0.28381339, 4.12479577, 8.93083453],\n",
       "       [0.28389393, 4.12480828, 8.93080447],\n",
       "       [0.28397447, 4.12482078, 8.93077441],\n",
       "       [0.28405501, 4.12483328, 8.93074434],\n",
       "       [0.28413555, 4.12484578, 8.93071428],\n",
       "       [0.28421609, 4.12485829, 8.93068422],\n",
       "       [0.28429663, 4.12487079, 8.93065415],\n",
       "       [0.28437717, 4.12488329, 8.93062409],\n",
       "       [0.28445771, 4.1248958 , 8.93059403],\n",
       "       [0.28453826, 4.1249083 , 8.93056396],\n",
       "       [0.2846188 , 4.1249208 , 8.9305339 ],\n",
       "       [0.28469934, 4.1249333 , 8.93050384],\n",
       "       [0.28477988, 4.12494581, 8.93047377],\n",
       "       [0.28486042, 4.12495831, 8.93044371],\n",
       "       [0.28494096, 4.12497081, 8.93041365],\n",
       "       [0.2850215 , 4.12498331, 8.93038358],\n",
       "       [0.28510204, 4.12499582, 8.93035352],\n",
       "       [0.28518258, 4.12500832, 8.93032346],\n",
       "       [0.28526312, 4.12502082, 8.93029339],\n",
       "       [0.28534366, 4.12503332, 8.93026333],\n",
       "       [0.2854242 , 4.12504583, 8.93023327],\n",
       "       [0.28550474, 4.12505833, 8.9302032 ],\n",
       "       [0.28558528, 4.12507083, 8.93017314],\n",
       "       [0.28566582, 4.12508333, 8.93014308],\n",
       "       [0.28574637, 4.12509584, 8.93011301],\n",
       "       [0.28582691, 4.12510834, 8.93008295],\n",
       "       [0.28590745, 4.12512084, 8.93005289],\n",
       "       [0.28598799, 4.12513334, 8.93002282],\n",
       "       [0.28606853, 4.12514585, 8.92999276],\n",
       "       [0.28614907, 4.12515835, 8.9299627 ],\n",
       "       [0.28622961, 4.12517085, 8.92993264],\n",
       "       [0.28631015, 4.12518336, 8.92990257],\n",
       "       [0.28639069, 4.12519586, 8.92987251],\n",
       "       [0.28647123, 4.12520836, 8.92984245],\n",
       "       [0.28655177, 4.12522086, 8.92981238],\n",
       "       [0.28663231, 4.12523337, 8.92978232],\n",
       "       [0.28671285, 4.12524587, 8.92975226],\n",
       "       [0.28679339, 4.12525837, 8.92972219],\n",
       "       [0.28687393, 4.12527087, 8.92969213],\n",
       "       [0.28695448, 4.12528338, 8.92966207],\n",
       "       [0.28703502, 4.12529588, 8.929632  ],\n",
       "       [0.28711556, 4.12530838, 8.92960194],\n",
       "       [0.2871961 , 4.12532088, 8.92957188],\n",
       "       [0.28727664, 4.12533339, 8.92954181],\n",
       "       [0.28735718, 4.12534589, 8.92951175],\n",
       "       [0.28743772, 4.12535839, 8.92948169],\n",
       "       [0.28751826, 4.12537089, 8.92945162],\n",
       "       [0.2875988 , 4.1253834 , 8.92942156],\n",
       "       [0.28767934, 4.1253959 , 8.9293915 ]])"
      ]
     },
     "execution_count": 16,
     "metadata": {},
     "output_type": "execute_result"
    }
   ],
   "source": [
    "X_train[0]"
   ]
  },
  {
   "cell_type": "code",
   "execution_count": 57,
   "id": "8dbc1cce",
   "metadata": {},
   "outputs": [
    {
     "name": "stdout",
     "output_type": "stream",
     "text": [
      "(1060, 50, 3)\n",
      "[[-2.94318687  4.45824211  5.85580769]\n",
      " [-2.94290638  4.458214    5.85604172]\n",
      " [-2.94262588  4.45818589  5.85627574]\n",
      " [-2.94234539  4.45815778  5.85650977]\n",
      " [-2.9420649   4.45812967  5.85674379]\n",
      " [-2.94178441  4.45810157  5.85697782]\n",
      " [-2.94150391  4.45807346  5.85721184]\n",
      " [-2.94122342  4.45804535  5.85744586]\n",
      " [-2.94094293  4.45801724  5.85767989]\n",
      " [-2.94066243  4.45798913  5.85791391]\n",
      " [-2.94038194  4.45796102  5.85814794]\n",
      " [-2.94010145  4.45793292  5.85838196]\n",
      " [-2.93982095  4.45790481  5.85861599]\n",
      " [-2.93954046  4.4578767   5.85885001]\n",
      " [-2.93925997  4.45784859  5.85908403]\n",
      " [-2.93897947  4.45782048  5.85931806]\n",
      " [-2.93869898  4.45779237  5.85955208]\n",
      " [-2.93841849  4.45776426  5.85978611]\n",
      " [-2.93813799  4.45773616  5.86002013]\n",
      " [-2.9378575   4.45770805  5.86025416]\n",
      " [-2.93757701  4.45767994  5.86048818]\n",
      " [-2.93729652  4.45765183  5.8607222 ]\n",
      " [-2.93701602  4.45762372  5.86095623]\n",
      " [-2.93673553  4.45759561  5.86119025]\n",
      " [-2.93645504  4.45756751  5.86142428]\n",
      " [-2.93617454  4.4575394   5.8616583 ]\n",
      " [-2.93589405  4.45751129  5.86189233]\n",
      " [-2.93561356  4.45748318  5.86212635]\n",
      " [-2.93533306  4.45745507  5.86236037]\n",
      " [-2.93505257  4.45742696  5.8625944 ]\n",
      " [-2.93477208  4.45739886  5.86282842]\n",
      " [-2.93449158  4.45737075  5.86306245]\n",
      " [-2.93421109  4.45734264  5.86329647]\n",
      " [-2.9339306   4.45731453  5.8635305 ]\n",
      " [-2.9336501   4.45728642  5.86376452]\n",
      " [-2.93336961  4.45725831  5.86399854]\n",
      " [-2.93308912  4.45723021  5.86423257]\n",
      " [-2.93280862  4.4572021   5.86446659]\n",
      " [-2.93252813  4.45717399  5.86470062]\n",
      " [-2.93224764  4.45714588  5.86493464]\n",
      " [-2.93196715  4.45711777  5.86516867]\n",
      " [-2.93168665  4.45708966  5.86540269]\n",
      " [-2.93140616  4.45706156  5.86563671]\n",
      " [-2.93112567  4.45703345  5.86587074]\n",
      " [-2.93084517  4.45700534  5.86610476]\n",
      " [-2.93056468  4.45697723  5.86633879]\n",
      " [-2.93028419  4.45694912  5.86657281]\n",
      " [-2.93000369  4.45692101  5.86680684]\n",
      " [-2.9297232   4.45689291  5.86704086]\n",
      " [-2.92944271  4.4568648   5.86727488]]\n"
     ]
    }
   ],
   "source": [
    "X_train_array = np.stack(X_train)\n",
    "print(X_train_array.shape)\n",
    "print(X_train_array[0])"
   ]
  },
  {
   "cell_type": "code",
   "execution_count": 17,
   "id": "448f4c4a",
   "metadata": {},
   "outputs": [],
   "source": [
    "# Stack X_train to shape (num_samples, segment_length, num_channels)\n",
    "X_train_array = np.stack(X_train)  # shape: (N, L, C)\n",
    "\n",
    "# Reshape to 2D for scaler: (N*L, C)\n",
    "# Your sensor data is 3D: (N, L, C) where, N = number of samples, L = segment length (timesteps), C = number of channels (features per timestep)\n",
    "N, L, C = X_train_array.shape\n",
    "X_train_reshaped = X_train_array.reshape(-1, C)\n",
    "# you are converting your 3D array (N, L, C) into a 2D array with shape (N*L, C).\n",
    "scaler = StandardScaler()\n",
    "X_train_scaled = scaler.fit_transform(X_train_reshaped)\n",
    "\n",
    "# Reshape back to original shape\n",
    "X_train_normalized = X_train_scaled.reshape(N, L, C)"
   ]
  },
  {
   "cell_type": "markdown",
   "id": "64ab7d2e",
   "metadata": {},
   "source": [
    "# 4. Labels from string to integer"
   ]
  },
  {
   "cell_type": "code",
   "execution_count": 18,
   "id": "37ce17a6",
   "metadata": {},
   "outputs": [
    {
     "name": "stdout",
     "output_type": "stream",
     "text": [
      "Classes: ['asphalt' 'cobblestone' 'compact_gravel' 'curb_0' 'curb_1' 'dirt'\n",
      " 'paving_stone']\n",
      "First 10 y_train_int: [6 3 2 3 5 0 2 0 1 4]\n",
      "First 10 y_test_int: [5 4 1 3 5 4 6 0 6 0]\n",
      "0: asphalt\n",
      "1: cobblestone\n",
      "2: compact_gravel\n",
      "3: curb_0\n",
      "4: curb_1\n",
      "5: dirt\n",
      "6: paving_stone\n"
     ]
    }
   ],
   "source": [
    "label_encoder = LabelEncoder()\n",
    "y_train_int = label_encoder.fit_transform(y_train)\n",
    "y_test_int = label_encoder.transform(y_test)\n",
    "\n",
    "print(\"Classes:\", label_encoder.classes_)\n",
    "print(\"First 10 y_train_int:\", y_train_int[:10])\n",
    "print(\"First 10 y_test_int:\", y_test_int[:10])\n",
    "for idx, label in enumerate(label_encoder.classes_):\n",
    "    print(f\"{idx}: {label}\")\n"
   ]
  },
  {
   "cell_type": "markdown",
   "id": "eb795435",
   "metadata": {},
   "source": [
    "## 5: One-hot encode the labels"
   ]
  },
  {
   "cell_type": "code",
   "execution_count": 19,
   "id": "e8368df9",
   "metadata": {},
   "outputs": [
    {
     "name": "stdout",
     "output_type": "stream",
     "text": [
      "(520, 7)\n",
      "(131, 7)\n"
     ]
    }
   ],
   "source": [
    "y_train_onehot = to_categorical(y_train_int)\n",
    "y_test_onehot = to_categorical(y_test_int)\n",
    "\n",
    "print(y_train_onehot.shape)\n",
    "print(y_test_onehot.shape)"
   ]
  },
  {
   "cell_type": "code",
   "execution_count": 20,
   "id": "771ce62c",
   "metadata": {},
   "outputs": [],
   "source": [
    "# Randomly select an index and check that the one-hot encoding matches the original label\n",
    "r = np.random.randint(len(y_train_int))\n",
    "assert y_train_onehot[r].argmax() == y_train_int[r]\n",
    "r = np.random.randint(len(y_test_int))\n",
    "assert y_test_onehot[r].argmax() == y_test_int[r]"
   ]
  },
  {
   "cell_type": "markdown",
   "id": "94c20030",
   "metadata": {},
   "source": [
    "## 6. Save train, test data and labels"
   ]
  },
  {
   "cell_type": "code",
   "execution_count": 21,
   "id": "9b376d2a",
   "metadata": {},
   "outputs": [],
   "source": [
    "with open('../../data/data_1s/X_train_normalized.pkl', 'wb') as f:\n",
    "    pickle.dump(X_train_normalized, f)\n",
    "with open('../../data/data_1s/X_test_original.pkl', 'wb') as f:\n",
    "    pickle.dump(X_test, f)\n",
    "with open('../../data/data_1s/y_train_onehot.pkl', 'wb') as f:\n",
    "    pickle.dump(y_train_onehot, f)\n",
    "with open('../../data/data_1s/y_test_onehot.pkl', 'wb') as f:\n",
    "    pickle.dump(y_test_onehot, f)"
   ]
  },
  {
   "cell_type": "markdown",
   "id": "6a24da61",
   "metadata": {},
   "source": [
    "## 6. Train, validation Spilt"
   ]
  },
  {
   "cell_type": "code",
   "execution_count": 22,
   "id": "1a8b2b16",
   "metadata": {},
   "outputs": [],
   "source": [
    "# Load data\n",
    "with open('../../data/data_1s/X_train_normalized.pkl', 'rb') as f:\n",
    "    train_data = pickle.load(f)\n",
    "with open('../../data/data_1s/y_train_onehot.pkl', 'rb') as f:\n",
    "    train_labels = pickle.load(f)"
   ]
  },
  {
   "cell_type": "code",
   "execution_count": 23,
   "id": "8cfba3e3",
   "metadata": {},
   "outputs": [
    {
     "name": "stdout",
     "output_type": "stream",
     "text": [
      "Train shape: (416, 100, 3) (416, 7)\n",
      "Validation shape: (104, 100, 3) (104, 7)\n"
     ]
    }
   ],
   "source": [
    "X_train, X_val, y_train, y_val = train_test_split(\n",
    "    train_data,\n",
    "    train_labels,\n",
    "    test_size=0.2,           # 20% for validation\n",
    "    random_state=42,\n",
    "    shuffle=True\n",
    ")\n",
    "\n",
    "print(\"Train shape:\", X_train.shape, y_train.shape)\n",
    "print(\"Validation shape:\", X_val.shape, y_val.shape)"
   ]
  },
  {
   "cell_type": "code",
   "execution_count": 24,
   "id": "414f91ea",
   "metadata": {},
   "outputs": [],
   "source": [
    "with open('../../data/data_1s/X_train_normalized.pkl', 'wb') as f:\n",
    "    pickle.dump(X_train, f)\n",
    "with open('../../data/data_1s/X_val_normalized.pkl', 'wb') as f:\n",
    "    pickle.dump(X_val, f)\n",
    "with open('../../data/data_1s/y_train_onehot.pkl', 'wb') as f:\n",
    "    pickle.dump(y_train, f)\n",
    "with open('../../data/data_1s/y_val_onehot.pkl', 'wb') as f:\n",
    "    pickle.dump(y_val, f)"
   ]
  },
  {
   "cell_type": "code",
   "execution_count": null,
   "id": "10d6b38a",
   "metadata": {},
   "outputs": [],
   "source": []
  }
 ],
 "metadata": {
  "kernelspec": {
   "display_name": "base",
   "language": "python",
   "name": "python3"
  },
  "language_info": {
   "codemirror_mode": {
    "name": "ipython",
    "version": 3
   },
   "file_extension": ".py",
   "mimetype": "text/x-python",
   "name": "python",
   "nbconvert_exporter": "python",
   "pygments_lexer": "ipython3",
   "version": "3.12.3"
  }
 },
 "nbformat": 4,
 "nbformat_minor": 5
}
