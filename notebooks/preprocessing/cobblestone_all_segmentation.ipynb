{
 "cells": [
  {
   "cell_type": "markdown",
   "id": "6376b0c5",
   "metadata": {},
   "source": [
    "## Segmentation for Cobblestone for all People"
   ]
  },
  {
   "cell_type": "code",
   "execution_count": 1,
   "id": "c0086419",
   "metadata": {},
   "outputs": [],
   "source": [
    "# Enable autoload for just updated files\n",
    "%load_ext autoreload\n",
    "%autoreload 2"
   ]
  },
  {
   "cell_type": "code",
   "execution_count": 2,
   "id": "d3ed9d3e",
   "metadata": {},
   "outputs": [],
   "source": [
    "import sys\n",
    "import numpy as np\n",
    "import random\n",
    "sys.path.append('../../')   # Add parent directory to Python path\n",
    "from utils.preprocessing import *\n",
    "from utils.segmentation import *\n",
    "from utils.visualization import *\n",
    "from utils.automatisierung import *"
   ]
  },
  {
   "cell_type": "markdown",
   "id": "cf801b6e",
   "metadata": {},
   "source": [
    "## Use:"
   ]
  },
  {
   "cell_type": "code",
   "execution_count": 3,
   "id": "ec0c9074",
   "metadata": {},
   "outputs": [],
   "source": [
    "folders = [\n",
    "    {\n",
    "        \"Cobblestone\": \"../../data/RoadRoughness/Raw/Cobblestone/P1/Accelerometer_filtered_e1.csv\",\n",
    "        \"window_sizes\": [50, 15],  # 0.5s at 100Hz and 30Hz\n",
    "        \"freq_list\": [100, 30],\n",
    "        \"overlap\": 50,\n",
    "        \"channels\": ['Acc-X', 'Acc-Y', 'Acc-Z']\n",
    "    },\n",
    "\n",
    "    {\n",
    "        \"Cobblestone\": \"../../data/RoadRoughness/Raw/Cobblestone/P2/Accelerometer_filtered_e1.csv\",\n",
    "        \"window_sizes\": [50, 15],  # 0.5s at 100Hz and 30Hz\n",
    "        \"freq_list\": [100, 30],\n",
    "        \"overlap\": 50,\n",
    "        \"channels\": ['Acc-X', 'Acc-Y', 'Acc-Z']\n",
    "    },\n",
    "    {\n",
    "        \"Cobblestone\": \"../../data/RoadRoughness/Raw/Cobblestone/P3/Accelerometer_filtered_e1.csv\",\n",
    "        \"freq_list\": [100, 30],\n",
    "        \"window_sizes\": [50, 15],  # 0.5s at 100Hz and 30Hz\n",
    "        \"overlap\": 50,\n",
    "        \"channels\": ['Acc-X', 'Acc-Y', 'Acc-Z']\n",
    "    },\n",
    "    {\n",
    "        \"Cobblestone\": \"../../data/RoadRoughness/Raw/Cobblestone/P4/Accelerometer_filtered_e1.csv\",\n",
    "        \"freq_list\": [100, 30],\n",
    "        \"window_sizes\": [50, 15],  # 0.5s at 100Hz and 30Hz\n",
    "        \"overlap\": 50,\n",
    "        \"channels\": ['Acc-X', 'Acc-Y', 'Acc-Z']\n",
    "    },\n",
    "    {\n",
    "        \"Cobblestone\": \"../../data/RoadRoughness/Raw/Cobblestone/P5/Accelerometer_filtered_e1.csv\",\n",
    "        \"freq_list\": [100, 30],\n",
    "        \"window_sizes\": [50, 15],  # 0.5s at 100Hz and 30Hz\n",
    "        \"overlap\": 50,\n",
    "        \"channels\": ['Acc-X', 'Acc-Y', 'Acc-Z']\n",
    "    },\n",
    "    {\n",
    "        \"Cobblestone\": \"../../data/RoadRoughness/Raw/Cobblestone/P6/Accelerometer_filtered_e1.csv\",\n",
    "        \"freq_list\": [100, 30],\n",
    "        \"window_sizes\": [50, 15],  # 0.5s at 100Hz and 30Hz\n",
    "        \"overlap\": 50,\n",
    "        \"channels\": ['Acc-X', 'Acc-Y', 'Acc-Z']\n",
    "    },\n",
    "    {\n",
    "        \"Cobblestone\": \"../../data/RoadRoughness/Raw/Cobblestone/P7/Accelerometer_filtered_e1.csv\",\n",
    "        \"freq_list\": [100, 30],\n",
    "        \"window_sizes\": [50, 15],  # 0.5s at 100Hz and 30Hz\n",
    "        \"overlap\": 50,\n",
    "        \"channels\": ['Acc-X', 'Acc-Y', 'Acc-Z']\n",
    "    },\n",
    "    {\n",
    "        \"Cobblestone\": \"../../data/RoadRoughness/Raw/Cobblestone/P8/Accelerometer_filtered_e1.csv\",\n",
    "        \"freq_list\": [100, 30],\n",
    "        \"window_sizes\": [50, 15],  # 0.5s at 100Hz and 30Hz\n",
    "        \"overlap\": 50,\n",
    "        \"channels\": ['Acc-X', 'Acc-Y', 'Acc-Z']\n",
    "    },\n",
    "    {\n",
    "        \"Cobblestone\": \"../../data/RoadRoughness/Raw/Cobblestone/P9/Accelerometer_filtered_e1.csv\",\n",
    "        \"freq_list\": [100, 30],\n",
    "        \"window_sizes\": [50, 15],  # 0.5s at 100Hz and 30Hz\n",
    "        \"overlap\": 50,\n",
    "        \"channels\": ['Acc-X', 'Acc-Y', 'Acc-Z']\n",
    "    },\n",
    "    {\n",
    "        \"Cobblestone\": \"../../data/RoadRoughness/Raw/Cobblestone/P10/Accelerometer_filtered_e1.csv\",\n",
    "        \"freq_list\": [100, 30],\n",
    "        \"window_sizes\": [50, 15],  # 0.5s at 100Hz and 30Hz\n",
    "        \"overlap\": 50,\n",
    "        \"channels\": ['Acc-X', 'Acc-Y', 'Acc-Z']\n",
    "    },\n",
    "]\n",
    "\n",
    "for f in folders:\n",
    "    preprocess_and_segment_road(f[\"Cobblestone\"], f[\"freq_list\"], f[\"window_sizes\"], f[\"overlap\"], f[\"channels\"])"
   ]
  },
  {
   "cell_type": "code",
   "execution_count": null,
   "id": "cb5f72eb",
   "metadata": {},
   "outputs": [],
   "source": []
  }
 ],
 "metadata": {
  "kernelspec": {
   "display_name": "base",
   "language": "python",
   "name": "python3"
  },
  "language_info": {
   "codemirror_mode": {
    "name": "ipython",
    "version": 3
   },
   "file_extension": ".py",
   "mimetype": "text/x-python",
   "name": "python",
   "nbconvert_exporter": "python",
   "pygments_lexer": "ipython3",
   "version": "3.12.3"
  }
 },
 "nbformat": 4,
 "nbformat_minor": 5
}
