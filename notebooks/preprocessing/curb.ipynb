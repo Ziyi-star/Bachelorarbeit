{
 "cells": [
  {
   "cell_type": "markdown",
   "id": "6376b0c5",
   "metadata": {},
   "source": [
    "# Preprocessing for Curb Data"
   ]
  },
  {
   "cell_type": "code",
   "execution_count": 1,
   "id": "c0086419",
   "metadata": {},
   "outputs": [],
   "source": [
    "# Enable autoload for all files\n",
    "%load_ext autoreload\n",
    "%autoreload 1"
   ]
  },
  {
   "cell_type": "code",
   "execution_count": null,
   "id": "d3ed9d3e",
   "metadata": {},
   "outputs": [],
   "source": []
  }
 ],
 "metadata": {
  "kernelspec": {
   "display_name": "base",
   "language": "python",
   "name": "python3"
  },
  "language_info": {
   "codemirror_mode": {
    "name": "ipython",
    "version": 3
   },
   "file_extension": ".py",
   "mimetype": "text/x-python",
   "name": "python",
   "nbconvert_exporter": "python",
   "pygments_lexer": "ipython3",
   "version": "3.12.3"
  }
 },
 "nbformat": 4,
 "nbformat_minor": 5
}
