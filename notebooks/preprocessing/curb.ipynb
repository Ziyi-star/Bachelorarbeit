{
 "cells": [
  {
   "cell_type": "markdown",
   "id": "6376b0c5",
   "metadata": {},
   "source": [
    "# Preprocessing for Curb Data"
   ]
  },
  {
   "cell_type": "code",
   "execution_count": 2,
   "id": "c0086419",
   "metadata": {},
   "outputs": [],
   "source": [
    "# Enable autoload for just updated files\n",
    "%load_ext autoreload\n",
    "%autoreload 2"
   ]
  },
  {
   "cell_type": "code",
   "execution_count": 3,
   "id": "d3ed9d3e",
   "metadata": {},
   "outputs": [],
   "source": [
    "import sys\n",
    "import numpy as np\n",
    "import random\n",
    "sys.path.append('../../')   # Add parent directory to Python path\n",
    "from utils.preprocessing import *\n",
    "from utils.segmentation import *\n",
    "from utils.visualization import *"
   ]
  },
  {
   "cell_type": "markdown",
   "id": "cfc262f0",
   "metadata": {},
   "source": [
    "# #P3 "
   ]
  },
  {
   "cell_type": "code",
   "execution_count": 3,
   "id": "a25869e7",
   "metadata": {},
   "outputs": [
    {
     "name": "stdout",
     "output_type": "stream",
     "text": [
      "Acc-X    0\n",
      "Acc-Y    0\n",
      "Acc-Z    0\n",
      "dtype: int64\n"
     ]
    }
   ],
   "source": [
    "#Missing value and combined data\n",
    "#Load the ESP1 Data and handle missing values\n",
    "df_one= pd.read_csv('../../data/Curb/P3/handlebar/Accelerometer/Accelerometer_data_merged_ESP1.csv')  \n",
    "output = '../../data/Curb/P3/handlebar/Accelerometer/Accelerometer_data_merged_ESP1_filled_missing_values.csv'\n",
    "#handle missing values\n",
    "fill_missing_values_curb(df_one, output)\n",
    "# Load the ESP2 Data and handle missing values\n",
    "df_two= pd.read_csv('../../data/Curb/P3/handlebar/Accelerometer/Accelerometer_data_merged_ESP2.csv')  \n",
    "output = '../../data/Curb/P3/handlebar/Accelerometer/Accelerometer_data_merged_ESP2_filled_missing_values.csv'\n",
    "fill_missing_values_curb(df_two,output)\n",
    "#check missing values if exist\n",
    "print(df_two[['Acc-X', 'Acc-Y', 'Acc-Z']].isnull().sum())\n",
    "# Combine activities from ESP1 and ESP2 with correct Annotation\n",
    "output = '../../data/Curb/P3/handlebar/Accelerometer/Accelerometer_data_combined.csv'\n",
    "df_combined = combine_activities_curb(df_one,df_two,output)"
   ]
  },
  {
   "cell_type": "code",
   "execution_count": null,
   "id": "33abbfc4",
   "metadata": {},
   "outputs": [
    {
     "data": {
      "text/plain": [
       "curb_scene\n",
       "0.0    383229\n",
       "1.0     10853\n",
       "Name: count, dtype: int64"
      ]
     },
     "execution_count": 48,
     "metadata": {},
     "output_type": "execute_result"
    }
   ],
   "source": [
    "# Downsampling:\n",
    "df = pd.read_csv('../../data/Curb/P3/handlebar/Accelerometer/Accelerometer_data_combined.csv')\n",
    "df_selected = df[['NTP', 'Acc-X', 'Acc-Y', 'Acc-Z', 'curb_scene' ]].copy()\n",
    "categorical_attributes = ['curb_scene']\n",
    "df_100hz = downsample_to_frequency(\n",
    "    df_selected,\n",
    "    target_hz=100,\n",
    "    timestamp_col='NTP',\n",
    "    output_path='../../data/Curb/P3/handlebar/Accelerometer/Accelerometer_data_combined_100hz.csv',\n",
    "    categorical_attributes=categorical_attributes\n",
    ")\n",
    "df_30hz = downsample_to_frequency(\n",
    "    df_selected,\n",
    "    target_hz=30,\n",
    "    timestamp_col='NTP',\n",
    "    output_path='../../data/Curb/P3/handlebar/Accelerometer/Accelerometer_data_combined_30hz.csv',\n",
    "    categorical_attributes=categorical_attributes\n",
    ")"
   ]
  },
  {
   "cell_type": "markdown",
   "id": "913bbe38",
   "metadata": {},
   "source": [
    "## 100HZ, curb scene 0 and 1, window size 0.5s, 50% overlapping"
   ]
  },
  {
   "cell_type": "code",
   "execution_count": null,
   "id": "8ed2b19f",
   "metadata": {},
   "outputs": [],
   "source": [
    "df_combined_100hz = pd.read_csv('../../data/Curb/P3/handlebar/Accelerometer/Accelerometer_data_combined_100hz.csv')\n",
    "df_combined_100hz_0 = df_combined_100hz[df_combined_100hz['curb_scene'] == 0]\n",
    "df_combined_100hz_1 = df_combined_100hz[df_combined_100hz['curb_scene'] == 1]\n",
    "#Segmentation into 50% Overlapping\n",
    "segments_0 = segment_acceleration_data_overlapping_numpy(\n",
    "    df_combined_100hz_0,\n",
    "    window_size=50,   # 0.5s at 100Hz\n",
    "    overlap=50,       # 50% overlap\n",
    "    channels=['Acc-X', 'Acc-Y', 'Acc-Z'],\n",
    ")\n",
    "segments_1 = segment_acceleration_data_overlapping_numpy(\n",
    "    df_combined_100hz_1,\n",
    "    window_size=50,   # 0.5s at 100Hz\n",
    "    overlap=50,       # 50% overlap\n",
    "    channels=['Acc-X', 'Acc-Y', 'Acc-Z'],\n",
    ")\n",
    "#select 0 elements because normal data too many\n",
    "num_segments = segments_0.shape[0]\n",
    "indices = np.random.choice(num_segments, size=segments_1.shape[0], replace=False)\n",
    "selected_segments = segments_0[indices]\n",
    "# Save all arrays (old and new) to the same file with different keys\n",
    "np.savez(\n",
    "    '../../data/Curb/P3/handlebar/Accelerometer/segments_100hz_0.5s_50overlap.npz',\n",
    "    segments_1 = segments_1,\n",
    "    segments_0=selected_segments\n",
    ")"
   ]
  },
  {
   "cell_type": "markdown",
   "id": "d0adfbe2",
   "metadata": {},
   "source": [
    "## 30HZ, curb scene 0 and 1, window size 0.5s, 50% overlapping"
   ]
  },
  {
   "cell_type": "code",
   "execution_count": null,
   "id": "61cffc33",
   "metadata": {},
   "outputs": [],
   "source": [
    "df_combined_30hz = pd.read_csv('../../data/Curb/P3/handlebar/Accelerometer/Accelerometer_data_combined_30hz.csv')\n",
    "df_combined_30hz_0 = df_combined_30hz[df_combined_30hz['curb_scene'] == 0]\n",
    "df_combined_30hz_1 = df_combined_30hz[df_combined_30hz['curb_scene'] == 1]\n",
    "#Segmentation into 50% Overlapping\n",
    "segments_0 = segment_acceleration_data_overlapping_numpy(\n",
    "    df_combined_30hz_0,\n",
    "    window_size=15,   # 0.5s at 30Hz\n",
    "    overlap=50,       # 50% overlap\n",
    "    channels=['Acc-X', 'Acc-Y', 'Acc-Z'],\n",
    ")\n",
    "segments_1 = segment_acceleration_data_overlapping_numpy(\n",
    "    df_combined_30hz_1,\n",
    "    window_size=15,   # 0.5s at 30Hz\n",
    "    overlap=50,       # 50% overlap\n",
    "    channels=['Acc-X', 'Acc-Y', 'Acc-Z'],\n",
    ")\n",
    "#select 0 elements because normal data too many\n",
    "num_segments = segments_0.shape[0]\n",
    "indices = np.random.choice(num_segments, size=segments_1.shape[0], replace=False)\n",
    "selected_segments = segments_0[indices]\n",
    "# Save all arrays (old and new) to the same file with different keys\n",
    "np.savez(\n",
    "    '../../data/Curb/P3/handlebar/Accelerometer/segments_30hz_0.5s_50overlap.npz',\n",
    "    segments_1 = segments_1,\n",
    "    segments_0=selected_segments\n",
    ")"
   ]
  },
  {
   "cell_type": "markdown",
   "id": "a06aff36",
   "metadata": {},
   "source": [
    "## 100HZ, curb scene 0 and 1, window size 1s, 50% overlapping"
   ]
  },
  {
   "cell_type": "code",
   "execution_count": null,
   "id": "09fc2f38",
   "metadata": {},
   "outputs": [],
   "source": [
    "df_combined_100hz = pd.read_csv('../../data/Curb/P3/handlebar/Accelerometer/Accelerometer_data_combined_100hz.csv')\n",
    "df_combined_100hz_0 = df_combined_100hz[df_combined_100hz['curb_scene'] == 0]\n",
    "df_combined_100hz_1 = df_combined_100hz[df_combined_100hz['curb_scene'] == 1]\n",
    "#Segmentation into 50% Overlapping\n",
    "segments_0 = segment_acceleration_data_overlapping_numpy(\n",
    "    df_combined_100hz_0,\n",
    "    window_size=100,   # 1s at 100Hz\n",
    "    overlap=50,       # 50% overlap\n",
    "    channels=['Acc-X', 'Acc-Y', 'Acc-Z'],\n",
    ")\n",
    "segments_1 = segment_acceleration_data_overlapping_numpy(\n",
    "    df_combined_100hz_1,\n",
    "    window_size=100,   # 1s at 100Hz\n",
    "    overlap=50,       # 50% overlap\n",
    "    channels=['Acc-X', 'Acc-Y', 'Acc-Z'],\n",
    ")\n",
    "#select 0 elements because normal data too many\n",
    "num_segments = segments_0.shape[0]\n",
    "indices = np.random.choice(num_segments, size=segments_1.shape[0], replace=False)\n",
    "selected_segments = segments_0[indices]\n",
    "# Save all arrays (old and new) to the same file with different keys\n",
    "np.savez(\n",
    "    '../../data/Curb/P3/handlebar/Accelerometer/segments_100hz_1s_50overlap.npz',\n",
    "    segments_1 = segments_1,\n",
    "    segments_0=selected_segments\n",
    ")"
   ]
  },
  {
   "cell_type": "markdown",
   "id": "788c4e1a",
   "metadata": {},
   "source": [
    "## 30HZ, curb scene 0 and 1, window size 1s, 50% overlapping"
   ]
  },
  {
   "cell_type": "code",
   "execution_count": 5,
   "id": "dc3f3a45",
   "metadata": {},
   "outputs": [],
   "source": [
    "df_combined_30hz = pd.read_csv('../../data/Curb/P3/handlebar/Accelerometer/Accelerometer_data_combined_30hz.csv')\n",
    "df_combined_30hz_0 = df_combined_30hz[df_combined_30hz['curb_scene'] == 0]\n",
    "df_combined_30hz_1 = df_combined_30hz[df_combined_30hz['curb_scene'] == 1]\n",
    "#Segmentation into 50% Overlapping\n",
    "segments_0 = segment_acceleration_data_overlapping_numpy(\n",
    "    df_combined_30hz_0,\n",
    "    window_size=30,   # 1s at 30Hz\n",
    "    overlap=50,       # 50% overlap\n",
    "    channels=['Acc-X', 'Acc-Y', 'Acc-Z'],\n",
    ")\n",
    "segments_1 = segment_acceleration_data_overlapping_numpy(\n",
    "    df_combined_30hz_1,\n",
    "    window_size=30,   # 1s at 30Hz\n",
    "    overlap=50,       # 50% overlap\n",
    "    channels=['Acc-X', 'Acc-Y', 'Acc-Z'],\n",
    ")\n",
    "#select 0 elements because normal data too many\n",
    "num_segments = segments_0.shape[0]\n",
    "indices = np.random.choice(num_segments, size=segments_1.shape[0], replace=False)\n",
    "selected_segments = segments_0[indices]\n",
    "# Save all arrays (old and new) to the same file with different keys\n",
    "np.savez(\n",
    "    '../../data/Curb/P3/handlebar/Accelerometer/segments_30hz_1s_50overlap.npz',\n",
    "    segments_1 = segments_1,\n",
    "    segments_0=selected_segments\n",
    ")"
   ]
  },
  {
   "cell_type": "markdown",
   "id": "a70b92ba",
   "metadata": {},
   "source": []
  }
 ],
 "metadata": {
  "kernelspec": {
   "display_name": "base",
   "language": "python",
   "name": "python3"
  },
  "language_info": {
   "codemirror_mode": {
    "name": "ipython",
    "version": 3
   },
   "file_extension": ".py",
   "mimetype": "text/x-python",
   "name": "python",
   "nbconvert_exporter": "python",
   "pygments_lexer": "ipython3",
   "version": "3.12.3"
  }
 },
 "nbformat": 4,
 "nbformat_minor": 5
}
