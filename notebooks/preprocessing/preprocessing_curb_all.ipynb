{
 "cells": [
  {
   "cell_type": "markdown",
   "id": "6376b0c5",
   "metadata": {},
   "source": [
    "# Preprocessing for Curb Data for all People"
   ]
  },
  {
   "cell_type": "code",
   "execution_count": 2,
   "id": "c0086419",
   "metadata": {},
   "outputs": [],
   "source": [
    "# Enable autoload for just updated files\n",
    "%load_ext autoreload\n",
    "%autoreload 2"
   ]
  },
  {
   "cell_type": "code",
   "execution_count": 3,
   "id": "d3ed9d3e",
   "metadata": {},
   "outputs": [],
   "source": [
    "import sys\n",
    "import numpy as np\n",
    "import random\n",
    "sys.path.append('../../')   # Add parent directory to Python path\n",
    "from utils.preprocessing import *\n",
    "from utils.segmentation import *\n",
    "from utils.visualization import *"
   ]
  },
  {
   "cell_type": "code",
   "execution_count": null,
   "id": "68b9c149",
   "metadata": {},
   "outputs": [],
   "source": [
    "import pandas as pd\n",
    "import numpy as np\n",
    "import os\n",
    "\n",
    "def preprocess_and_segment(esp1_path, esp2_path, combined_output_path,freq_list, window_sizes, overlap, channels, scene_col='curb_scene|'):\n",
    "    # 1. Handle missing values for ESP1\n",
    "    df_one = pd.read_csv(esp1_path)\n",
    "    output1 = esp1_path.replace('.csv', '_filled_missing_values.csv')\n",
    "    fill_missing_values_curb(df_one, output1)\n",
    "    \n",
    "    # 2. Handle missing values for ESP2\n",
    "    df_two = pd.read_csv(esp2_path)\n",
    "    output2 = esp2_path.replace('.csv', '_filled_missing_values.csv')\n",
    "    fill_missing_values_curb(df_two, output2)\n",
    "    \n",
    "    # 3. Combine the two ESP dataframes into one\n",
    "    df_combined = combine_activities_curb(df_one, df_two, combined_output_path)\n",
    "    \n",
    "    # 4. For each frequency and window size combination\n",
    "    for freq, win_size in zip(freq_list, window_sizes):\n",
    "        # 4a. Downsample the combined dataframe to the target frequency\n",
    "        downsampled_path = combined_output_path.replace('.csv', f'_{freq}hz.csv')\n",
    "        df_down = downsample_to_frequency(df_combined, target_hz=freq, timestamp_col='NTP',output_path=downsampled_path, categorical_attributes=[scene_col])\n",
    "        \n",
    "        # 4b. For each scene (e.g., curb_scene == 0 or 1)\n",
    "        for scene in [0, 1]:\n",
    "            # Filter the dataframe for the current scene\n",
    "            df_scene = df_down[df_down[scene_col] == scene]\n",
    "             # Segment the data into overlapping windows\n",
    "            segments = segment_acceleration_data_overlapping_numpy(df_scene, window_size=win_size, overlap=overlap, channels=channels)\n",
    "            # Save the segmented data as a .npz file\n",
    "            np.savez(downsampled_path.replace('.csv', f'_scene{scene}_segments.npz'),segments=segments)"
   ]
  },
  {
   "cell_type": "markdown",
   "id": "cf801b6e",
   "metadata": {},
   "source": [
    "## Usage:"
   ]
  },
  {
   "cell_type": "code",
   "execution_count": null,
   "id": "ec0c9074",
   "metadata": {},
   "outputs": [],
   "source": [
    "folders = [\n",
    "    {\n",
    "        \"esp1\": \"../../data/Curb/P6/handlebar/Accelerometer/Accelerometer_data_merged_ESP1.csv\",\n",
    "        \"esp2\": \"../../data/Curb/P6/handlebar/Accelerometer/Accelerometer_data_merged_ESP2.csv\",\n",
    "        \"combined\": \"../../data/Curb/P6/handlebar/Accelerometer/Accelerometer_data_combined.csv\",\n",
    "        \"freq_list\": [100, 30],\n",
    "        \"window_sizes\": [50, 15],  # 0.5s at 100Hz and 30Hz\n",
    "        \"overlap\": 50,\n",
    "        \"channels\": ['Acc-X', 'Acc-Y', 'Acc-Z']\n",
    "    },\n",
    "    # Add more dicts for other folders/experiments\n",
    "]\n",
    "\n",
    "for f in folders:\n",
    "    preprocess_and_segment(f[\"esp1\"], f[\"esp2\"], f[\"combined\"],f[\"freq_list\"], f[\"window_sizes\"], f[\"overlap\"], f[\"channels\"])"
   ]
  },
  {
   "cell_type": "code",
   "execution_count": null,
   "id": "cb5f72eb",
   "metadata": {},
   "outputs": [],
   "source": []
  }
 ],
 "metadata": {
  "kernelspec": {
   "display_name": "base",
   "language": "python",
   "name": "python3"
  },
  "language_info": {
   "codemirror_mode": {
    "name": "ipython",
    "version": 3
   },
   "file_extension": ".py",
   "mimetype": "text/x-python",
   "name": "python",
   "nbconvert_exporter": "python",
   "pygments_lexer": "ipython3",
   "version": "3.12.3"
  }
 },
 "nbformat": 4,
 "nbformat_minor": 5
}
