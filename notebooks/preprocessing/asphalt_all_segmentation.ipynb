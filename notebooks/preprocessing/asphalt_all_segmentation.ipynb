{
 "cells": [
  {
   "cell_type": "markdown",
   "id": "6376b0c5",
   "metadata": {},
   "source": [
    "## Segmentation for asphalt for all People"
   ]
  },
  {
   "cell_type": "code",
   "execution_count": 1,
   "id": "c0086419",
   "metadata": {},
   "outputs": [],
   "source": [
    "# Enable autoload for just updated files\n",
    "%load_ext autoreload\n",
    "%autoreload 2"
   ]
  },
  {
   "cell_type": "code",
   "execution_count": 2,
   "id": "d3ed9d3e",
   "metadata": {},
   "outputs": [],
   "source": [
    "import sys\n",
    "import numpy as np\n",
    "import random\n",
    "sys.path.append('../../')   # Add parent directory to Python path\n",
    "from utils.preprocessing import *\n",
    "from utils.segmentation import *\n",
    "from utils.visualization import *\n",
    "from utils.automatisierung import *"
   ]
  },
  {
   "cell_type": "markdown",
   "id": "cf801b6e",
   "metadata": {},
   "source": [
    "## Use:"
   ]
  },
  {
   "cell_type": "code",
   "execution_count": null,
   "id": "eb6373de",
   "metadata": {},
   "outputs": [],
   "source": [
    "import os\n",
    "\n",
    "def preprocess_and_segment_road(esp_path,freq_list, window_sizes, overlap, channels):\n",
    "    # 1. Handle missing values for ESP1\n",
    "    df_one = pd.read_csv(esp_path)\n",
    "\n",
    "    # Make sure NTP is datetime and set as index\n",
    "    df_one['NTP'] = pd.to_datetime(df_one['NTP'])\n",
    "\n",
    "    df_selected = df_one[['NTP', 'Acc-X', 'Acc-Y', 'Acc-Z']].copy()\n",
    "\n",
    "    # 2. For each frequency and window size combination\n",
    "    for freq, win_size in zip(freq_list, window_sizes):\n",
    "        # 4a. Downsample the combined dataframe to the target frequency\n",
    "        downsampled_path = esp_path.replace('.csv', f'_{freq}hz.csv')\n",
    "        df_down = downsample_to_frequency(df_selected, target_hz=freq, timestamp_col='NTP',output_path=downsampled_path, categorical_attributes=None)\n",
    "        # Segment the data into overlapping windows\n",
    "        segments = segment_acceleration_data_overlapping_numpy(df_down, window_size=win_size, overlap=overlap, channels=channels)\n",
    "\n",
    "        # Calculate window size in seconds for better naming\n",
    "        seconds = win_size / freq\n",
    "        \n",
    "        # Extract directory for proper path construction\n",
    "        directory = os.path.dirname(esp_path)\n",
    "        \n",
    "        # Create the segments filename with proper format\n",
    "        segment_filename = f'segments_{freq}hz_{seconds}s_{overlap}overlap.npz'\n",
    "        segment_path = os.path.join(directory, segment_filename)\n",
    "        \n",
    "        # Save the segmented data as a .npz file\n",
    "        np.savez(segment_path, segments=segments)"
   ]
  },
  {
   "cell_type": "code",
   "execution_count": 21,
   "id": "ec0c9074",
   "metadata": {},
   "outputs": [
    {
     "name": "stdout",
     "output_type": "stream",
     "text": [
      "Saved 120 segments to ../../data/RoadRoughness/Raw/Asphalt/P2\\segments_100hz_0.5s_50overlap.npz\n",
      "Saved 130 segments to ../../data/RoadRoughness/Raw/Asphalt/P2\\segments_30hz_0.5s_50overlap.npz\n",
      "Saved 81 segments to ../../data/RoadRoughness/Raw/Asphalt/P3\\segments_100hz_0.5s_50overlap.npz\n",
      "Saved 88 segments to ../../data/RoadRoughness/Raw/Asphalt/P3\\segments_30hz_0.5s_50overlap.npz\n",
      "Saved 74 segments to ../../data/RoadRoughness/Raw/Asphalt/P4\\segments_100hz_0.5s_50overlap.npz\n",
      "Saved 81 segments to ../../data/RoadRoughness/Raw/Asphalt/P4\\segments_30hz_0.5s_50overlap.npz\n",
      "Saved 114 segments to ../../data/RoadRoughness/Raw/Asphalt/P5\\segments_100hz_0.5s_50overlap.npz\n",
      "Saved 123 segments to ../../data/RoadRoughness/Raw/Asphalt/P5\\segments_30hz_0.5s_50overlap.npz\n",
      "Saved 106 segments to ../../data/RoadRoughness/Raw/Asphalt/P6\\segments_100hz_0.5s_50overlap.npz\n",
      "Saved 114 segments to ../../data/RoadRoughness/Raw/Asphalt/P6\\segments_30hz_0.5s_50overlap.npz\n",
      "Saved 78 segments to ../../data/RoadRoughness/Raw/Asphalt/P7\\segments_100hz_0.5s_50overlap.npz\n",
      "Saved 85 segments to ../../data/RoadRoughness/Raw/Asphalt/P7\\segments_30hz_0.5s_50overlap.npz\n",
      "Saved 86 segments to ../../data/RoadRoughness/Raw/Asphalt/P8\\segments_100hz_0.5s_50overlap.npz\n",
      "Saved 93 segments to ../../data/RoadRoughness/Raw/Asphalt/P8\\segments_30hz_0.5s_50overlap.npz\n",
      "Saved 190 segments to ../../data/RoadRoughness/Raw/Asphalt/P9\\segments_100hz_0.5s_50overlap.npz\n",
      "Saved 205 segments to ../../data/RoadRoughness/Raw/Asphalt/P9\\segments_30hz_0.5s_50overlap.npz\n",
      "Saved 93 segments to ../../data/RoadRoughness/Raw/Asphalt/P10\\segments_100hz_0.5s_50overlap.npz\n",
      "Saved 101 segments to ../../data/RoadRoughness/Raw/Asphalt/P10\\segments_30hz_0.5s_50overlap.npz\n"
     ]
    }
   ],
   "source": [
    "folders = [\n",
    "    {\n",
    "        \"asphalt\": \"../../data/RoadRoughness/Raw/Asphalt/P2/Accelerometer_filtered_e1.csv\",\n",
    "        \"window_sizes\": [50, 15],  # 0.5s at 100Hz and 30Hz\n",
    "        \"freq_list\": [100, 30],\n",
    "        \"overlap\": 50,\n",
    "        \"channels\": ['Acc-X', 'Acc-Y', 'Acc-Z']\n",
    "    },\n",
    "    {\n",
    "        \"asphalt\": \"../../data/RoadRoughness/Raw/Asphalt/P3/Accelerometer_filtered_e2.csv\",\n",
    "        \"freq_list\": [100, 30],\n",
    "        \"window_sizes\": [50, 15],  # 0.5s at 100Hz and 30Hz\n",
    "        \"overlap\": 50,\n",
    "        \"channels\": ['Acc-X', 'Acc-Y', 'Acc-Z']\n",
    "    },\n",
    "    {\n",
    "        \"asphalt\": \"../../data/RoadRoughness/Raw/Asphalt/P4/Accelerometer_filtered_e1.csv\",\n",
    "        \"freq_list\": [100, 30],\n",
    "        \"window_sizes\": [50, 15],  # 0.5s at 100Hz and 30Hz\n",
    "        \"overlap\": 50,\n",
    "        \"channels\": ['Acc-X', 'Acc-Y', 'Acc-Z']\n",
    "    },\n",
    "    {\n",
    "        \"asphalt\": \"../../data/RoadRoughness/Raw/Asphalt/P5/Accelerometer_filtered_e1.csv\",\n",
    "        \"freq_list\": [100, 30],\n",
    "        \"window_sizes\": [50, 15],  # 0.5s at 100Hz and 30Hz\n",
    "        \"overlap\": 50,\n",
    "        \"channels\": ['Acc-X', 'Acc-Y', 'Acc-Z']\n",
    "    },\n",
    "    {\n",
    "        \"asphalt\": \"../../data/RoadRoughness/Raw/Asphalt/P6/Accelerometer_filtered_e1.csv\",\n",
    "        \"freq_list\": [100, 30],\n",
    "        \"window_sizes\": [50, 15],  # 0.5s at 100Hz and 30Hz\n",
    "        \"overlap\": 50,\n",
    "        \"channels\": ['Acc-X', 'Acc-Y', 'Acc-Z']\n",
    "    },\n",
    "    {\n",
    "        \"asphalt\": \"../../data/RoadRoughness/Raw/Asphalt/P7/Accelerometer_filtered_e1.csv\",\n",
    "        \"freq_list\": [100, 30],\n",
    "        \"window_sizes\": [50, 15],  # 0.5s at 100Hz and 30Hz\n",
    "        \"overlap\": 50,\n",
    "        \"channels\": ['Acc-X', 'Acc-Y', 'Acc-Z']\n",
    "    },\n",
    "    {\n",
    "        \"asphalt\": \"../../data/RoadRoughness/Raw/Asphalt/P8/Accelerometer_filtered_e1.csv\",\n",
    "        \"freq_list\": [100, 30],\n",
    "        \"window_sizes\": [50, 15],  # 0.5s at 100Hz and 30Hz\n",
    "        \"overlap\": 50,\n",
    "        \"channels\": ['Acc-X', 'Acc-Y', 'Acc-Z']\n",
    "    },\n",
    "    {\n",
    "        \"asphalt\": \"../../data/RoadRoughness/Raw/Asphalt/P9/Accelerometer_filtered_e1.csv\",\n",
    "        \"freq_list\": [100, 30],\n",
    "        \"window_sizes\": [50, 15],  # 0.5s at 100Hz and 30Hz\n",
    "        \"overlap\": 50,\n",
    "        \"channels\": ['Acc-X', 'Acc-Y', 'Acc-Z']\n",
    "    },\n",
    "    {\n",
    "        \"asphalt\": \"../../data/RoadRoughness/Raw/Asphalt/P10/Accelerometer_filtered_e1.csv\",\n",
    "        \"freq_list\": [100, 30],\n",
    "        \"window_sizes\": [50, 15],  # 0.5s at 100Hz and 30Hz\n",
    "        \"overlap\": 50,\n",
    "        \"channels\": ['Acc-X', 'Acc-Y', 'Acc-Z']\n",
    "    },\n",
    "]\n",
    "\n",
    "for f in folders:\n",
    "    preprocess_and_segment_road(f[\"asphalt\"], f[\"freq_list\"], f[\"window_sizes\"], f[\"overlap\"], f[\"channels\"])"
   ]
  },
  {
   "cell_type": "code",
   "execution_count": null,
   "id": "cb5f72eb",
   "metadata": {},
   "outputs": [],
   "source": []
  }
 ],
 "metadata": {
  "kernelspec": {
   "display_name": "base",
   "language": "python",
   "name": "python3"
  },
  "language_info": {
   "codemirror_mode": {
    "name": "ipython",
    "version": 3
   },
   "file_extension": ".py",
   "mimetype": "text/x-python",
   "name": "python",
   "nbconvert_exporter": "python",
   "pygments_lexer": "ipython3",
   "version": "3.12.3"
  }
 },
 "nbformat": 4,
 "nbformat_minor": 5
}
