{
 "cells": [
  {
   "cell_type": "markdown",
   "id": "6376b0c5",
   "metadata": {},
   "source": [
    "# Downsampling testen and check correctness"
   ]
  },
  {
   "cell_type": "code",
   "execution_count": 1,
   "id": "c0086419",
   "metadata": {},
   "outputs": [],
   "source": [
    "# Enable autoload for just updated files\n",
    "%load_ext autoreload\n",
    "%autoreload 2"
   ]
  },
  {
   "cell_type": "code",
   "execution_count": 20,
   "id": "d3ed9d3e",
   "metadata": {},
   "outputs": [],
   "source": [
    "import sys\n",
    "import numpy as np\n",
    "import random\n",
    "sys.path.append('../../')   # Add parent directory to Python path\n",
    "from utils.preprocessing import *\n",
    "from utils.segmentation import *\n",
    "from utils.visualization import *"
   ]
  },
  {
   "cell_type": "markdown",
   "id": "e49508b5",
   "metadata": {},
   "source": [
    "## Check downsampling Correctness"
   ]
  },
  {
   "cell_type": "code",
   "execution_count": null,
   "id": "1519a6e5",
   "metadata": {},
   "outputs": [],
   "source": [
    "def check_random_curb_before(df, scene_col='curb_scene', scene_value=1.0, window=10, time_col='NTP'):\n",
    "    \"\"\"\n",
    "    Randomly selects a timestamp where curb_scene == scene_value and prints a window of rows around it.\n",
    "    \"\"\"\n",
    "    # Filter curb scenes\n",
    "    df_curb = df[df[scene_col] == scene_value]\n",
    "    if df_curb.empty:\n",
    "        print(\"No curb scenes found.\")\n",
    "        return\n",
    "    random_time = df_curb[time_col].sample(1).iloc[0]\n",
    "    print(f\"Random curb scene time: {random_time}\")\n",
    "    # Find the index of this timestamp in the original DataFrame\n",
    "    random_idx = df.index[df[time_col] == random_time][0]\n",
    "    # Show a window of rows around the selected curb\n",
    "    start = max(random_idx - window, 0)\n",
    "    end = min(random_idx + window, len(df) - 1)\n",
    "    df_random_curb = df.iloc[start:end+1].copy()\n",
    "    plot_accelerometer_data(df_random_curb, None)"
   ]
  },
  {
   "cell_type": "code",
   "execution_count": null,
   "id": "1ca074c6",
   "metadata": {},
   "outputs": [
    {
     "name": "stdout",
     "output_type": "stream",
     "text": [
      "Random curb scene time: 2024-07-29 14:39:33.420000\n"
     ]
    },
    {
     "data": {
      "application/vnd.plotly.v1+json": {
       "config": {
        "plotlyServerURL": "https://plot.ly"
       },
       "data": [
        {
         "mode": "lines",
         "name": "Acc-Z",
         "type": "scatter",
         "x": [
          "2024-07-29T14:39:33.377000000",
          "2024-07-29T14:39:33.381000000",
          "2024-07-29T14:39:33.382000000",
          "2024-07-29T14:39:33.391000000",
          "2024-07-29T14:39:33.392000000",
          "2024-07-29T14:39:33.397000000",
          "2024-07-29T14:39:33.400000000",
          "2024-07-29T14:39:33.406000000",
          "2024-07-29T14:39:33.410000000",
          "2024-07-29T14:39:33.416000000",
          "2024-07-29T14:39:33.420000000",
          "2024-07-29T14:39:33.429000000",
          "2024-07-29T14:39:33.429000000",
          "2024-07-29T14:39:33.439000000",
          "2024-07-29T14:39:33.440000000",
          "2024-07-29T14:39:33.441000000",
          "2024-07-29T14:39:33.447000000",
          "2024-07-29T14:39:33.451000000",
          "2024-07-29T14:39:33.456000000",
          "2024-07-29T14:39:33.460000000",
          "2024-07-29T14:39:33.467000000"
         ],
         "y": {
          "bdata": "G/LPDOLbK0Aprir7rqAzQCmuKvuuoDNAS65i8ZtKLkCtbEAAgM7cP2/GH/sP/wPATtNnB1xHGkDCiH0CKOYxQCz1LAjl9TBAlb/WAACDHkDlrzUAwBbgv2cBZgCgseI/8KMa9nsCH0ANN+Dzw7gnQEQxeQPMjB5ARDF5A8yMHkBKmGn7V9YOQKl7rgDwmQbAvTeGAOCoAcATbqYAIADjv5+OxwxU5hhA",
          "dtype": "f8"
         }
        },
        {
         "mode": "lines",
         "name": "Acc-Y",
         "type": "scatter",
         "x": [
          "2024-07-29T14:39:33.377000000",
          "2024-07-29T14:39:33.381000000",
          "2024-07-29T14:39:33.382000000",
          "2024-07-29T14:39:33.391000000",
          "2024-07-29T14:39:33.392000000",
          "2024-07-29T14:39:33.397000000",
          "2024-07-29T14:39:33.400000000",
          "2024-07-29T14:39:33.406000000",
          "2024-07-29T14:39:33.410000000",
          "2024-07-29T14:39:33.416000000",
          "2024-07-29T14:39:33.420000000",
          "2024-07-29T14:39:33.429000000",
          "2024-07-29T14:39:33.429000000",
          "2024-07-29T14:39:33.439000000",
          "2024-07-29T14:39:33.440000000",
          "2024-07-29T14:39:33.441000000",
          "2024-07-29T14:39:33.447000000",
          "2024-07-29T14:39:33.451000000",
          "2024-07-29T14:39:33.456000000",
          "2024-07-29T14:39:33.460000000",
          "2024-07-29T14:39:33.467000000"
         ],
         "y": {
          "bdata": "WdmAAACdwz9ZKU7/o3AYwFkpTv+jcBjAem8MAcAx7L9l6DP7l08CQPRJtAUAnqO/GyrG+ZtQEcARct7/xw0kwHNMFvcfaSHA//gB/t/HCcC2o5MAkE4DQAmM9Q1MvhRABVH3AUjtFkDCiH0CKOYhQACt+fGXnitAAK358ZeeK0DRItv5fiY1QNTuVwG+AzlAZ5qw/WR4OkCWW1oNiTs2QATo9/2b1yhA",
          "dtype": "f8"
         }
        },
        {
         "mode": "lines",
         "name": "Acc-X",
         "type": "scatter",
         "x": [
          "2024-07-29T14:39:33.377000000",
          "2024-07-29T14:39:33.381000000",
          "2024-07-29T14:39:33.382000000",
          "2024-07-29T14:39:33.391000000",
          "2024-07-29T14:39:33.392000000",
          "2024-07-29T14:39:33.397000000",
          "2024-07-29T14:39:33.400000000",
          "2024-07-29T14:39:33.406000000",
          "2024-07-29T14:39:33.410000000",
          "2024-07-29T14:39:33.416000000",
          "2024-07-29T14:39:33.420000000",
          "2024-07-29T14:39:33.429000000",
          "2024-07-29T14:39:33.429000000",
          "2024-07-29T14:39:33.439000000",
          "2024-07-29T14:39:33.440000000",
          "2024-07-29T14:39:33.441000000",
          "2024-07-29T14:39:33.447000000",
          "2024-07-29T14:39:33.451000000",
          "2024-07-29T14:39:33.456000000",
          "2024-07-29T14:39:33.460000000",
          "2024-07-29T14:39:33.467000000"
         ],
         "y": {
          "bdata": "lIPZBBgWH0D+gAcGEJ7yP/6ABwYQnvI/g4L3+v898L/EGar//0HPP2GeOvtvqvk/ZHA5A8h1A0CcU8kAUIX3P0qYaftXRgtATPJtC+CX+D8TbqYAIMDnP/6ABwYQ7gpACF/zBYjdB0Bhnjr7b0r3P1P+WgMAbK2/U/5aAwBsrb/wWCIGcGn/v/uuCP63AgrAa0Ap//+cE8DAgX8ACM4TwPncCfZfB/+/",
          "dtype": "f8"
         }
        }
       ],
       "layout": {
        "autosize": true,
        "legend": {
         "title": {
          "text": "Axis"
         }
        },
        "template": {
         "data": {
          "bar": [
           {
            "error_x": {
             "color": "#2a3f5f"
            },
            "error_y": {
             "color": "#2a3f5f"
            },
            "marker": {
             "line": {
              "color": "white",
              "width": 0.5
             },
             "pattern": {
              "fillmode": "overlay",
              "size": 10,
              "solidity": 0.2
             }
            },
            "type": "bar"
           }
          ],
          "barpolar": [
           {
            "marker": {
             "line": {
              "color": "white",
              "width": 0.5
             },
             "pattern": {
              "fillmode": "overlay",
              "size": 10,
              "solidity": 0.2
             }
            },
            "type": "barpolar"
           }
          ],
          "carpet": [
           {
            "aaxis": {
             "endlinecolor": "#2a3f5f",
             "gridcolor": "#C8D4E3",
             "linecolor": "#C8D4E3",
             "minorgridcolor": "#C8D4E3",
             "startlinecolor": "#2a3f5f"
            },
            "baxis": {
             "endlinecolor": "#2a3f5f",
             "gridcolor": "#C8D4E3",
             "linecolor": "#C8D4E3",
             "minorgridcolor": "#C8D4E3",
             "startlinecolor": "#2a3f5f"
            },
            "type": "carpet"
           }
          ],
          "choropleth": [
           {
            "colorbar": {
             "outlinewidth": 0,
             "ticks": ""
            },
            "type": "choropleth"
           }
          ],
          "contour": [
           {
            "colorbar": {
             "outlinewidth": 0,
             "ticks": ""
            },
            "colorscale": [
             [
              0,
              "#0d0887"
             ],
             [
              0.1111111111111111,
              "#46039f"
             ],
             [
              0.2222222222222222,
              "#7201a8"
             ],
             [
              0.3333333333333333,
              "#9c179e"
             ],
             [
              0.4444444444444444,
              "#bd3786"
             ],
             [
              0.5555555555555556,
              "#d8576b"
             ],
             [
              0.6666666666666666,
              "#ed7953"
             ],
             [
              0.7777777777777778,
              "#fb9f3a"
             ],
             [
              0.8888888888888888,
              "#fdca26"
             ],
             [
              1,
              "#f0f921"
             ]
            ],
            "type": "contour"
           }
          ],
          "contourcarpet": [
           {
            "colorbar": {
             "outlinewidth": 0,
             "ticks": ""
            },
            "type": "contourcarpet"
           }
          ],
          "heatmap": [
           {
            "colorbar": {
             "outlinewidth": 0,
             "ticks": ""
            },
            "colorscale": [
             [
              0,
              "#0d0887"
             ],
             [
              0.1111111111111111,
              "#46039f"
             ],
             [
              0.2222222222222222,
              "#7201a8"
             ],
             [
              0.3333333333333333,
              "#9c179e"
             ],
             [
              0.4444444444444444,
              "#bd3786"
             ],
             [
              0.5555555555555556,
              "#d8576b"
             ],
             [
              0.6666666666666666,
              "#ed7953"
             ],
             [
              0.7777777777777778,
              "#fb9f3a"
             ],
             [
              0.8888888888888888,
              "#fdca26"
             ],
             [
              1,
              "#f0f921"
             ]
            ],
            "type": "heatmap"
           }
          ],
          "histogram": [
           {
            "marker": {
             "pattern": {
              "fillmode": "overlay",
              "size": 10,
              "solidity": 0.2
             }
            },
            "type": "histogram"
           }
          ],
          "histogram2d": [
           {
            "colorbar": {
             "outlinewidth": 0,
             "ticks": ""
            },
            "colorscale": [
             [
              0,
              "#0d0887"
             ],
             [
              0.1111111111111111,
              "#46039f"
             ],
             [
              0.2222222222222222,
              "#7201a8"
             ],
             [
              0.3333333333333333,
              "#9c179e"
             ],
             [
              0.4444444444444444,
              "#bd3786"
             ],
             [
              0.5555555555555556,
              "#d8576b"
             ],
             [
              0.6666666666666666,
              "#ed7953"
             ],
             [
              0.7777777777777778,
              "#fb9f3a"
             ],
             [
              0.8888888888888888,
              "#fdca26"
             ],
             [
              1,
              "#f0f921"
             ]
            ],
            "type": "histogram2d"
           }
          ],
          "histogram2dcontour": [
           {
            "colorbar": {
             "outlinewidth": 0,
             "ticks": ""
            },
            "colorscale": [
             [
              0,
              "#0d0887"
             ],
             [
              0.1111111111111111,
              "#46039f"
             ],
             [
              0.2222222222222222,
              "#7201a8"
             ],
             [
              0.3333333333333333,
              "#9c179e"
             ],
             [
              0.4444444444444444,
              "#bd3786"
             ],
             [
              0.5555555555555556,
              "#d8576b"
             ],
             [
              0.6666666666666666,
              "#ed7953"
             ],
             [
              0.7777777777777778,
              "#fb9f3a"
             ],
             [
              0.8888888888888888,
              "#fdca26"
             ],
             [
              1,
              "#f0f921"
             ]
            ],
            "type": "histogram2dcontour"
           }
          ],
          "mesh3d": [
           {
            "colorbar": {
             "outlinewidth": 0,
             "ticks": ""
            },
            "type": "mesh3d"
           }
          ],
          "parcoords": [
           {
            "line": {
             "colorbar": {
              "outlinewidth": 0,
              "ticks": ""
             }
            },
            "type": "parcoords"
           }
          ],
          "pie": [
           {
            "automargin": true,
            "type": "pie"
           }
          ],
          "scatter": [
           {
            "fillpattern": {
             "fillmode": "overlay",
             "size": 10,
             "solidity": 0.2
            },
            "type": "scatter"
           }
          ],
          "scatter3d": [
           {
            "line": {
             "colorbar": {
              "outlinewidth": 0,
              "ticks": ""
             }
            },
            "marker": {
             "colorbar": {
              "outlinewidth": 0,
              "ticks": ""
             }
            },
            "type": "scatter3d"
           }
          ],
          "scattercarpet": [
           {
            "marker": {
             "colorbar": {
              "outlinewidth": 0,
              "ticks": ""
             }
            },
            "type": "scattercarpet"
           }
          ],
          "scattergeo": [
           {
            "marker": {
             "colorbar": {
              "outlinewidth": 0,
              "ticks": ""
             }
            },
            "type": "scattergeo"
           }
          ],
          "scattergl": [
           {
            "marker": {
             "colorbar": {
              "outlinewidth": 0,
              "ticks": ""
             }
            },
            "type": "scattergl"
           }
          ],
          "scattermap": [
           {
            "marker": {
             "colorbar": {
              "outlinewidth": 0,
              "ticks": ""
             }
            },
            "type": "scattermap"
           }
          ],
          "scattermapbox": [
           {
            "marker": {
             "colorbar": {
              "outlinewidth": 0,
              "ticks": ""
             }
            },
            "type": "scattermapbox"
           }
          ],
          "scatterpolar": [
           {
            "marker": {
             "colorbar": {
              "outlinewidth": 0,
              "ticks": ""
             }
            },
            "type": "scatterpolar"
           }
          ],
          "scatterpolargl": [
           {
            "marker": {
             "colorbar": {
              "outlinewidth": 0,
              "ticks": ""
             }
            },
            "type": "scatterpolargl"
           }
          ],
          "scatterternary": [
           {
            "marker": {
             "colorbar": {
              "outlinewidth": 0,
              "ticks": ""
             }
            },
            "type": "scatterternary"
           }
          ],
          "surface": [
           {
            "colorbar": {
             "outlinewidth": 0,
             "ticks": ""
            },
            "colorscale": [
             [
              0,
              "#0d0887"
             ],
             [
              0.1111111111111111,
              "#46039f"
             ],
             [
              0.2222222222222222,
              "#7201a8"
             ],
             [
              0.3333333333333333,
              "#9c179e"
             ],
             [
              0.4444444444444444,
              "#bd3786"
             ],
             [
              0.5555555555555556,
              "#d8576b"
             ],
             [
              0.6666666666666666,
              "#ed7953"
             ],
             [
              0.7777777777777778,
              "#fb9f3a"
             ],
             [
              0.8888888888888888,
              "#fdca26"
             ],
             [
              1,
              "#f0f921"
             ]
            ],
            "type": "surface"
           }
          ],
          "table": [
           {
            "cells": {
             "fill": {
              "color": "#EBF0F8"
             },
             "line": {
              "color": "white"
             }
            },
            "header": {
             "fill": {
              "color": "#C8D4E3"
             },
             "line": {
              "color": "white"
             }
            },
            "type": "table"
           }
          ]
         },
         "layout": {
          "annotationdefaults": {
           "arrowcolor": "#2a3f5f",
           "arrowhead": 0,
           "arrowwidth": 1
          },
          "autotypenumbers": "strict",
          "coloraxis": {
           "colorbar": {
            "outlinewidth": 0,
            "ticks": ""
           }
          },
          "colorscale": {
           "diverging": [
            [
             0,
             "#8e0152"
            ],
            [
             0.1,
             "#c51b7d"
            ],
            [
             0.2,
             "#de77ae"
            ],
            [
             0.3,
             "#f1b6da"
            ],
            [
             0.4,
             "#fde0ef"
            ],
            [
             0.5,
             "#f7f7f7"
            ],
            [
             0.6,
             "#e6f5d0"
            ],
            [
             0.7,
             "#b8e186"
            ],
            [
             0.8,
             "#7fbc41"
            ],
            [
             0.9,
             "#4d9221"
            ],
            [
             1,
             "#276419"
            ]
           ],
           "sequential": [
            [
             0,
             "#0d0887"
            ],
            [
             0.1111111111111111,
             "#46039f"
            ],
            [
             0.2222222222222222,
             "#7201a8"
            ],
            [
             0.3333333333333333,
             "#9c179e"
            ],
            [
             0.4444444444444444,
             "#bd3786"
            ],
            [
             0.5555555555555556,
             "#d8576b"
            ],
            [
             0.6666666666666666,
             "#ed7953"
            ],
            [
             0.7777777777777778,
             "#fb9f3a"
            ],
            [
             0.8888888888888888,
             "#fdca26"
            ],
            [
             1,
             "#f0f921"
            ]
           ],
           "sequentialminus": [
            [
             0,
             "#0d0887"
            ],
            [
             0.1111111111111111,
             "#46039f"
            ],
            [
             0.2222222222222222,
             "#7201a8"
            ],
            [
             0.3333333333333333,
             "#9c179e"
            ],
            [
             0.4444444444444444,
             "#bd3786"
            ],
            [
             0.5555555555555556,
             "#d8576b"
            ],
            [
             0.6666666666666666,
             "#ed7953"
            ],
            [
             0.7777777777777778,
             "#fb9f3a"
            ],
            [
             0.8888888888888888,
             "#fdca26"
            ],
            [
             1,
             "#f0f921"
            ]
           ]
          },
          "colorway": [
           "#636efa",
           "#EF553B",
           "#00cc96",
           "#ab63fa",
           "#FFA15A",
           "#19d3f3",
           "#FF6692",
           "#B6E880",
           "#FF97FF",
           "#FECB52"
          ],
          "font": {
           "color": "#2a3f5f"
          },
          "geo": {
           "bgcolor": "white",
           "lakecolor": "white",
           "landcolor": "white",
           "showlakes": true,
           "showland": true,
           "subunitcolor": "#C8D4E3"
          },
          "hoverlabel": {
           "align": "left"
          },
          "hovermode": "closest",
          "mapbox": {
           "style": "light"
          },
          "paper_bgcolor": "white",
          "plot_bgcolor": "white",
          "polar": {
           "angularaxis": {
            "gridcolor": "#EBF0F8",
            "linecolor": "#EBF0F8",
            "ticks": ""
           },
           "bgcolor": "white",
           "radialaxis": {
            "gridcolor": "#EBF0F8",
            "linecolor": "#EBF0F8",
            "ticks": ""
           }
          },
          "scene": {
           "xaxis": {
            "backgroundcolor": "white",
            "gridcolor": "#DFE8F3",
            "gridwidth": 2,
            "linecolor": "#EBF0F8",
            "showbackground": true,
            "ticks": "",
            "zerolinecolor": "#EBF0F8"
           },
           "yaxis": {
            "backgroundcolor": "white",
            "gridcolor": "#DFE8F3",
            "gridwidth": 2,
            "linecolor": "#EBF0F8",
            "showbackground": true,
            "ticks": "",
            "zerolinecolor": "#EBF0F8"
           },
           "zaxis": {
            "backgroundcolor": "white",
            "gridcolor": "#DFE8F3",
            "gridwidth": 2,
            "linecolor": "#EBF0F8",
            "showbackground": true,
            "ticks": "",
            "zerolinecolor": "#EBF0F8"
           }
          },
          "shapedefaults": {
           "line": {
            "color": "#2a3f5f"
           }
          },
          "ternary": {
           "aaxis": {
            "gridcolor": "#DFE8F3",
            "linecolor": "#A2B1C6",
            "ticks": ""
           },
           "baxis": {
            "gridcolor": "#DFE8F3",
            "linecolor": "#A2B1C6",
            "ticks": ""
           },
           "bgcolor": "white",
           "caxis": {
            "gridcolor": "#DFE8F3",
            "linecolor": "#A2B1C6",
            "ticks": ""
           }
          },
          "title": {
           "x": 0.05
          },
          "xaxis": {
           "automargin": true,
           "gridcolor": "#EBF0F8",
           "linecolor": "#EBF0F8",
           "ticks": "",
           "title": {
            "standoff": 15
           },
           "zerolinecolor": "#EBF0F8",
           "zerolinewidth": 2
          },
          "yaxis": {
           "automargin": true,
           "gridcolor": "#EBF0F8",
           "linecolor": "#EBF0F8",
           "ticks": "",
           "title": {
            "standoff": 15
           },
           "zerolinecolor": "#EBF0F8",
           "zerolinewidth": 2
          }
         }
        },
        "title": {},
        "xaxis": {
         "title": {
          "text": "Time"
         }
        },
        "yaxis": {
         "title": {
          "text": "Acceleration (m/s^2)"
         }
        }
       }
      }
     },
     "metadata": {},
     "output_type": "display_data"
    },
    {
     "name": "stdout",
     "output_type": "stream",
     "text": [
      "Sampling frequency: 98.23 Hz\n"
     ]
    }
   ],
   "source": [
    "df_combined = pd.read_csv('../../data/Curb/P3/handlebar/Accelerometer/Accelerometer_data_combined.csv')\n",
    "check_random_curb_before(df_combined)\n",
    "print_sampling_frequency(df_combined, 'NTP')\n"
   ]
  },
  {
   "cell_type": "code",
   "execution_count": 47,
   "id": "d2f49cd0",
   "metadata": {},
   "outputs": [],
   "source": [
    "def check_random_curb_after_downsampling(df, time_value, window=8, time_col='NTP'):\n",
    "    \"\"\"\n",
    "    Shows a window of rows around the nearest timestamp in the DataFrame.\n",
    "    \"\"\"\n",
    "    # Convert time_value and column to datetime if not already\n",
    "    df[time_col] = pd.to_datetime(df[time_col])\n",
    "    time_value = pd.to_datetime(time_value)\n",
    "\n",
    "    # Find the index of the nearest timestamp\n",
    "    time_diffs = (df[time_col] - time_value).abs()\n",
    "    idx = time_diffs.idxmin()\n",
    "    nearest_time = df.loc[idx, time_col]\n",
    "    print(f\"Exact timestamp not found. Using nearest timestamp: {nearest_time}\")\n",
    "\n",
    "    start = max(idx - window, 0)\n",
    "    end = min(idx + window, len(df) - 1)\n",
    "    df_random_curb = df.iloc[start:end+1].copy()\n",
    "    plot_accelerometer_data(df_random_curb, None)"
   ]
  },
  {
   "cell_type": "code",
   "execution_count": 48,
   "id": "61233ad6",
   "metadata": {},
   "outputs": [
    {
     "name": "stdout",
     "output_type": "stream",
     "text": [
      "Exact timestamp not found. Using nearest timestamp: 2024-07-29 14:39:33.420000\n"
     ]
    },
    {
     "data": {
      "application/vnd.plotly.v1+json": {
       "config": {
        "plotlyServerURL": "https://plot.ly"
       },
       "data": [
        {
         "mode": "lines",
         "name": "Acc-Z",
         "type": "scatter",
         "x": [
          "2024-07-29T14:39:33.340000000",
          "2024-07-29T14:39:33.350000000",
          "2024-07-29T14:39:33.360000000",
          "2024-07-29T14:39:33.370000000",
          "2024-07-29T14:39:33.380000000",
          "2024-07-29T14:39:33.390000000",
          "2024-07-29T14:39:33.400000000",
          "2024-07-29T14:39:33.410000000",
          "2024-07-29T14:39:33.420000000",
          "2024-07-29T14:39:33.430000000",
          "2024-07-29T14:39:33.440000000",
          "2024-07-29T14:39:33.450000000",
          "2024-07-29T14:39:33.460000000",
          "2024-07-29T14:39:33.470000000",
          "2024-07-29T14:39:33.480000000",
          "2024-07-29T14:39:33.490000000",
          "2024-07-29T14:39:33.500000000"
         ],
         "y": {
          "bdata": "Chrp+18EFkCiLHx9rakyQP2rtLJq/eu/4JBEZmXiH0Aprir7rqAzQGPVvaEydhFAlX1XBP93KEARpWIIpZYoQBV0wE7l4wRADTfg88O4J0A5ujesloEZQLNZmgBoIQTA3cCyDFCGBkBu4uR+hx41QFGtBqlcDSZAchAZ+zc0AEDJWG3+X0UQQA==",
          "dtype": "f8"
         }
        },
        {
         "mode": "lines",
         "name": "Acc-Y",
         "type": "scatter",
         "x": [
          "2024-07-29T14:39:33.340000000",
          "2024-07-29T14:39:33.350000000",
          "2024-07-29T14:39:33.360000000",
          "2024-07-29T14:39:33.370000000",
          "2024-07-29T14:39:33.380000000",
          "2024-07-29T14:39:33.390000000",
          "2024-07-29T14:39:33.400000000",
          "2024-07-29T14:39:33.410000000",
          "2024-07-29T14:39:33.420000000",
          "2024-07-29T14:39:33.430000000",
          "2024-07-29T14:39:33.440000000",
          "2024-07-29T14:39:33.450000000",
          "2024-07-29T14:39:33.460000000",
          "2024-07-29T14:39:33.470000000",
          "2024-07-29T14:39:33.480000000",
          "2024-07-29T14:39:33.490000000",
          "2024-07-29T14:39:33.500000000"
         ],
         "y": {
          "bdata": "O7PyBQzGBkCsX+ELMN/vvzOtTWN7vSRAyMlmC2A99z9ZKU7/o3AYwKbz75wqN90/HofB/BW2HMCzypb2F9sXwPjkvFpJxhFAwoh9AijmIUBFRZxOskEwQJ5EhH8RvjlAzCcrhqtTMUBgrkUL0JbpP2s2fPgfHhTAyl9rAIBt679NamgDsGH9Pw==",
          "dtype": "f8"
         }
        },
        {
         "mode": "lines",
         "name": "Acc-X",
         "type": "scatter",
         "x": [
          "2024-07-29T14:39:33.340000000",
          "2024-07-29T14:39:33.350000000",
          "2024-07-29T14:39:33.360000000",
          "2024-07-29T14:39:33.370000000",
          "2024-07-29T14:39:33.380000000",
          "2024-07-29T14:39:33.390000000",
          "2024-07-29T14:39:33.400000000",
          "2024-07-29T14:39:33.410000000",
          "2024-07-29T14:39:33.420000000",
          "2024-07-29T14:39:33.430000000",
          "2024-07-29T14:39:33.440000000",
          "2024-07-29T14:39:33.450000000",
          "2024-07-29T14:39:33.460000000",
          "2024-07-29T14:39:33.470000000",
          "2024-07-29T14:39:33.480000000",
          "2024-07-29T14:39:33.490000000",
          "2024-07-29T14:39:33.500000000"
         ],
         "y": {
          "bdata": "p0rnBdDW9D+eNMP8y8QMwN7BmalaPPi/T/MNBIBCEkD+gAcGEJ7yP3IpSwBAxtE/MhqeA3A4/z+4SJAAJMkDQIR+YVk16QJAYZ46+29K9z85W+Wuyirmv/TLFv8tTxDA//gB/t+PC8B1PPIAABvfv3GBCa9q/es/qXuuAPD5+D9FHakAEJ7iPw==",
          "dtype": "f8"
         }
        }
       ],
       "layout": {
        "autosize": true,
        "legend": {
         "title": {
          "text": "Axis"
         }
        },
        "template": {
         "data": {
          "bar": [
           {
            "error_x": {
             "color": "#2a3f5f"
            },
            "error_y": {
             "color": "#2a3f5f"
            },
            "marker": {
             "line": {
              "color": "white",
              "width": 0.5
             },
             "pattern": {
              "fillmode": "overlay",
              "size": 10,
              "solidity": 0.2
             }
            },
            "type": "bar"
           }
          ],
          "barpolar": [
           {
            "marker": {
             "line": {
              "color": "white",
              "width": 0.5
             },
             "pattern": {
              "fillmode": "overlay",
              "size": 10,
              "solidity": 0.2
             }
            },
            "type": "barpolar"
           }
          ],
          "carpet": [
           {
            "aaxis": {
             "endlinecolor": "#2a3f5f",
             "gridcolor": "#C8D4E3",
             "linecolor": "#C8D4E3",
             "minorgridcolor": "#C8D4E3",
             "startlinecolor": "#2a3f5f"
            },
            "baxis": {
             "endlinecolor": "#2a3f5f",
             "gridcolor": "#C8D4E3",
             "linecolor": "#C8D4E3",
             "minorgridcolor": "#C8D4E3",
             "startlinecolor": "#2a3f5f"
            },
            "type": "carpet"
           }
          ],
          "choropleth": [
           {
            "colorbar": {
             "outlinewidth": 0,
             "ticks": ""
            },
            "type": "choropleth"
           }
          ],
          "contour": [
           {
            "colorbar": {
             "outlinewidth": 0,
             "ticks": ""
            },
            "colorscale": [
             [
              0,
              "#0d0887"
             ],
             [
              0.1111111111111111,
              "#46039f"
             ],
             [
              0.2222222222222222,
              "#7201a8"
             ],
             [
              0.3333333333333333,
              "#9c179e"
             ],
             [
              0.4444444444444444,
              "#bd3786"
             ],
             [
              0.5555555555555556,
              "#d8576b"
             ],
             [
              0.6666666666666666,
              "#ed7953"
             ],
             [
              0.7777777777777778,
              "#fb9f3a"
             ],
             [
              0.8888888888888888,
              "#fdca26"
             ],
             [
              1,
              "#f0f921"
             ]
            ],
            "type": "contour"
           }
          ],
          "contourcarpet": [
           {
            "colorbar": {
             "outlinewidth": 0,
             "ticks": ""
            },
            "type": "contourcarpet"
           }
          ],
          "heatmap": [
           {
            "colorbar": {
             "outlinewidth": 0,
             "ticks": ""
            },
            "colorscale": [
             [
              0,
              "#0d0887"
             ],
             [
              0.1111111111111111,
              "#46039f"
             ],
             [
              0.2222222222222222,
              "#7201a8"
             ],
             [
              0.3333333333333333,
              "#9c179e"
             ],
             [
              0.4444444444444444,
              "#bd3786"
             ],
             [
              0.5555555555555556,
              "#d8576b"
             ],
             [
              0.6666666666666666,
              "#ed7953"
             ],
             [
              0.7777777777777778,
              "#fb9f3a"
             ],
             [
              0.8888888888888888,
              "#fdca26"
             ],
             [
              1,
              "#f0f921"
             ]
            ],
            "type": "heatmap"
           }
          ],
          "histogram": [
           {
            "marker": {
             "pattern": {
              "fillmode": "overlay",
              "size": 10,
              "solidity": 0.2
             }
            },
            "type": "histogram"
           }
          ],
          "histogram2d": [
           {
            "colorbar": {
             "outlinewidth": 0,
             "ticks": ""
            },
            "colorscale": [
             [
              0,
              "#0d0887"
             ],
             [
              0.1111111111111111,
              "#46039f"
             ],
             [
              0.2222222222222222,
              "#7201a8"
             ],
             [
              0.3333333333333333,
              "#9c179e"
             ],
             [
              0.4444444444444444,
              "#bd3786"
             ],
             [
              0.5555555555555556,
              "#d8576b"
             ],
             [
              0.6666666666666666,
              "#ed7953"
             ],
             [
              0.7777777777777778,
              "#fb9f3a"
             ],
             [
              0.8888888888888888,
              "#fdca26"
             ],
             [
              1,
              "#f0f921"
             ]
            ],
            "type": "histogram2d"
           }
          ],
          "histogram2dcontour": [
           {
            "colorbar": {
             "outlinewidth": 0,
             "ticks": ""
            },
            "colorscale": [
             [
              0,
              "#0d0887"
             ],
             [
              0.1111111111111111,
              "#46039f"
             ],
             [
              0.2222222222222222,
              "#7201a8"
             ],
             [
              0.3333333333333333,
              "#9c179e"
             ],
             [
              0.4444444444444444,
              "#bd3786"
             ],
             [
              0.5555555555555556,
              "#d8576b"
             ],
             [
              0.6666666666666666,
              "#ed7953"
             ],
             [
              0.7777777777777778,
              "#fb9f3a"
             ],
             [
              0.8888888888888888,
              "#fdca26"
             ],
             [
              1,
              "#f0f921"
             ]
            ],
            "type": "histogram2dcontour"
           }
          ],
          "mesh3d": [
           {
            "colorbar": {
             "outlinewidth": 0,
             "ticks": ""
            },
            "type": "mesh3d"
           }
          ],
          "parcoords": [
           {
            "line": {
             "colorbar": {
              "outlinewidth": 0,
              "ticks": ""
             }
            },
            "type": "parcoords"
           }
          ],
          "pie": [
           {
            "automargin": true,
            "type": "pie"
           }
          ],
          "scatter": [
           {
            "fillpattern": {
             "fillmode": "overlay",
             "size": 10,
             "solidity": 0.2
            },
            "type": "scatter"
           }
          ],
          "scatter3d": [
           {
            "line": {
             "colorbar": {
              "outlinewidth": 0,
              "ticks": ""
             }
            },
            "marker": {
             "colorbar": {
              "outlinewidth": 0,
              "ticks": ""
             }
            },
            "type": "scatter3d"
           }
          ],
          "scattercarpet": [
           {
            "marker": {
             "colorbar": {
              "outlinewidth": 0,
              "ticks": ""
             }
            },
            "type": "scattercarpet"
           }
          ],
          "scattergeo": [
           {
            "marker": {
             "colorbar": {
              "outlinewidth": 0,
              "ticks": ""
             }
            },
            "type": "scattergeo"
           }
          ],
          "scattergl": [
           {
            "marker": {
             "colorbar": {
              "outlinewidth": 0,
              "ticks": ""
             }
            },
            "type": "scattergl"
           }
          ],
          "scattermap": [
           {
            "marker": {
             "colorbar": {
              "outlinewidth": 0,
              "ticks": ""
             }
            },
            "type": "scattermap"
           }
          ],
          "scattermapbox": [
           {
            "marker": {
             "colorbar": {
              "outlinewidth": 0,
              "ticks": ""
             }
            },
            "type": "scattermapbox"
           }
          ],
          "scatterpolar": [
           {
            "marker": {
             "colorbar": {
              "outlinewidth": 0,
              "ticks": ""
             }
            },
            "type": "scatterpolar"
           }
          ],
          "scatterpolargl": [
           {
            "marker": {
             "colorbar": {
              "outlinewidth": 0,
              "ticks": ""
             }
            },
            "type": "scatterpolargl"
           }
          ],
          "scatterternary": [
           {
            "marker": {
             "colorbar": {
              "outlinewidth": 0,
              "ticks": ""
             }
            },
            "type": "scatterternary"
           }
          ],
          "surface": [
           {
            "colorbar": {
             "outlinewidth": 0,
             "ticks": ""
            },
            "colorscale": [
             [
              0,
              "#0d0887"
             ],
             [
              0.1111111111111111,
              "#46039f"
             ],
             [
              0.2222222222222222,
              "#7201a8"
             ],
             [
              0.3333333333333333,
              "#9c179e"
             ],
             [
              0.4444444444444444,
              "#bd3786"
             ],
             [
              0.5555555555555556,
              "#d8576b"
             ],
             [
              0.6666666666666666,
              "#ed7953"
             ],
             [
              0.7777777777777778,
              "#fb9f3a"
             ],
             [
              0.8888888888888888,
              "#fdca26"
             ],
             [
              1,
              "#f0f921"
             ]
            ],
            "type": "surface"
           }
          ],
          "table": [
           {
            "cells": {
             "fill": {
              "color": "#EBF0F8"
             },
             "line": {
              "color": "white"
             }
            },
            "header": {
             "fill": {
              "color": "#C8D4E3"
             },
             "line": {
              "color": "white"
             }
            },
            "type": "table"
           }
          ]
         },
         "layout": {
          "annotationdefaults": {
           "arrowcolor": "#2a3f5f",
           "arrowhead": 0,
           "arrowwidth": 1
          },
          "autotypenumbers": "strict",
          "coloraxis": {
           "colorbar": {
            "outlinewidth": 0,
            "ticks": ""
           }
          },
          "colorscale": {
           "diverging": [
            [
             0,
             "#8e0152"
            ],
            [
             0.1,
             "#c51b7d"
            ],
            [
             0.2,
             "#de77ae"
            ],
            [
             0.3,
             "#f1b6da"
            ],
            [
             0.4,
             "#fde0ef"
            ],
            [
             0.5,
             "#f7f7f7"
            ],
            [
             0.6,
             "#e6f5d0"
            ],
            [
             0.7,
             "#b8e186"
            ],
            [
             0.8,
             "#7fbc41"
            ],
            [
             0.9,
             "#4d9221"
            ],
            [
             1,
             "#276419"
            ]
           ],
           "sequential": [
            [
             0,
             "#0d0887"
            ],
            [
             0.1111111111111111,
             "#46039f"
            ],
            [
             0.2222222222222222,
             "#7201a8"
            ],
            [
             0.3333333333333333,
             "#9c179e"
            ],
            [
             0.4444444444444444,
             "#bd3786"
            ],
            [
             0.5555555555555556,
             "#d8576b"
            ],
            [
             0.6666666666666666,
             "#ed7953"
            ],
            [
             0.7777777777777778,
             "#fb9f3a"
            ],
            [
             0.8888888888888888,
             "#fdca26"
            ],
            [
             1,
             "#f0f921"
            ]
           ],
           "sequentialminus": [
            [
             0,
             "#0d0887"
            ],
            [
             0.1111111111111111,
             "#46039f"
            ],
            [
             0.2222222222222222,
             "#7201a8"
            ],
            [
             0.3333333333333333,
             "#9c179e"
            ],
            [
             0.4444444444444444,
             "#bd3786"
            ],
            [
             0.5555555555555556,
             "#d8576b"
            ],
            [
             0.6666666666666666,
             "#ed7953"
            ],
            [
             0.7777777777777778,
             "#fb9f3a"
            ],
            [
             0.8888888888888888,
             "#fdca26"
            ],
            [
             1,
             "#f0f921"
            ]
           ]
          },
          "colorway": [
           "#636efa",
           "#EF553B",
           "#00cc96",
           "#ab63fa",
           "#FFA15A",
           "#19d3f3",
           "#FF6692",
           "#B6E880",
           "#FF97FF",
           "#FECB52"
          ],
          "font": {
           "color": "#2a3f5f"
          },
          "geo": {
           "bgcolor": "white",
           "lakecolor": "white",
           "landcolor": "white",
           "showlakes": true,
           "showland": true,
           "subunitcolor": "#C8D4E3"
          },
          "hoverlabel": {
           "align": "left"
          },
          "hovermode": "closest",
          "mapbox": {
           "style": "light"
          },
          "paper_bgcolor": "white",
          "plot_bgcolor": "white",
          "polar": {
           "angularaxis": {
            "gridcolor": "#EBF0F8",
            "linecolor": "#EBF0F8",
            "ticks": ""
           },
           "bgcolor": "white",
           "radialaxis": {
            "gridcolor": "#EBF0F8",
            "linecolor": "#EBF0F8",
            "ticks": ""
           }
          },
          "scene": {
           "xaxis": {
            "backgroundcolor": "white",
            "gridcolor": "#DFE8F3",
            "gridwidth": 2,
            "linecolor": "#EBF0F8",
            "showbackground": true,
            "ticks": "",
            "zerolinecolor": "#EBF0F8"
           },
           "yaxis": {
            "backgroundcolor": "white",
            "gridcolor": "#DFE8F3",
            "gridwidth": 2,
            "linecolor": "#EBF0F8",
            "showbackground": true,
            "ticks": "",
            "zerolinecolor": "#EBF0F8"
           },
           "zaxis": {
            "backgroundcolor": "white",
            "gridcolor": "#DFE8F3",
            "gridwidth": 2,
            "linecolor": "#EBF0F8",
            "showbackground": true,
            "ticks": "",
            "zerolinecolor": "#EBF0F8"
           }
          },
          "shapedefaults": {
           "line": {
            "color": "#2a3f5f"
           }
          },
          "ternary": {
           "aaxis": {
            "gridcolor": "#DFE8F3",
            "linecolor": "#A2B1C6",
            "ticks": ""
           },
           "baxis": {
            "gridcolor": "#DFE8F3",
            "linecolor": "#A2B1C6",
            "ticks": ""
           },
           "bgcolor": "white",
           "caxis": {
            "gridcolor": "#DFE8F3",
            "linecolor": "#A2B1C6",
            "ticks": ""
           }
          },
          "title": {
           "x": 0.05
          },
          "xaxis": {
           "automargin": true,
           "gridcolor": "#EBF0F8",
           "linecolor": "#EBF0F8",
           "ticks": "",
           "title": {
            "standoff": 15
           },
           "zerolinecolor": "#EBF0F8",
           "zerolinewidth": 2
          },
          "yaxis": {
           "automargin": true,
           "gridcolor": "#EBF0F8",
           "linecolor": "#EBF0F8",
           "ticks": "",
           "title": {
            "standoff": 15
           },
           "zerolinecolor": "#EBF0F8",
           "zerolinewidth": 2
          }
         }
        },
        "title": {},
        "xaxis": {
         "title": {
          "text": "Time"
         }
        },
        "yaxis": {
         "title": {
          "text": "Acceleration (m/s^2)"
         }
        }
       }
      }
     },
     "metadata": {},
     "output_type": "display_data"
    },
    {
     "name": "stdout",
     "output_type": "stream",
     "text": [
      "Sampling frequency: 100.00 Hz\n"
     ]
    }
   ],
   "source": [
    "df_combined_100hz = pd.read_csv('../../data/Curb/P3/handlebar/Accelerometer/Accelerometer_data_combined_100hz.csv')\n",
    "check_random_curb_after_downsampling(df_combined_100hz, time_value='2024-07-29 14:39:33.420000')\n",
    "print_sampling_frequency(df_combined_100hz, 'NTP')"
   ]
  },
  {
   "cell_type": "code",
   "execution_count": null,
   "id": "09fc2f38",
   "metadata": {},
   "outputs": [],
   "source": []
  }
 ],
 "metadata": {
  "kernelspec": {
   "display_name": "base",
   "language": "python",
   "name": "python3"
  },
  "language_info": {
   "codemirror_mode": {
    "name": "ipython",
    "version": 3
   },
   "file_extension": ".py",
   "mimetype": "text/x-python",
   "name": "python",
   "nbconvert_exporter": "python",
   "pygments_lexer": "ipython3",
   "version": "3.12.3"
  }
 },
 "nbformat": 4,
 "nbformat_minor": 5
}
