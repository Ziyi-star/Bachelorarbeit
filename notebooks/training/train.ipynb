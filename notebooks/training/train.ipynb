{
 "cells": [
  {
   "cell_type": "markdown",
   "id": "97810603",
   "metadata": {},
   "source": [
    "## SimCLR Training"
   ]
  },
  {
   "cell_type": "code",
   "execution_count": 2,
   "id": "8af0e341",
   "metadata": {},
   "outputs": [],
   "source": [
    "import os\n",
    "import pickle\n",
    "import scipy\n",
    "import datetime\n",
    "import numpy as np\n",
    "import tensorflow as tf\n",
    "import simclr_utitlities\n",
    "import transformations\n",
    "import simclr_models\n",
    "import sys\n",
    "import matplotlib.pyplot as plt\n",
    "sys.path.append('../../')   # Add parent directory to Python path\n",
    "\n",
    "seed = 1\n",
    "tf.random.set_seed(seed)\n",
    "np.random.seed(seed)"
   ]
  },
  {
   "cell_type": "code",
   "execution_count": 3,
   "id": "a0dd43f3",
   "metadata": {},
   "outputs": [
    {
     "name": "stdout",
     "output_type": "stream",
     "text": [
      "0 <function rotation_transform_vectorized at 0x000001454300BBA0>\n"
     ]
    }
   ],
   "source": [
    "# Parameters\n",
    "working_directory = \"../../models/\"\n",
    "window_size = 50\n",
    "input_shape = (window_size, 3)\n",
    "batch_size = 512\n",
    "#Number of samples processed together in one training step. Larger batch sizes can speed up training but require more memory.\n",
    "decay_steps = 1000\n",
    "#Number of steps after which the learning rate decays (used for learning rate scheduling).\n",
    "epochs = 200\n",
    "temperature = 0.1\n",
    "#A parameter for the SimCLR loss function that controls how sharply similarities are measured.\n",
    "transform_funcs = [\n",
    "    # transformations.scaling_transform_vectorized, # Use Scaling trasnformation\n",
    "    transformations.rotation_transform_vectorized # Use rotation trasnformation\n",
    "]\n",
    "# List of data augmentation functions to apply to the input data. Here, only rotation is used.\n",
    "transformation_function = simclr_utitlities.generate_composite_transform_function_simple(transform_funcs)"
   ]
  },
  {
   "cell_type": "code",
   "execution_count": null,
   "id": "509a8da0",
   "metadata": {},
   "outputs": [],
   "source": [
    "# trasnformation_indices = [2] # Use rotation trasnformation only\n",
    "# trasnformation_indices = [1, 2] # Use Scaling and rotation trasnformation\n",
    "\n",
    "# trasnform_funcs_vectorized = [\n",
    "#     transformations.noise_transform_vectorized, \n",
    "#     transformations.scaling_transform_vectorized, \n",
    "#     transformations.rotation_transform_vectorized, \n",
    "#     transformations.negate_transform_vectorized, \n",
    "#     transformations.time_flip_transform_vectorized, \n",
    "#     transformations.time_segment_permutation_transform_improved, \n",
    "#     transformations.time_warp_transform_low_cost, \n",
    "#     transformations.channel_shuffle_transform_vectorized\n",
    "# ]\n",
    "# transform_funcs_names = ['noised', 'scaled', 'rotated', 'negated', 'time_flipped', 'permuted', 'time_warped', 'channel_shuffled']"
   ]
  },
  {
   "cell_type": "code",
   "execution_count": 4,
   "id": "488ebcf3",
   "metadata": {},
   "outputs": [],
   "source": [
    "# Time\n",
    "start_time = datetime.datetime.now()\n",
    "start_time_str = start_time.strftime(\"%Y%m%d-%H%M%S\")\n",
    "#Formats the date and time as a string like 20250827-153045 (for filenames, logs, etc.).\n",
    "tf.keras.backend.set_floatx('float32')\n",
    "#Sets TensorFlow to use 32-bit floating point numbers for all computations (standard for deep learning)."
   ]
  },
  {
   "cell_type": "code",
   "execution_count": 20,
   "id": "6b90178c",
   "metadata": {},
   "outputs": [],
   "source": [
    "# Load data\n",
    "with open('../../data/TrainTest_one/X_train_normalized.pkl', 'rb') as f:\n",
    "    np_train_data = pickle.load(f)\n",
    "with open('../../data/TrainTest_one/y_train_onehot.pkl', 'rb') as f:\n",
    "    np_train_labels = pickle.load(f)"
   ]
  },
  {
   "cell_type": "code",
   "execution_count": 22,
   "id": "27ddae84",
   "metadata": {},
   "outputs": [
    {
     "data": {
      "text/html": [
       "<pre style=\"white-space:pre;overflow-x:auto;line-height:normal;font-family:Menlo,'DejaVu Sans Mono',consolas,'Courier New',monospace\"><span style=\"font-weight: bold\">Model: \"base_model_simclr\"</span>\n",
       "</pre>\n"
      ],
      "text/plain": [
       "\u001b[1mModel: \"base_model_simclr\"\u001b[0m\n"
      ]
     },
     "metadata": {},
     "output_type": "display_data"
    },
    {
     "data": {
      "text/html": [
       "<pre style=\"white-space:pre;overflow-x:auto;line-height:normal;font-family:Menlo,'DejaVu Sans Mono',consolas,'Courier New',monospace\">┏━━━━━━━━━━━━━━━━━━━━━━━━━━━━━━━━━┳━━━━━━━━━━━━━━━━━━━━━━━━┳━━━━━━━━━━━━━━━┓\n",
       "┃<span style=\"font-weight: bold\"> Layer (type)                    </span>┃<span style=\"font-weight: bold\"> Output Shape           </span>┃<span style=\"font-weight: bold\">       Param # </span>┃\n",
       "┡━━━━━━━━━━━━━━━━━━━━━━━━━━━━━━━━━╇━━━━━━━━━━━━━━━━━━━━━━━━╇━━━━━━━━━━━━━━━┩\n",
       "│ input (<span style=\"color: #0087ff; text-decoration-color: #0087ff\">InputLayer</span>)              │ (<span style=\"color: #00d7ff; text-decoration-color: #00d7ff\">None</span>, <span style=\"color: #00af00; text-decoration-color: #00af00\">50</span>, <span style=\"color: #00af00; text-decoration-color: #00af00\">3</span>)          │             <span style=\"color: #00af00; text-decoration-color: #00af00\">0</span> │\n",
       "├─────────────────────────────────┼────────────────────────┼───────────────┤\n",
       "│ conv1d_3 (<span style=\"color: #0087ff; text-decoration-color: #0087ff\">Conv1D</span>)               │ (<span style=\"color: #00d7ff; text-decoration-color: #00d7ff\">None</span>, <span style=\"color: #00af00; text-decoration-color: #00af00\">27</span>, <span style=\"color: #00af00; text-decoration-color: #00af00\">32</span>)         │         <span style=\"color: #00af00; text-decoration-color: #00af00\">2,336</span> │\n",
       "├─────────────────────────────────┼────────────────────────┼───────────────┤\n",
       "│ dropout_3 (<span style=\"color: #0087ff; text-decoration-color: #0087ff\">Dropout</span>)             │ (<span style=\"color: #00d7ff; text-decoration-color: #00d7ff\">None</span>, <span style=\"color: #00af00; text-decoration-color: #00af00\">27</span>, <span style=\"color: #00af00; text-decoration-color: #00af00\">32</span>)         │             <span style=\"color: #00af00; text-decoration-color: #00af00\">0</span> │\n",
       "├─────────────────────────────────┼────────────────────────┼───────────────┤\n",
       "│ conv1d_4 (<span style=\"color: #0087ff; text-decoration-color: #0087ff\">Conv1D</span>)               │ (<span style=\"color: #00d7ff; text-decoration-color: #00d7ff\">None</span>, <span style=\"color: #00af00; text-decoration-color: #00af00\">12</span>, <span style=\"color: #00af00; text-decoration-color: #00af00\">64</span>)         │        <span style=\"color: #00af00; text-decoration-color: #00af00\">32,832</span> │\n",
       "├─────────────────────────────────┼────────────────────────┼───────────────┤\n",
       "│ dropout_4 (<span style=\"color: #0087ff; text-decoration-color: #0087ff\">Dropout</span>)             │ (<span style=\"color: #00d7ff; text-decoration-color: #00d7ff\">None</span>, <span style=\"color: #00af00; text-decoration-color: #00af00\">12</span>, <span style=\"color: #00af00; text-decoration-color: #00af00\">64</span>)         │             <span style=\"color: #00af00; text-decoration-color: #00af00\">0</span> │\n",
       "├─────────────────────────────────┼────────────────────────┼───────────────┤\n",
       "│ conv1d_5 (<span style=\"color: #0087ff; text-decoration-color: #0087ff\">Conv1D</span>)               │ (<span style=\"color: #00d7ff; text-decoration-color: #00d7ff\">None</span>, <span style=\"color: #00af00; text-decoration-color: #00af00\">5</span>, <span style=\"color: #00af00; text-decoration-color: #00af00\">96</span>)          │        <span style=\"color: #00af00; text-decoration-color: #00af00\">49,248</span> │\n",
       "├─────────────────────────────────┼────────────────────────┼───────────────┤\n",
       "│ dropout_5 (<span style=\"color: #0087ff; text-decoration-color: #0087ff\">Dropout</span>)             │ (<span style=\"color: #00d7ff; text-decoration-color: #00d7ff\">None</span>, <span style=\"color: #00af00; text-decoration-color: #00af00\">5</span>, <span style=\"color: #00af00; text-decoration-color: #00af00\">96</span>)          │             <span style=\"color: #00af00; text-decoration-color: #00af00\">0</span> │\n",
       "├─────────────────────────────────┼────────────────────────┼───────────────┤\n",
       "│ global_max_pooling1d            │ (<span style=\"color: #00d7ff; text-decoration-color: #00d7ff\">None</span>, <span style=\"color: #00af00; text-decoration-color: #00af00\">96</span>)             │             <span style=\"color: #00af00; text-decoration-color: #00af00\">0</span> │\n",
       "│ (<span style=\"color: #0087ff; text-decoration-color: #0087ff\">GlobalMaxPooling1D</span>)            │                        │               │\n",
       "├─────────────────────────────────┼────────────────────────┼───────────────┤\n",
       "│ dense_3 (<span style=\"color: #0087ff; text-decoration-color: #0087ff\">Dense</span>)                 │ (<span style=\"color: #00d7ff; text-decoration-color: #00d7ff\">None</span>, <span style=\"color: #00af00; text-decoration-color: #00af00\">256</span>)            │        <span style=\"color: #00af00; text-decoration-color: #00af00\">24,832</span> │\n",
       "├─────────────────────────────────┼────────────────────────┼───────────────┤\n",
       "│ activation_2 (<span style=\"color: #0087ff; text-decoration-color: #0087ff\">Activation</span>)       │ (<span style=\"color: #00d7ff; text-decoration-color: #00d7ff\">None</span>, <span style=\"color: #00af00; text-decoration-color: #00af00\">256</span>)            │             <span style=\"color: #00af00; text-decoration-color: #00af00\">0</span> │\n",
       "├─────────────────────────────────┼────────────────────────┼───────────────┤\n",
       "│ dense_4 (<span style=\"color: #0087ff; text-decoration-color: #0087ff\">Dense</span>)                 │ (<span style=\"color: #00d7ff; text-decoration-color: #00d7ff\">None</span>, <span style=\"color: #00af00; text-decoration-color: #00af00\">128</span>)            │        <span style=\"color: #00af00; text-decoration-color: #00af00\">32,896</span> │\n",
       "├─────────────────────────────────┼────────────────────────┼───────────────┤\n",
       "│ activation_3 (<span style=\"color: #0087ff; text-decoration-color: #0087ff\">Activation</span>)       │ (<span style=\"color: #00d7ff; text-decoration-color: #00d7ff\">None</span>, <span style=\"color: #00af00; text-decoration-color: #00af00\">128</span>)            │             <span style=\"color: #00af00; text-decoration-color: #00af00\">0</span> │\n",
       "├─────────────────────────────────┼────────────────────────┼───────────────┤\n",
       "│ dense_5 (<span style=\"color: #0087ff; text-decoration-color: #0087ff\">Dense</span>)                 │ (<span style=\"color: #00d7ff; text-decoration-color: #00d7ff\">None</span>, <span style=\"color: #00af00; text-decoration-color: #00af00\">50</span>)             │         <span style=\"color: #00af00; text-decoration-color: #00af00\">6,450</span> │\n",
       "└─────────────────────────────────┴────────────────────────┴───────────────┘\n",
       "</pre>\n"
      ],
      "text/plain": [
       "┏━━━━━━━━━━━━━━━━━━━━━━━━━━━━━━━━━┳━━━━━━━━━━━━━━━━━━━━━━━━┳━━━━━━━━━━━━━━━┓\n",
       "┃\u001b[1m \u001b[0m\u001b[1mLayer (type)                   \u001b[0m\u001b[1m \u001b[0m┃\u001b[1m \u001b[0m\u001b[1mOutput Shape          \u001b[0m\u001b[1m \u001b[0m┃\u001b[1m \u001b[0m\u001b[1m      Param #\u001b[0m\u001b[1m \u001b[0m┃\n",
       "┡━━━━━━━━━━━━━━━━━━━━━━━━━━━━━━━━━╇━━━━━━━━━━━━━━━━━━━━━━━━╇━━━━━━━━━━━━━━━┩\n",
       "│ input (\u001b[38;5;33mInputLayer\u001b[0m)              │ (\u001b[38;5;45mNone\u001b[0m, \u001b[38;5;34m50\u001b[0m, \u001b[38;5;34m3\u001b[0m)          │             \u001b[38;5;34m0\u001b[0m │\n",
       "├─────────────────────────────────┼────────────────────────┼───────────────┤\n",
       "│ conv1d_3 (\u001b[38;5;33mConv1D\u001b[0m)               │ (\u001b[38;5;45mNone\u001b[0m, \u001b[38;5;34m27\u001b[0m, \u001b[38;5;34m32\u001b[0m)         │         \u001b[38;5;34m2,336\u001b[0m │\n",
       "├─────────────────────────────────┼────────────────────────┼───────────────┤\n",
       "│ dropout_3 (\u001b[38;5;33mDropout\u001b[0m)             │ (\u001b[38;5;45mNone\u001b[0m, \u001b[38;5;34m27\u001b[0m, \u001b[38;5;34m32\u001b[0m)         │             \u001b[38;5;34m0\u001b[0m │\n",
       "├─────────────────────────────────┼────────────────────────┼───────────────┤\n",
       "│ conv1d_4 (\u001b[38;5;33mConv1D\u001b[0m)               │ (\u001b[38;5;45mNone\u001b[0m, \u001b[38;5;34m12\u001b[0m, \u001b[38;5;34m64\u001b[0m)         │        \u001b[38;5;34m32,832\u001b[0m │\n",
       "├─────────────────────────────────┼────────────────────────┼───────────────┤\n",
       "│ dropout_4 (\u001b[38;5;33mDropout\u001b[0m)             │ (\u001b[38;5;45mNone\u001b[0m, \u001b[38;5;34m12\u001b[0m, \u001b[38;5;34m64\u001b[0m)         │             \u001b[38;5;34m0\u001b[0m │\n",
       "├─────────────────────────────────┼────────────────────────┼───────────────┤\n",
       "│ conv1d_5 (\u001b[38;5;33mConv1D\u001b[0m)               │ (\u001b[38;5;45mNone\u001b[0m, \u001b[38;5;34m5\u001b[0m, \u001b[38;5;34m96\u001b[0m)          │        \u001b[38;5;34m49,248\u001b[0m │\n",
       "├─────────────────────────────────┼────────────────────────┼───────────────┤\n",
       "│ dropout_5 (\u001b[38;5;33mDropout\u001b[0m)             │ (\u001b[38;5;45mNone\u001b[0m, \u001b[38;5;34m5\u001b[0m, \u001b[38;5;34m96\u001b[0m)          │             \u001b[38;5;34m0\u001b[0m │\n",
       "├─────────────────────────────────┼────────────────────────┼───────────────┤\n",
       "│ global_max_pooling1d            │ (\u001b[38;5;45mNone\u001b[0m, \u001b[38;5;34m96\u001b[0m)             │             \u001b[38;5;34m0\u001b[0m │\n",
       "│ (\u001b[38;5;33mGlobalMaxPooling1D\u001b[0m)            │                        │               │\n",
       "├─────────────────────────────────┼────────────────────────┼───────────────┤\n",
       "│ dense_3 (\u001b[38;5;33mDense\u001b[0m)                 │ (\u001b[38;5;45mNone\u001b[0m, \u001b[38;5;34m256\u001b[0m)            │        \u001b[38;5;34m24,832\u001b[0m │\n",
       "├─────────────────────────────────┼────────────────────────┼───────────────┤\n",
       "│ activation_2 (\u001b[38;5;33mActivation\u001b[0m)       │ (\u001b[38;5;45mNone\u001b[0m, \u001b[38;5;34m256\u001b[0m)            │             \u001b[38;5;34m0\u001b[0m │\n",
       "├─────────────────────────────────┼────────────────────────┼───────────────┤\n",
       "│ dense_4 (\u001b[38;5;33mDense\u001b[0m)                 │ (\u001b[38;5;45mNone\u001b[0m, \u001b[38;5;34m128\u001b[0m)            │        \u001b[38;5;34m32,896\u001b[0m │\n",
       "├─────────────────────────────────┼────────────────────────┼───────────────┤\n",
       "│ activation_3 (\u001b[38;5;33mActivation\u001b[0m)       │ (\u001b[38;5;45mNone\u001b[0m, \u001b[38;5;34m128\u001b[0m)            │             \u001b[38;5;34m0\u001b[0m │\n",
       "├─────────────────────────────────┼────────────────────────┼───────────────┤\n",
       "│ dense_5 (\u001b[38;5;33mDense\u001b[0m)                 │ (\u001b[38;5;45mNone\u001b[0m, \u001b[38;5;34m50\u001b[0m)             │         \u001b[38;5;34m6,450\u001b[0m │\n",
       "└─────────────────────────────────┴────────────────────────┴───────────────┘\n"
      ]
     },
     "metadata": {},
     "output_type": "display_data"
    },
    {
     "data": {
      "text/html": [
       "<pre style=\"white-space:pre;overflow-x:auto;line-height:normal;font-family:Menlo,'DejaVu Sans Mono',consolas,'Courier New',monospace\"><span style=\"font-weight: bold\"> Total params: </span><span style=\"color: #00af00; text-decoration-color: #00af00\">148,594</span> (580.45 KB)\n",
       "</pre>\n"
      ],
      "text/plain": [
       "\u001b[1m Total params: \u001b[0m\u001b[38;5;34m148,594\u001b[0m (580.45 KB)\n"
      ]
     },
     "metadata": {},
     "output_type": "display_data"
    },
    {
     "data": {
      "text/html": [
       "<pre style=\"white-space:pre;overflow-x:auto;line-height:normal;font-family:Menlo,'DejaVu Sans Mono',consolas,'Courier New',monospace\"><span style=\"font-weight: bold\"> Trainable params: </span><span style=\"color: #00af00; text-decoration-color: #00af00\">148,594</span> (580.45 KB)\n",
       "</pre>\n"
      ],
      "text/plain": [
       "\u001b[1m Trainable params: \u001b[0m\u001b[38;5;34m148,594\u001b[0m (580.45 KB)\n"
      ]
     },
     "metadata": {},
     "output_type": "display_data"
    },
    {
     "data": {
      "text/html": [
       "<pre style=\"white-space:pre;overflow-x:auto;line-height:normal;font-family:Menlo,'DejaVu Sans Mono',consolas,'Courier New',monospace\"><span style=\"font-weight: bold\"> Non-trainable params: </span><span style=\"color: #00af00; text-decoration-color: #00af00\">0</span> (0.00 B)\n",
       "</pre>\n"
      ],
      "text/plain": [
       "\u001b[1m Non-trainable params: \u001b[0m\u001b[38;5;34m0\u001b[0m (0.00 B)\n"
      ]
     },
     "metadata": {},
     "output_type": "display_data"
    },
    {
     "name": "stdout",
     "output_type": "stream",
     "text": [
      "epoch: 1 loss: 12.012\n",
      "epoch: 2 loss: 11.575\n",
      "epoch: 3 loss: 10.533\n",
      "epoch: 4 loss: 11.343\n",
      "epoch: 5 loss: 10.764\n",
      "epoch: 6 loss: 9.778\n",
      "epoch: 7 loss: 10.722\n",
      "epoch: 8 loss: 9.792\n",
      "epoch: 9 loss: 9.687\n",
      "epoch: 10 loss: 10.215\n",
      "epoch: 11 loss: 9.361\n",
      "epoch: 12 loss: 9.964\n",
      "epoch: 13 loss: 9.294\n",
      "epoch: 14 loss: 9.884\n",
      "epoch: 15 loss: 9.801\n",
      "epoch: 16 loss: 9.328\n",
      "epoch: 17 loss: 9.250\n",
      "epoch: 18 loss: 9.377\n",
      "epoch: 19 loss: 10.751\n",
      "epoch: 20 loss: 9.422\n",
      "epoch: 21 loss: 8.763\n",
      "epoch: 22 loss: 9.533\n",
      "epoch: 23 loss: 9.473\n",
      "epoch: 24 loss: 8.837\n",
      "epoch: 25 loss: 8.956\n",
      "epoch: 26 loss: 8.637\n",
      "epoch: 27 loss: 8.657\n",
      "epoch: 28 loss: 8.501\n",
      "epoch: 29 loss: 8.445\n",
      "epoch: 30 loss: 7.895\n",
      "epoch: 31 loss: 8.557\n",
      "epoch: 32 loss: 8.801\n",
      "epoch: 33 loss: 7.630\n",
      "epoch: 34 loss: 8.413\n",
      "epoch: 35 loss: 7.673\n",
      "epoch: 36 loss: 8.449\n",
      "epoch: 37 loss: 8.423\n",
      "epoch: 38 loss: 7.904\n",
      "epoch: 39 loss: 7.493\n",
      "epoch: 40 loss: 7.570\n",
      "epoch: 41 loss: 7.319\n",
      "epoch: 42 loss: 7.541\n",
      "epoch: 43 loss: 7.466\n",
      "epoch: 44 loss: 7.570\n",
      "epoch: 45 loss: 7.327\n",
      "epoch: 46 loss: 6.829\n",
      "epoch: 47 loss: 7.439\n",
      "epoch: 48 loss: 6.710\n",
      "epoch: 49 loss: 6.640\n",
      "epoch: 50 loss: 6.544\n",
      "epoch: 51 loss: 6.515\n",
      "epoch: 52 loss: 6.596\n",
      "epoch: 53 loss: 6.654\n",
      "epoch: 54 loss: 6.748\n",
      "epoch: 55 loss: 7.261\n",
      "epoch: 56 loss: 7.723\n",
      "epoch: 57 loss: 6.605\n",
      "epoch: 58 loss: 6.700\n",
      "epoch: 59 loss: 6.810\n",
      "epoch: 60 loss: 6.349\n",
      "epoch: 61 loss: 6.166\n",
      "epoch: 62 loss: 6.498\n",
      "epoch: 63 loss: 6.752\n",
      "epoch: 64 loss: 6.409\n",
      "epoch: 65 loss: 6.665\n",
      "epoch: 66 loss: 7.405\n",
      "epoch: 67 loss: 6.308\n",
      "epoch: 68 loss: 5.888\n",
      "epoch: 69 loss: 6.419\n",
      "epoch: 70 loss: 6.603\n",
      "epoch: 71 loss: 5.717\n",
      "epoch: 72 loss: 5.668\n",
      "epoch: 73 loss: 5.928\n",
      "epoch: 74 loss: 5.853\n",
      "epoch: 75 loss: 6.455\n",
      "epoch: 76 loss: 5.809\n",
      "epoch: 77 loss: 6.184\n",
      "epoch: 78 loss: 5.702\n",
      "epoch: 79 loss: 6.094\n",
      "epoch: 80 loss: 6.352\n",
      "epoch: 81 loss: 5.789\n",
      "epoch: 82 loss: 7.012\n",
      "epoch: 83 loss: 5.966\n",
      "epoch: 84 loss: 5.620\n",
      "epoch: 85 loss: 6.137\n",
      "epoch: 86 loss: 5.874\n",
      "epoch: 87 loss: 6.020\n",
      "epoch: 88 loss: 5.636\n",
      "epoch: 89 loss: 5.539\n",
      "epoch: 90 loss: 5.554\n",
      "epoch: 91 loss: 5.283\n",
      "epoch: 92 loss: 5.649\n",
      "epoch: 93 loss: 5.940\n",
      "epoch: 94 loss: 5.267\n",
      "epoch: 95 loss: 5.558\n",
      "epoch: 96 loss: 5.893\n",
      "epoch: 97 loss: 5.457\n",
      "epoch: 98 loss: 5.375\n",
      "epoch: 99 loss: 6.163\n",
      "epoch: 100 loss: 5.087\n",
      "epoch: 101 loss: 5.191\n",
      "epoch: 102 loss: 5.737\n",
      "epoch: 103 loss: 6.265\n",
      "epoch: 104 loss: 5.593\n",
      "epoch: 105 loss: 5.313\n",
      "epoch: 106 loss: 5.130\n",
      "epoch: 107 loss: 5.544\n",
      "epoch: 108 loss: 6.129\n",
      "epoch: 109 loss: 5.832\n",
      "epoch: 110 loss: 5.257\n",
      "epoch: 111 loss: 5.846\n",
      "epoch: 112 loss: 6.090\n",
      "epoch: 113 loss: 5.484\n",
      "epoch: 114 loss: 5.861\n",
      "epoch: 115 loss: 5.227\n",
      "epoch: 116 loss: 5.082\n",
      "epoch: 117 loss: 5.411\n",
      "epoch: 118 loss: 5.255\n",
      "epoch: 119 loss: 4.903\n",
      "epoch: 120 loss: 5.042\n",
      "epoch: 121 loss: 4.965\n",
      "epoch: 122 loss: 5.005\n",
      "epoch: 123 loss: 5.282\n",
      "epoch: 124 loss: 5.026\n",
      "epoch: 125 loss: 6.402\n",
      "epoch: 126 loss: 5.202\n",
      "epoch: 127 loss: 5.300\n",
      "epoch: 128 loss: 4.927\n",
      "epoch: 129 loss: 5.275\n",
      "epoch: 130 loss: 4.875\n",
      "epoch: 131 loss: 5.213\n",
      "epoch: 132 loss: 4.870\n",
      "epoch: 133 loss: 5.073\n",
      "epoch: 134 loss: 4.944\n",
      "epoch: 135 loss: 4.876\n",
      "epoch: 136 loss: 4.979\n",
      "epoch: 137 loss: 5.022\n",
      "epoch: 138 loss: 4.816\n",
      "epoch: 139 loss: 4.990\n",
      "epoch: 140 loss: 4.761\n",
      "epoch: 141 loss: 5.441\n",
      "epoch: 142 loss: 5.173\n",
      "epoch: 143 loss: 4.654\n",
      "epoch: 144 loss: 5.038\n",
      "epoch: 145 loss: 4.693\n",
      "epoch: 146 loss: 5.083\n",
      "epoch: 147 loss: 5.105\n",
      "epoch: 148 loss: 4.799\n",
      "epoch: 149 loss: 4.650\n",
      "epoch: 150 loss: 4.795\n",
      "epoch: 151 loss: 4.741\n",
      "epoch: 152 loss: 4.826\n",
      "epoch: 153 loss: 4.726\n",
      "epoch: 154 loss: 4.484\n",
      "epoch: 155 loss: 4.948\n",
      "epoch: 156 loss: 5.535\n",
      "epoch: 157 loss: 4.903\n",
      "epoch: 158 loss: 4.545\n",
      "epoch: 159 loss: 4.591\n",
      "epoch: 160 loss: 4.398\n",
      "epoch: 161 loss: 4.745\n",
      "epoch: 162 loss: 4.487\n",
      "epoch: 163 loss: 4.400\n",
      "epoch: 164 loss: 4.328\n",
      "epoch: 165 loss: 4.701\n",
      "epoch: 166 loss: 4.766\n",
      "epoch: 167 loss: 4.706\n",
      "epoch: 168 loss: 4.543\n",
      "epoch: 169 loss: 4.335\n",
      "epoch: 170 loss: 4.470\n",
      "epoch: 171 loss: 4.502\n",
      "epoch: 172 loss: 4.230\n",
      "epoch: 173 loss: 4.462\n",
      "epoch: 174 loss: 4.326\n",
      "epoch: 175 loss: 4.691\n",
      "epoch: 176 loss: 4.374\n",
      "epoch: 177 loss: 4.187\n",
      "epoch: 178 loss: 4.552\n",
      "epoch: 179 loss: 4.774\n",
      "epoch: 180 loss: 4.261\n",
      "epoch: 181 loss: 4.355\n",
      "epoch: 182 loss: 4.256\n",
      "epoch: 183 loss: 4.097\n",
      "epoch: 184 loss: 4.178\n",
      "epoch: 185 loss: 4.611\n",
      "epoch: 186 loss: 4.302\n",
      "epoch: 187 loss: 4.799\n",
      "epoch: 188 loss: 4.419\n",
      "epoch: 189 loss: 4.110\n",
      "epoch: 190 loss: 4.138\n",
      "epoch: 191 loss: 3.948\n",
      "epoch: 192 loss: 4.046\n",
      "epoch: 193 loss: 4.425\n",
      "epoch: 194 loss: 5.353\n",
      "epoch: 195 loss: 4.585\n",
      "epoch: 196 loss: 4.070\n",
      "epoch: 197 loss: 4.151\n",
      "epoch: 198 loss: 4.180\n",
      "epoch: 199 loss: 4.226\n"
     ]
    },
    {
     "name": "stderr",
     "output_type": "stream",
     "text": [
      "WARNING:absl:You are saving your model as an HDF5 file via `model.save()` or `keras.saving.save_model(model)`. This file format is considered legacy. We recommend using instead the native Keras format, e.g. `model.save('my_model.keras')` or `keras.saving.save_model(model, 'my_model.keras')`. \n"
     ]
    },
    {
     "name": "stdout",
     "output_type": "stream",
     "text": [
      "epoch: 200 loss: 4.149\n"
     ]
    }
   ],
   "source": [
    "# Create a cosine-decayed learning rate schedule and SGD optimizer for training.\n",
    "lr_decayed_fn = tf.keras.optimizers.schedules.CosineDecay(initial_learning_rate=0.1, decay_steps=decay_steps)\n",
    "optimizer = tf.keras.optimizers.SGD(lr_decayed_fn)\n",
    "\n",
    "# Optionally, you can use a combined transformation function for data augmentation.\n",
    "# transformation_function = simclr_utitlities.generate_combined_transform_function(trasnform_funcs_vectorized, indices=trasnformation_indices)\n",
    "\n",
    "# Build the base model and attach the SimCLR head for contrastive learning.\n",
    "base_model = simclr_models.create_base_model(input_shape, model_name=\"base_model\")\n",
    "simclr_model = simclr_models.attach_simclr_head(base_model)\n",
    "simclr_model.summary()\n",
    "\n",
    "# Train the SimCLR model using the specified transformation function and optimizer.\n",
    "trained_simclr_model, epoch_losses = simclr_utitlities.simclr_train_model(\n",
    "    simclr_model, np_train_data, optimizer, batch_size, transformation_function,\n",
    "    temperature=temperature, epochs=epochs, is_trasnform_function_vectorized=True, verbose=1\n",
    ")\n",
    "\n",
    "# Save the trained SimCLR model to disk for later use.\n",
    "simclr_model_save_path = f\"{working_directory}{start_time_str}_simclr.hdf5\"\n",
    "trained_simclr_model.save(simclr_model_save_path)"
   ]
  },
  {
   "cell_type": "code",
   "execution_count": 24,
   "id": "3e6b1270",
   "metadata": {},
   "outputs": [
    {
     "data": {
      "image/png": "[encoded data removed]",
      "text/plain": [
       "<Figure size 1200x800 with 1 Axes>"
      ]
     },
     "metadata": {},
     "output_type": "display_data"
    }
   ],
   "source": [
    "plt.figure(figsize=(12,8))\n",
    "plt.plot(epoch_losses)\n",
    "plt.ylabel(\"Loss\")\n",
    "plt.xlabel(\"Epoch\")\n",
    "plt.show()"
   ]
  },
  {
   "cell_type": "markdown",
   "id": "36d755cd",
   "metadata": {},
   "source": [
    "## Fine-tuning and Evaluation"
   ]
  },
  {
   "cell_type": "markdown",
   "id": "a1e8ab8f",
   "metadata": {},
   "source": [
    "### Linear Model"
   ]
  },
  {
   "cell_type": "code",
   "execution_count": null,
   "id": "ce31692a",
   "metadata": {},
   "outputs": [],
   "source": [
    "total_epochs = 50\n",
    "batch_size = 200\n",
    "tag = \"linear_eval\"\n",
    "\n",
    "simclr_model = tf.keras.models.load_model(simclr_model_save_path)\n",
    "linear_evaluation_model = simclr_models.create_linear_model_from_base_model(simclr_model, output_shape, intermediate_layer=7)\n",
    "\n",
    "linear_eval_best_model_file_name = f\"{working_directory}{start_time_str}_simclr_{tag}.hdf5\"\n",
    "best_model_callback = tf.keras.callbacks.ModelCheckpoint(linear_eval_best_model_file_name,\n",
    "    monitor='val_loss', mode='min', save_best_only=True, save_weights_only=False, verbose=0\n",
    ")\n",
    "\n",
    "training_history = linear_evaluation_model.fit(\n",
    "    x = np_train_data,\n",
    "    y = np_train_labels,\n",
    "    batch_size=batch_size,\n",
    "    shuffle=True,\n",
    "    epochs=total_epochs,\n",
    "    callbacks=[best_model_callback],\n",
    "    validation_data=np_val,\n",
    ")\n",
    "\n",
    "linear_eval_best_model = tf.keras.models.load_model(linear_eval_best_model_file_name)\n",
    "\n",
    "print(\"Model with lowest validation Loss:\")\n",
    "print(simclr_utitlities.evaluate_model_simple(linear_eval_best_model.predict(np_test[0]), np_test[1], return_dict=True))\n",
    "print(\"Model in last epoch\")\n",
    "print(simclr_utitlities.evaluate_model_simple(linear_evaluation_model.predict(np_test[0]), np_test[1], return_dict=True))\n"
   ]
  }
 ],
 "metadata": {
  "kernelspec": {
   "display_name": "base",
   "language": "python",
   "name": "python3"
  },
  "language_info": {
   "codemirror_mode": {
    "name": "ipython",
    "version": 3
   },
   "file_extension": ".py",
   "mimetype": "text/x-python",
   "name": "python",
   "nbconvert_exporter": "python",
   "pygments_lexer": "ipython3",
   "version": "3.12.3"
  }
 },
 "nbformat": 4,
 "nbformat_minor": 5
}
