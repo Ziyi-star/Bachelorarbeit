{
  "cells": [
    {
      "cell_type": "markdown",
      "id": "429c6a72",
      "metadata": {
        "colab_type": "text",
        "id": "view-in-github"
      },
      "source": [
        "<a href=\"https://colab.research.google.com/github/Ziyi-star/Bachelorarbeit/blob/main/notebooks/training/train_simclr_har_0.5s.ipynb\" target=\"_parent\"><img src=\"https://colab.research.google.com/assets/colab-badge.svg\" alt=\"Open In Colab\"/></a>"
      ]
    },
    {
      "cell_type": "markdown",
      "id": "97810603",
      "metadata": {
        "id": "97810603"
      },
      "source": [
        "## SimCLR Training"
      ]
    },
    {
      "cell_type": "code",
      "execution_count": null,
      "id": "39dbd93a",
      "metadata": {
        "id": "39dbd93a",
        "outputId": "8ee9d919-ebc4-4f2c-b01b-145ed1efa1c4"
      },
      "outputs": [
        {
          "data": {
            "text/plain": [
              "((848, 50, 3), (848, 7))"
            ]
          },
          "execution_count": 1,
          "metadata": {},
          "output_type": "execute_result"
        }
      ],
      "source": [
        "# For VSCode\n",
        "%load_ext autoreload\n",
        "%autoreload 2\n",
        "\n",
        "import os\n",
        "import pickle\n",
        "import scipy\n",
        "import datetime\n",
        "import numpy as np\n",
        "import tensorflow as tf\n",
        "import simclr_utitlities\n",
        "import transformations\n",
        "import simclr_models\n",
        "import sys\n",
        "import matplotlib.pyplot as plt\n",
        "\n",
        "sys.path.append('../')   # Add parent directory to Python path\n",
        "working_directory = \"../models/\"\n",
        "\n",
        "seed = 1\n",
        "tf.random.set_seed(seed)\n",
        "np.random.seed(seed)\n",
        "\n",
        "# todo: Load data need to be changed according to your path\n",
        "with open('../../data/TrainTest_one/X_train_data_normalized.pkl', 'rb') as f:\n",
        "    np_train_data = pickle.load(f)\n",
        "with open('../../data/TrainTest_one/y_train_label_onehot.pkl', 'rb') as f:\n",
        "    np_train_labels = pickle.load(f)\n",
        "np_train_data.shape, np_train_labels.shape"
      ]
    },
    {
      "cell_type": "code",
      "execution_count": 1,
      "id": "dc1b1c60",
      "metadata": {
        "colab": {
          "base_uri": "https://localhost:8080/"
        },
        "id": "dc1b1c60",
        "outputId": "ae8b5c7b-73b0-4833-abe1-43e3004465ab"
      },
      "outputs": [
        {
          "name": "stdout",
          "output_type": "stream",
          "text": [
            "Cloning into 'Bachelorarbeit'...\n",
            "remote: Enumerating objects: 274, done.\u001b[K\n",
            "remote: Counting objects: 100% (40/40), done.\u001b[K\n",
            "remote: Compressing objects: 100% (31/31), done.\u001b[K\n",
            "remote: Total 274 (delta 18), reused 23 (delta 9), pack-reused 234 (from 1)\u001b[K\n",
            "Receiving objects: 100% (274/274), 52.19 MiB | 21.38 MiB/s, done.\n",
            "Resolving deltas: 100% (130/130), done.\n"
          ]
        },
        {
          "name": "stderr",
          "output_type": "stream",
          "text": [
            "/content/Bachelorarbeit/notebooks/training/transformations.py:35: SyntaxWarning: invalid escape sequence '\\&'\n",
            "  @inproceedings{TerryUm_ICMI2017, author = {Um, Terry T. and Pfister, Franz M. J. and Pichler, Daniel and Endo, Satoshi and Lang, Muriel and Hirche, Sandra and Fietzek, Urban and Kuli\\'{c}, Dana}, title = {Data Augmentation of Wearable Sensor Data for Parkinson's Disease Monitoring Using Convolutional Neural Networks}, booktitle = {Proceedings of the 19th ACM International Conference on Multimodal Interaction}, series = {ICMI 2017}, year = {2017}, isbn = {978-1-4503-5543-8}, location = {Glasgow, UK}, pages = {216--220}, numpages = {5}, doi = {10.1145/3136755.3136817}, acmid = {3136817}, publisher = {ACM}, address = {New York, NY, USA}, keywords = {Parkinson\\&#39;s disease, convolutional neural networks, data augmentation, health monitoring, motor state detection, wearable sensor}, }\n"
          ]
        },
        {
          "name": "stdout",
          "output_type": "stream",
          "text": [
            "--2025-09-09 13:46:35--  https://raw.githubusercontent.com/Ziyi-star/Bachelorarbeit/main/notebooks/data_0.5s/X_train_normalized.pkl\n",
            "Resolving raw.githubusercontent.com (raw.githubusercontent.com)... 185.199.110.133, 185.199.108.133, 185.199.111.133, ...\n",
            "Connecting to raw.githubusercontent.com (raw.githubusercontent.com)|185.199.110.133|:443... connected.\n",
            "HTTP request sent, awaiting response... 200 OK\n",
            "Length: 1017765 (994K) [application/octet-stream]\n",
            "Saving to: ‘X_train_normalized.pkl’\n",
            "\n",
            "\rX_train_normalized.   0%[                    ]       0  --.-KB/s               \rX_train_normalized. 100%[===================>] 993.91K  --.-KB/s    in 0.04s   \n",
            "\n",
            "2025-09-09 13:46:36 (27.4 MB/s) - ‘X_train_normalized.pkl’ saved [1017765/1017765]\n",
            "\n",
            "--2025-09-09 13:46:36--  https://raw.githubusercontent.com/Ziyi-star/Bachelorarbeit/main/notebooks/data_0.5s/y_train_onehot.pkl\n",
            "Resolving raw.githubusercontent.com (raw.githubusercontent.com)... 185.199.108.133, 185.199.109.133, 185.199.110.133, ...\n",
            "Connecting to raw.githubusercontent.com (raw.githubusercontent.com)|185.199.108.133|:443... connected.\n",
            "HTTP request sent, awaiting response... 200 OK\n",
            "Length: 47642 (47K) [application/octet-stream]\n",
            "Saving to: ‘y_train_onehot.pkl’\n",
            "\n",
            "y_train_onehot.pkl  100%[===================>]  46.53K  --.-KB/s    in 0.009s  \n",
            "\n",
            "2025-09-09 13:46:36 (5.14 MB/s) - ‘y_train_onehot.pkl’ saved [47642/47642]\n",
            "\n",
            "--2025-09-09 13:46:36--  https://raw.githubusercontent.com/Ziyi-star/Bachelorarbeit/main/notebooks/data_0.5s/X_val_normalized.pkl\n",
            "Resolving raw.githubusercontent.com (raw.githubusercontent.com)... 185.199.108.133, 185.199.109.133, 185.199.110.133, ...\n",
            "Connecting to raw.githubusercontent.com (raw.githubusercontent.com)|185.199.108.133|:443... connected.\n",
            "HTTP request sent, awaiting response... 200 OK\n",
            "Length: 254564 (249K) [application/octet-stream]\n",
            "Saving to: ‘X_val_normalized.pkl’\n",
            "\n",
            "X_val_normalized.pk 100%[===================>] 248.60K  --.-KB/s    in 0.03s   \n",
            "\n",
            "2025-09-09 13:46:36 (9.09 MB/s) - ‘X_val_normalized.pkl’ saved [254564/254564]\n",
            "\n",
            "--2025-09-09 13:46:36--  https://raw.githubusercontent.com/Ziyi-star/Bachelorarbeit/main/notebooks/data_0.5s/y_val_onehot.pkl\n",
            "Resolving raw.githubusercontent.com (raw.githubusercontent.com)... 185.199.108.133, 185.199.109.133, 185.199.110.133, ...\n",
            "Connecting to raw.githubusercontent.com (raw.githubusercontent.com)|185.199.108.133|:443... connected.\n",
            "HTTP request sent, awaiting response... 200 OK\n",
            "Length: 12025 (12K) [application/octet-stream]\n",
            "Saving to: ‘y_val_onehot.pkl’\n",
            "\n",
            "y_val_onehot.pkl    100%[===================>]  11.74K  --.-KB/s    in 0.001s  \n",
            "\n",
            "2025-09-09 13:46:37 (16.9 MB/s) - ‘y_val_onehot.pkl’ saved [12025/12025]\n",
            "\n",
            "(848, 50, 3) (848, 7)\n",
            "(212, 50, 3) (212, 7)\n"
          ]
        }
      ],
      "source": [
        "# For Google Colab\n",
        "# 1. Clone your repository to go to access your notebook and .py files\n",
        "!git clone https://github.com/Ziyi-star/Bachelorarbeit.git\n",
        "# 2. Change working directory to where your notebook and .py files are\n",
        "import os\n",
        "os.chdir('/content/Bachelorarbeit/notebooks/training')\n",
        "import os\n",
        "import pickle\n",
        "import scipy\n",
        "import datetime\n",
        "import numpy as np\n",
        "import tensorflow as tf\n",
        "import matplotlib.pyplot as plt\n",
        "import simclr_utitlities\n",
        "import transformations\n",
        "import simclr_models\n",
        "import sys\n",
        "\n",
        "seed = 1\n",
        "tf.random.set_seed(seed)\n",
        "np.random.seed(seed)\n",
        "\n",
        "# Load data\n",
        "# Download the file from GitHub\n",
        "!wget https://raw.githubusercontent.com/Ziyi-star/Bachelorarbeit/main/notebooks/data_0.5s/X_train_normalized.pkl\n",
        "!wget https://raw.githubusercontent.com/Ziyi-star/Bachelorarbeit/main/notebooks/data_0.5s/y_train_onehot.pkl\n",
        "!wget https://raw.githubusercontent.com/Ziyi-star/Bachelorarbeit/main/notebooks/data_0.5s/X_val_normalized.pkl\n",
        "!wget https://raw.githubusercontent.com/Ziyi-star/Bachelorarbeit/main/notebooks/data_0.5s/y_val_onehot.pkl\n",
        "\n",
        "\n",
        "working_directory = \"../models/\"  # Relative path to models folder\n",
        "\n",
        "# Load as usual\n",
        "import pickle\n",
        "\n",
        "with open('X_train_normalized.pkl', 'rb') as f:\n",
        "    np_train_data = pickle.load(f)\n",
        "with open('y_train_onehot.pkl', 'rb') as f:\n",
        "    np_train_labels = pickle.load(f)\n",
        "with open('X_val_normalized.pkl', 'rb') as f:\n",
        "    np_val_data = pickle.load(f)\n",
        "with open('y_val_onehot.pkl', 'rb') as f:\n",
        "    np_val_labels = pickle.load(f)\n",
        "\n",
        "print(np_train_data.shape, np_train_labels.shape)\n",
        "print(np_val_data.shape, np_val_labels.shape)\n"
      ]
    },
    {
      "cell_type": "code",
      "execution_count": 2,
      "id": "a0dd43f3",
      "metadata": {
        "id": "a0dd43f3"
      },
      "outputs": [],
      "source": [
        "# Parameters for all experiments\n",
        "window_size = 50\n",
        "input_shape = (window_size, 3)\n",
        "batch_size = 512\n",
        "#Number of samples processed together in one training step. Larger batch sizes can speed up training but require more memory.\n",
        "decay_steps = 1000\n",
        "#Number of steps after which the learning rate decays (used for learning rate scheduling).\n",
        "epochs = 200\n",
        "temperature = 0.1\n"
      ]
    },
    {
      "cell_type": "code",
      "execution_count": 3,
      "id": "509a8da0",
      "metadata": {
        "id": "509a8da0"
      },
      "outputs": [],
      "source": [
        "# # transformation_indices = [2] # Use rotation transformation only\n",
        "# # transformation_indices = [1, 2] # Use Scaling and rotation transformation\n",
        "# transformation_indices = [5, 7] # Use channel shuffle and permutation transformation\n",
        "\n",
        "# transform_funcs_vectorized = [\n",
        "#     # 0. Adding random Gaussian noise.\n",
        "#     transformations.noise_transform_vectorized,\n",
        "#     # 1. Scaling by a random factor\n",
        "#     transformations.scaling_transform_vectorized,\n",
        "#     # 2. Applying a random 3D rotation\n",
        "#     transformations.rotation_transform_vectorized,\n",
        "#     # 3. Inverting the signals.\n",
        "#     transformations.negate_transform_vectorized,\n",
        "#     # 4. Reversing the direction of time\n",
        "#     transformations.time_flip_transform_vectorized,\n",
        "#     # 5. Randomly scrambling sections of the signal.\n",
        "#     transformations.time_segment_permutation_transform_improved,\n",
        "#     # 6. Stretching and warping the time-series\n",
        "#     transformations.time_warp_transform_low_cost,\n",
        "#     # 7. Shuffling the different channels.\n",
        "#     transformations.channel_shuffle_transform_vectorized\n",
        "# ]\n",
        "# # transform_funcs_names = ['noised', 'scaled', 'rotated', 'negated', 'time_flipped', 'permuted', 'time_warped', 'channel_shuffled']\n",
        "# # Optionally, you can use a combined transformation function for data augmentation.\n",
        "# transformation_function = simclr_utitlities.generate_combined_transform_function(\n",
        "#     transform_funcs_vectorized,\n",
        "#     indices=transformation_indices\n",
        "# )"
      ]
    },
    {
      "cell_type": "code",
      "execution_count": 4,
      "id": "267dc541",
      "metadata": {
        "colab": {
          "base_uri": "https://localhost:8080/"
        },
        "id": "267dc541",
        "outputId": "e29d9540-0cdc-43bf-c97b-a1381774719b"
      },
      "outputs": [
        {
          "name": "stdout",
          "output_type": "stream",
          "text": [
            "0 <function time_segment_permutation_transform_improved at 0x7929c82151c0>\n",
            "1 <function channel_shuffle_transform_vectorized at 0x7929c8215120>\n"
          ]
        }
      ],
      "source": [
        "#A parameter for the SimCLR loss function that controls how sharply similarities are measured.\n",
        "# transform_funcs = [\n",
        "#     transformations.scaling_transform_vectorized, # Use Scaling trasnformation\n",
        "#     transformations.rotation_transform_vectorized # Use rotation trasnformation\n",
        "# ]\n",
        "transform_funcs = [\n",
        "    transformations.time_segment_permutation_transform_improved,\n",
        "    transformations.channel_shuffle_transform_vectorized\n",
        "]\n",
        "#List of data augmentation functions to apply to the input data. Here, only rotation is used.\n",
        "transformation_function = simclr_utitlities.generate_composite_transform_function_simple(transform_funcs)"
      ]
    },
    {
      "cell_type": "code",
      "execution_count": 5,
      "id": "488ebcf3",
      "metadata": {
        "id": "488ebcf3"
      },
      "outputs": [],
      "source": [
        "# Time\n",
        "start_time = datetime.datetime.now()\n",
        "start_time_str = start_time.strftime(\"%Y%m%d-%H%M%S\")\n",
        "#Formats the date and time as a string like 20250827-153045 (for filenames, logs, etc.).\n",
        "tf.keras.backend.set_floatx('float32')\n",
        "#Sets TensorFlow to use 32-bit floating point numbers for all computations (standard for deep learning).\n"
      ]
    },
    {
      "cell_type": "code",
      "execution_count": 6,
      "id": "27ddae84",
      "metadata": {
        "colab": {
          "base_uri": "https://localhost:8080/",
          "height": 1000
        },
        "id": "27ddae84",
        "outputId": "c59046d0-78ef-42c8-d131-eaeb43b3493f"
      },
      "outputs": [
        {
          "data": {
            "text/html": [
              "<pre style=\"white-space:pre;overflow-x:auto;line-height:normal;font-family:Menlo,'DejaVu Sans Mono',consolas,'Courier New',monospace\"><span style=\"font-weight: bold\">Model: \"base_model_simclr\"</span>\n",
              "</pre>\n"
            ],
            "text/plain": [
              "\u001b[1mModel: \"base_model_simclr\"\u001b[0m\n"
            ]
          },
          "metadata": {},
          "output_type": "display_data"
        },
        {
          "data": {
            "text/html": [
              "<pre style=\"white-space:pre;overflow-x:auto;line-height:normal;font-family:Menlo,'DejaVu Sans Mono',consolas,'Courier New',monospace\">┏━━━━━━━━━━━━━━━━━━━━━━━━━━━━━━━━━┳━━━━━━━━━━━━━━━━━━━━━━━━┳━━━━━━━━━━━━━━━┓\n",
              "┃<span style=\"font-weight: bold\"> Layer (type)                    </span>┃<span style=\"font-weight: bold\"> Output Shape           </span>┃<span style=\"font-weight: bold\">       Param # </span>┃\n",
              "┡━━━━━━━━━━━━━━━━━━━━━━━━━━━━━━━━━╇━━━━━━━━━━━━━━━━━━━━━━━━╇━━━━━━━━━━━━━━━┩\n",
              "│ input (<span style=\"color: #0087ff; text-decoration-color: #0087ff\">InputLayer</span>)              │ (<span style=\"color: #00d7ff; text-decoration-color: #00d7ff\">None</span>, <span style=\"color: #00af00; text-decoration-color: #00af00\">50</span>, <span style=\"color: #00af00; text-decoration-color: #00af00\">3</span>)          │             <span style=\"color: #00af00; text-decoration-color: #00af00\">0</span> │\n",
              "├─────────────────────────────────┼────────────────────────┼───────────────┤\n",
              "│ conv1d (<span style=\"color: #0087ff; text-decoration-color: #0087ff\">Conv1D</span>)                 │ (<span style=\"color: #00d7ff; text-decoration-color: #00d7ff\">None</span>, <span style=\"color: #00af00; text-decoration-color: #00af00\">27</span>, <span style=\"color: #00af00; text-decoration-color: #00af00\">32</span>)         │         <span style=\"color: #00af00; text-decoration-color: #00af00\">2,336</span> │\n",
              "├─────────────────────────────────┼────────────────────────┼───────────────┤\n",
              "│ dropout (<span style=\"color: #0087ff; text-decoration-color: #0087ff\">Dropout</span>)               │ (<span style=\"color: #00d7ff; text-decoration-color: #00d7ff\">None</span>, <span style=\"color: #00af00; text-decoration-color: #00af00\">27</span>, <span style=\"color: #00af00; text-decoration-color: #00af00\">32</span>)         │             <span style=\"color: #00af00; text-decoration-color: #00af00\">0</span> │\n",
              "├─────────────────────────────────┼────────────────────────┼───────────────┤\n",
              "│ conv1d_1 (<span style=\"color: #0087ff; text-decoration-color: #0087ff\">Conv1D</span>)               │ (<span style=\"color: #00d7ff; text-decoration-color: #00d7ff\">None</span>, <span style=\"color: #00af00; text-decoration-color: #00af00\">12</span>, <span style=\"color: #00af00; text-decoration-color: #00af00\">64</span>)         │        <span style=\"color: #00af00; text-decoration-color: #00af00\">32,832</span> │\n",
              "├─────────────────────────────────┼────────────────────────┼───────────────┤\n",
              "│ dropout_1 (<span style=\"color: #0087ff; text-decoration-color: #0087ff\">Dropout</span>)             │ (<span style=\"color: #00d7ff; text-decoration-color: #00d7ff\">None</span>, <span style=\"color: #00af00; text-decoration-color: #00af00\">12</span>, <span style=\"color: #00af00; text-decoration-color: #00af00\">64</span>)         │             <span style=\"color: #00af00; text-decoration-color: #00af00\">0</span> │\n",
              "├─────────────────────────────────┼────────────────────────┼───────────────┤\n",
              "│ conv1d_2 (<span style=\"color: #0087ff; text-decoration-color: #0087ff\">Conv1D</span>)               │ (<span style=\"color: #00d7ff; text-decoration-color: #00d7ff\">None</span>, <span style=\"color: #00af00; text-decoration-color: #00af00\">5</span>, <span style=\"color: #00af00; text-decoration-color: #00af00\">96</span>)          │        <span style=\"color: #00af00; text-decoration-color: #00af00\">49,248</span> │\n",
              "├─────────────────────────────────┼────────────────────────┼───────────────┤\n",
              "│ dropout_2 (<span style=\"color: #0087ff; text-decoration-color: #0087ff\">Dropout</span>)             │ (<span style=\"color: #00d7ff; text-decoration-color: #00d7ff\">None</span>, <span style=\"color: #00af00; text-decoration-color: #00af00\">5</span>, <span style=\"color: #00af00; text-decoration-color: #00af00\">96</span>)          │             <span style=\"color: #00af00; text-decoration-color: #00af00\">0</span> │\n",
              "├─────────────────────────────────┼────────────────────────┼───────────────┤\n",
              "│ global_max_pooling1d            │ (<span style=\"color: #00d7ff; text-decoration-color: #00d7ff\">None</span>, <span style=\"color: #00af00; text-decoration-color: #00af00\">96</span>)             │             <span style=\"color: #00af00; text-decoration-color: #00af00\">0</span> │\n",
              "│ (<span style=\"color: #0087ff; text-decoration-color: #0087ff\">GlobalMaxPooling1D</span>)            │                        │               │\n",
              "├─────────────────────────────────┼────────────────────────┼───────────────┤\n",
              "│ dense (<span style=\"color: #0087ff; text-decoration-color: #0087ff\">Dense</span>)                   │ (<span style=\"color: #00d7ff; text-decoration-color: #00d7ff\">None</span>, <span style=\"color: #00af00; text-decoration-color: #00af00\">256</span>)            │        <span style=\"color: #00af00; text-decoration-color: #00af00\">24,832</span> │\n",
              "├─────────────────────────────────┼────────────────────────┼───────────────┤\n",
              "│ activation (<span style=\"color: #0087ff; text-decoration-color: #0087ff\">Activation</span>)         │ (<span style=\"color: #00d7ff; text-decoration-color: #00d7ff\">None</span>, <span style=\"color: #00af00; text-decoration-color: #00af00\">256</span>)            │             <span style=\"color: #00af00; text-decoration-color: #00af00\">0</span> │\n",
              "├─────────────────────────────────┼────────────────────────┼───────────────┤\n",
              "│ dense_1 (<span style=\"color: #0087ff; text-decoration-color: #0087ff\">Dense</span>)                 │ (<span style=\"color: #00d7ff; text-decoration-color: #00d7ff\">None</span>, <span style=\"color: #00af00; text-decoration-color: #00af00\">128</span>)            │        <span style=\"color: #00af00; text-decoration-color: #00af00\">32,896</span> │\n",
              "├─────────────────────────────────┼────────────────────────┼───────────────┤\n",
              "│ activation_1 (<span style=\"color: #0087ff; text-decoration-color: #0087ff\">Activation</span>)       │ (<span style=\"color: #00d7ff; text-decoration-color: #00d7ff\">None</span>, <span style=\"color: #00af00; text-decoration-color: #00af00\">128</span>)            │             <span style=\"color: #00af00; text-decoration-color: #00af00\">0</span> │\n",
              "├─────────────────────────────────┼────────────────────────┼───────────────┤\n",
              "│ dense_2 (<span style=\"color: #0087ff; text-decoration-color: #0087ff\">Dense</span>)                 │ (<span style=\"color: #00d7ff; text-decoration-color: #00d7ff\">None</span>, <span style=\"color: #00af00; text-decoration-color: #00af00\">50</span>)             │         <span style=\"color: #00af00; text-decoration-color: #00af00\">6,450</span> │\n",
              "└─────────────────────────────────┴────────────────────────┴───────────────┘\n",
              "</pre>\n"
            ],
            "text/plain": [
              "┏━━━━━━━━━━━━━━━━━━━━━━━━━━━━━━━━━┳━━━━━━━━━━━━━━━━━━━━━━━━┳━━━━━━━━━━━━━━━┓\n",
              "┃\u001b[1m \u001b[0m\u001b[1mLayer (type)                   \u001b[0m\u001b[1m \u001b[0m┃\u001b[1m \u001b[0m\u001b[1mOutput Shape          \u001b[0m\u001b[1m \u001b[0m┃\u001b[1m \u001b[0m\u001b[1m      Param #\u001b[0m\u001b[1m \u001b[0m┃\n",
              "┡━━━━━━━━━━━━━━━━━━━━━━━━━━━━━━━━━╇━━━━━━━━━━━━━━━━━━━━━━━━╇━━━━━━━━━━━━━━━┩\n",
              "│ input (\u001b[38;5;33mInputLayer\u001b[0m)              │ (\u001b[38;5;45mNone\u001b[0m, \u001b[38;5;34m50\u001b[0m, \u001b[38;5;34m3\u001b[0m)          │             \u001b[38;5;34m0\u001b[0m │\n",
              "├─────────────────────────────────┼────────────────────────┼───────────────┤\n",
              "│ conv1d (\u001b[38;5;33mConv1D\u001b[0m)                 │ (\u001b[38;5;45mNone\u001b[0m, \u001b[38;5;34m27\u001b[0m, \u001b[38;5;34m32\u001b[0m)         │         \u001b[38;5;34m2,336\u001b[0m │\n",
              "├─────────────────────────────────┼────────────────────────┼───────────────┤\n",
              "│ dropout (\u001b[38;5;33mDropout\u001b[0m)               │ (\u001b[38;5;45mNone\u001b[0m, \u001b[38;5;34m27\u001b[0m, \u001b[38;5;34m32\u001b[0m)         │             \u001b[38;5;34m0\u001b[0m │\n",
              "├─────────────────────────────────┼────────────────────────┼───────────────┤\n",
              "│ conv1d_1 (\u001b[38;5;33mConv1D\u001b[0m)               │ (\u001b[38;5;45mNone\u001b[0m, \u001b[38;5;34m12\u001b[0m, \u001b[38;5;34m64\u001b[0m)         │        \u001b[38;5;34m32,832\u001b[0m │\n",
              "├─────────────────────────────────┼────────────────────────┼───────────────┤\n",
              "│ dropout_1 (\u001b[38;5;33mDropout\u001b[0m)             │ (\u001b[38;5;45mNone\u001b[0m, \u001b[38;5;34m12\u001b[0m, \u001b[38;5;34m64\u001b[0m)         │             \u001b[38;5;34m0\u001b[0m │\n",
              "├─────────────────────────────────┼────────────────────────┼───────────────┤\n",
              "│ conv1d_2 (\u001b[38;5;33mConv1D\u001b[0m)               │ (\u001b[38;5;45mNone\u001b[0m, \u001b[38;5;34m5\u001b[0m, \u001b[38;5;34m96\u001b[0m)          │        \u001b[38;5;34m49,248\u001b[0m │\n",
              "├─────────────────────────────────┼────────────────────────┼───────────────┤\n",
              "│ dropout_2 (\u001b[38;5;33mDropout\u001b[0m)             │ (\u001b[38;5;45mNone\u001b[0m, \u001b[38;5;34m5\u001b[0m, \u001b[38;5;34m96\u001b[0m)          │             \u001b[38;5;34m0\u001b[0m │\n",
              "├─────────────────────────────────┼────────────────────────┼───────────────┤\n",
              "│ global_max_pooling1d            │ (\u001b[38;5;45mNone\u001b[0m, \u001b[38;5;34m96\u001b[0m)             │             \u001b[38;5;34m0\u001b[0m │\n",
              "│ (\u001b[38;5;33mGlobalMaxPooling1D\u001b[0m)            │                        │               │\n",
              "├─────────────────────────────────┼────────────────────────┼───────────────┤\n",
              "│ dense (\u001b[38;5;33mDense\u001b[0m)                   │ (\u001b[38;5;45mNone\u001b[0m, \u001b[38;5;34m256\u001b[0m)            │        \u001b[38;5;34m24,832\u001b[0m │\n",
              "├─────────────────────────────────┼────────────────────────┼───────────────┤\n",
              "│ activation (\u001b[38;5;33mActivation\u001b[0m)         │ (\u001b[38;5;45mNone\u001b[0m, \u001b[38;5;34m256\u001b[0m)            │             \u001b[38;5;34m0\u001b[0m │\n",
              "├─────────────────────────────────┼────────────────────────┼───────────────┤\n",
              "│ dense_1 (\u001b[38;5;33mDense\u001b[0m)                 │ (\u001b[38;5;45mNone\u001b[0m, \u001b[38;5;34m128\u001b[0m)            │        \u001b[38;5;34m32,896\u001b[0m │\n",
              "├─────────────────────────────────┼────────────────────────┼───────────────┤\n",
              "│ activation_1 (\u001b[38;5;33mActivation\u001b[0m)       │ (\u001b[38;5;45mNone\u001b[0m, \u001b[38;5;34m128\u001b[0m)            │             \u001b[38;5;34m0\u001b[0m │\n",
              "├─────────────────────────────────┼────────────────────────┼───────────────┤\n",
              "│ dense_2 (\u001b[38;5;33mDense\u001b[0m)                 │ (\u001b[38;5;45mNone\u001b[0m, \u001b[38;5;34m50\u001b[0m)             │         \u001b[38;5;34m6,450\u001b[0m │\n",
              "└─────────────────────────────────┴────────────────────────┴───────────────┘\n"
            ]
          },
          "metadata": {},
          "output_type": "display_data"
        },
        {
          "data": {
            "text/html": [
              "<pre style=\"white-space:pre;overflow-x:auto;line-height:normal;font-family:Menlo,'DejaVu Sans Mono',consolas,'Courier New',monospace\"><span style=\"font-weight: bold\"> Total params: </span><span style=\"color: #00af00; text-decoration-color: #00af00\">148,594</span> (580.45 KB)\n",
              "</pre>\n"
            ],
            "text/plain": [
              "\u001b[1m Total params: \u001b[0m\u001b[38;5;34m148,594\u001b[0m (580.45 KB)\n"
            ]
          },
          "metadata": {},
          "output_type": "display_data"
        },
        {
          "data": {
            "text/html": [
              "<pre style=\"white-space:pre;overflow-x:auto;line-height:normal;font-family:Menlo,'DejaVu Sans Mono',consolas,'Courier New',monospace\"><span style=\"font-weight: bold\"> Trainable params: </span><span style=\"color: #00af00; text-decoration-color: #00af00\">148,594</span> (580.45 KB)\n",
              "</pre>\n"
            ],
            "text/plain": [
              "\u001b[1m Trainable params: \u001b[0m\u001b[38;5;34m148,594\u001b[0m (580.45 KB)\n"
            ]
          },
          "metadata": {},
          "output_type": "display_data"
        },
        {
          "data": {
            "text/html": [
              "<pre style=\"white-space:pre;overflow-x:auto;line-height:normal;font-family:Menlo,'DejaVu Sans Mono',consolas,'Courier New',monospace\"><span style=\"font-weight: bold\"> Non-trainable params: </span><span style=\"color: #00af00; text-decoration-color: #00af00\">0</span> (0.00 B)\n",
              "</pre>\n"
            ],
            "text/plain": [
              "\u001b[1m Non-trainable params: \u001b[0m\u001b[38;5;34m0\u001b[0m (0.00 B)\n"
            ]
          },
          "metadata": {},
          "output_type": "display_data"
        },
        {
          "name": "stdout",
          "output_type": "stream",
          "text": [
            "epoch: 1 loss: 13.380\n",
            "epoch: 2 loss: 13.331\n",
            "epoch: 3 loss: 13.156\n",
            "epoch: 4 loss: 12.631\n",
            "epoch: 5 loss: 11.849\n",
            "epoch: 6 loss: 11.400\n",
            "epoch: 7 loss: 11.550\n",
            "epoch: 8 loss: 12.386\n",
            "epoch: 9 loss: 11.396\n",
            "epoch: 10 loss: 11.447\n",
            "epoch: 11 loss: 10.297\n",
            "epoch: 12 loss: 10.244\n",
            "epoch: 13 loss: 11.003\n",
            "epoch: 14 loss: 10.222\n",
            "epoch: 15 loss: 10.409\n",
            "epoch: 16 loss: 9.814\n",
            "epoch: 17 loss: 9.924\n",
            "epoch: 18 loss: 9.529\n",
            "epoch: 19 loss: 9.801\n",
            "epoch: 20 loss: 10.223\n",
            "epoch: 21 loss: 9.668\n",
            "epoch: 22 loss: 9.417\n",
            "epoch: 23 loss: 9.849\n",
            "epoch: 24 loss: 9.238\n",
            "epoch: 25 loss: 9.349\n",
            "epoch: 26 loss: 9.291\n",
            "epoch: 27 loss: 8.944\n",
            "epoch: 28 loss: 8.956\n",
            "epoch: 29 loss: 9.469\n",
            "epoch: 30 loss: 9.275\n",
            "epoch: 31 loss: 9.358\n",
            "epoch: 32 loss: 8.810\n",
            "epoch: 33 loss: 9.146\n",
            "epoch: 34 loss: 9.174\n",
            "epoch: 35 loss: 8.936\n",
            "epoch: 36 loss: 8.909\n",
            "epoch: 37 loss: 9.038\n",
            "epoch: 38 loss: 8.860\n",
            "epoch: 39 loss: 8.668\n",
            "epoch: 40 loss: 8.884\n",
            "epoch: 41 loss: 8.676\n",
            "epoch: 42 loss: 8.731\n",
            "epoch: 43 loss: 8.831\n",
            "epoch: 44 loss: 8.606\n",
            "epoch: 45 loss: 8.298\n",
            "epoch: 46 loss: 9.152\n",
            "epoch: 47 loss: 9.701\n",
            "epoch: 48 loss: 8.589\n",
            "epoch: 49 loss: 8.605\n",
            "epoch: 50 loss: 8.604\n",
            "epoch: 51 loss: 8.641\n",
            "epoch: 52 loss: 8.589\n",
            "epoch: 53 loss: 8.236\n",
            "epoch: 54 loss: 8.252\n",
            "epoch: 55 loss: 8.457\n",
            "epoch: 56 loss: 8.370\n",
            "epoch: 57 loss: 8.029\n",
            "epoch: 58 loss: 8.153\n",
            "epoch: 59 loss: 8.141\n",
            "epoch: 60 loss: 8.506\n",
            "epoch: 61 loss: 7.889\n",
            "epoch: 62 loss: 8.082\n",
            "epoch: 63 loss: 7.848\n",
            "epoch: 64 loss: 8.057\n",
            "epoch: 65 loss: 8.596\n",
            "epoch: 66 loss: 10.180\n",
            "epoch: 67 loss: 9.076\n",
            "epoch: 68 loss: 8.452\n",
            "epoch: 69 loss: 8.074\n",
            "epoch: 70 loss: 8.039\n",
            "epoch: 71 loss: 8.813\n",
            "epoch: 72 loss: 7.723\n",
            "epoch: 73 loss: 8.000\n",
            "epoch: 74 loss: 7.735\n",
            "epoch: 75 loss: 7.505\n",
            "epoch: 76 loss: 7.749\n",
            "epoch: 77 loss: 7.551\n",
            "epoch: 78 loss: 7.787\n",
            "epoch: 79 loss: 8.007\n",
            "epoch: 80 loss: 7.712\n",
            "epoch: 81 loss: 7.641\n",
            "epoch: 82 loss: 7.385\n",
            "epoch: 83 loss: 7.462\n",
            "epoch: 84 loss: 7.887\n",
            "epoch: 85 loss: 7.667\n",
            "epoch: 86 loss: 7.509\n",
            "epoch: 87 loss: 7.292\n",
            "epoch: 88 loss: 7.291\n",
            "epoch: 89 loss: 7.989\n",
            "epoch: 90 loss: 7.307\n",
            "epoch: 91 loss: 7.438\n",
            "epoch: 92 loss: 7.087\n",
            "epoch: 93 loss: 7.553\n",
            "epoch: 94 loss: 7.236\n",
            "epoch: 95 loss: 7.218\n",
            "epoch: 96 loss: 7.495\n",
            "epoch: 97 loss: 8.367\n",
            "epoch: 98 loss: 8.381\n",
            "epoch: 99 loss: 7.470\n",
            "epoch: 100 loss: 8.004\n",
            "epoch: 101 loss: 7.304\n",
            "epoch: 102 loss: 7.359\n",
            "epoch: 103 loss: 7.496\n",
            "epoch: 104 loss: 7.134\n",
            "epoch: 105 loss: 7.546\n",
            "epoch: 106 loss: 7.141\n",
            "epoch: 107 loss: 7.008\n",
            "epoch: 108 loss: 7.005\n",
            "epoch: 109 loss: 7.399\n",
            "epoch: 110 loss: 6.933\n",
            "epoch: 111 loss: 6.884\n",
            "epoch: 112 loss: 7.098\n",
            "epoch: 113 loss: 7.266\n",
            "epoch: 114 loss: 7.052\n",
            "epoch: 115 loss: 7.117\n",
            "epoch: 116 loss: 6.987\n",
            "epoch: 117 loss: 7.028\n",
            "epoch: 118 loss: 6.980\n",
            "epoch: 119 loss: 7.137\n",
            "epoch: 120 loss: 6.911\n",
            "epoch: 121 loss: 6.861\n",
            "epoch: 122 loss: 6.661\n",
            "epoch: 123 loss: 6.835\n",
            "epoch: 124 loss: 7.121\n",
            "epoch: 125 loss: 6.889\n",
            "epoch: 126 loss: 7.130\n",
            "epoch: 127 loss: 6.800\n",
            "epoch: 128 loss: 6.735\n",
            "epoch: 129 loss: 6.730\n",
            "epoch: 130 loss: 6.812\n",
            "epoch: 131 loss: 7.038\n",
            "epoch: 132 loss: 6.628\n",
            "epoch: 133 loss: 6.649\n",
            "epoch: 134 loss: 6.839\n",
            "epoch: 135 loss: 6.423\n",
            "epoch: 136 loss: 6.822\n",
            "epoch: 137 loss: 6.456\n",
            "epoch: 138 loss: 7.033\n",
            "epoch: 139 loss: 7.087\n",
            "epoch: 140 loss: 6.523\n",
            "epoch: 141 loss: 6.503\n",
            "epoch: 142 loss: 6.631\n",
            "epoch: 143 loss: 7.058\n",
            "epoch: 144 loss: 7.130\n",
            "epoch: 145 loss: 6.782\n",
            "epoch: 146 loss: 6.441\n",
            "epoch: 147 loss: 6.621\n",
            "epoch: 148 loss: 6.316\n",
            "epoch: 149 loss: 6.548\n",
            "epoch: 150 loss: 6.832\n",
            "epoch: 151 loss: 6.507\n",
            "epoch: 152 loss: 6.366\n",
            "epoch: 153 loss: 6.428\n",
            "epoch: 154 loss: 6.756\n",
            "epoch: 155 loss: 6.663\n",
            "epoch: 156 loss: 6.287\n",
            "epoch: 157 loss: 6.549\n",
            "epoch: 158 loss: 6.368\n",
            "epoch: 159 loss: 6.487\n",
            "epoch: 160 loss: 6.376\n",
            "epoch: 161 loss: 6.649\n",
            "epoch: 162 loss: 6.189\n",
            "epoch: 163 loss: 6.433\n",
            "epoch: 164 loss: 6.307\n",
            "epoch: 165 loss: 6.546\n",
            "epoch: 166 loss: 6.288\n",
            "epoch: 167 loss: 8.408\n",
            "epoch: 168 loss: 7.216\n",
            "epoch: 169 loss: 6.935\n",
            "epoch: 170 loss: 6.676\n",
            "epoch: 171 loss: 6.509\n",
            "epoch: 172 loss: 6.724\n",
            "epoch: 173 loss: 6.790\n",
            "epoch: 174 loss: 6.371\n",
            "epoch: 175 loss: 6.609\n",
            "epoch: 176 loss: 6.734\n",
            "epoch: 177 loss: 6.476\n",
            "epoch: 178 loss: 6.559\n",
            "epoch: 179 loss: 6.231\n",
            "epoch: 180 loss: 6.379\n",
            "epoch: 181 loss: 6.672\n",
            "epoch: 182 loss: 6.346\n",
            "epoch: 183 loss: 6.353\n",
            "epoch: 184 loss: 6.613\n",
            "epoch: 185 loss: 6.650\n",
            "epoch: 186 loss: 6.055\n",
            "epoch: 187 loss: 6.153\n",
            "epoch: 188 loss: 6.454\n",
            "epoch: 189 loss: 6.331\n",
            "epoch: 190 loss: 6.084\n",
            "epoch: 191 loss: 6.172\n",
            "epoch: 192 loss: 6.167\n",
            "epoch: 193 loss: 6.374\n",
            "epoch: 194 loss: 6.079\n",
            "epoch: 195 loss: 6.116\n",
            "epoch: 196 loss: 6.131\n",
            "epoch: 197 loss: 6.434\n",
            "epoch: 198 loss: 6.960\n"
          ]
        },
        {
          "name": "stderr",
          "output_type": "stream",
          "text": [
            "WARNING:absl:You are saving your model as an HDF5 file via `model.save()` or `keras.saving.save_model(model)`. This file format is considered legacy. We recommend using instead the native Keras format, e.g. `model.save('my_model.keras')` or `keras.saving.save_model(model, 'my_model.keras')`. \n"
          ]
        },
        {
          "name": "stdout",
          "output_type": "stream",
          "text": [
            "epoch: 199 loss: 7.225\n",
            "epoch: 200 loss: 6.315\n"
          ]
        }
      ],
      "source": [
        "# Create a cosine-decayed learning rate schedule and SGD optimizer for training.\n",
        "lr_decayed_fn = tf.keras.optimizers.schedules.CosineDecay(initial_learning_rate=0.1, decay_steps=decay_steps)\n",
        "optimizer = tf.keras.optimizers.SGD(lr_decayed_fn)\n",
        "\n",
        "# Build the base model and attach the SimCLR head for contrastive learning.\n",
        "base_model = simclr_models.create_base_model(input_shape, model_name=\"base_model\")\n",
        "simclr_model = simclr_models.attach_simclr_head(base_model)\n",
        "simclr_model.summary()\n",
        "\n",
        "# Train the SimCLR model using the specified transformation function and optimizer.\n",
        "trained_simclr_model, epoch_losses = simclr_utitlities.simclr_train_model(\n",
        "    simclr_model,\n",
        "    np_train_data,\n",
        "    optimizer,\n",
        "    batch_size,\n",
        "    transformation_function,\n",
        "    temperature=temperature,\n",
        "    epochs=epochs,\n",
        "    is_trasnform_function_vectorized=True,\n",
        "    verbose=1\n",
        ")\n",
        "\n",
        "# Save the trained SimCLR model to disk for later use.\n",
        "simclr_model_save_path = f\"{working_directory}{start_time_str}_simclr.hdf5\"\n",
        "trained_simclr_model.save(simclr_model_save_path)"
      ]
    },
    {
      "cell_type": "code",
      "execution_count": 7,
      "id": "3e6b1270",
      "metadata": {
        "colab": {
          "base_uri": "https://localhost:8080/",
          "height": 600
        },
        "id": "3e6b1270",
        "outputId": "37bc6500-ef22-46af-9357-15c006fc0667"
      },
      "outputs": [
        {
          "data": {
            "image/png": "[encoded data removed]",
            "text/plain": [
              "<Figure size 1200x800 with 1 Axes>"
            ]
          },
          "metadata": {},
          "output_type": "display_data"
        }
      ],
      "source": [
        "plt.figure(figsize=(12,8))\n",
        "plt.plot(epoch_losses)\n",
        "plt.ylabel(\"Loss\")\n",
        "plt.xlabel(\"Epoch\")\n",
        "plt.show()"
      ]
    },
    {
      "cell_type": "markdown",
      "id": "22e9a31c",
      "metadata": {
        "id": "22e9a31c"
      },
      "source": [
        "## Fine-tuning and Evaluation"
      ]
    },
    {
      "cell_type": "markdown",
      "id": "143f905b",
      "metadata": {
        "id": "143f905b"
      },
      "source": [
        "### Linear Model"
      ]
    },
    {
      "cell_type": "code",
      "execution_count": 9,
      "id": "afc61926",
      "metadata": {
        "colab": {
          "base_uri": "https://localhost:8080/"
        },
        "id": "afc61926",
        "outputId": "5f8465e8-9f07-4b18-bb59-cf885d60c4d9"
      },
      "outputs": [
        {
          "name": "stderr",
          "output_type": "stream",
          "text": [
            "WARNING:absl:No training configuration found in the save file, so the model was *not* compiled. Compile it manually.\n"
          ]
        },
        {
          "name": "stdout",
          "output_type": "stream",
          "text": [
            "Epoch 1/50\n",
            "\u001b[1m5/5\u001b[0m \u001b[32m━━━━━━━━━━━━━━━━━━━━\u001b[0m\u001b[37m\u001b[0m \u001b[1m8s\u001b[0m 1s/step - auc: 0.6520 - categorical_accuracy: 0.2962 - loss: 1.7205 - precision: 0.7692 - recall: 0.1241 - val_auc: 0.8025 - val_categorical_accuracy: 0.3821 - val_loss: 1.5054 - val_precision: 1.0000 - val_recall: 0.1887\n",
            "Epoch 2/50\n",
            "\u001b[1m5/5\u001b[0m \u001b[32m━━━━━━━━━━━━━━━━━━━━\u001b[0m\u001b[37m\u001b[0m \u001b[1m0s\u001b[0m 30ms/step - auc: 0.8029 - categorical_accuracy: 0.3753 - loss: 1.4849 - precision: 0.9229 - recall: 0.2194 - val_auc: 0.8189 - val_categorical_accuracy: 0.4104 - val_loss: 1.4536 - val_precision: 1.0000 - val_recall: 0.2075\n",
            "Epoch 3/50\n",
            "\u001b[1m5/5\u001b[0m \u001b[32m━━━━━━━━━━━━━━━━━━━━\u001b[0m\u001b[37m\u001b[0m \u001b[1m0s\u001b[0m 29ms/step - auc: 0.8192 - categorical_accuracy: 0.3998 - loss: 1.4381 - precision: 0.8812 - recall: 0.2390 - val_auc: 0.8275 - val_categorical_accuracy: 0.4340 - val_loss: 1.4205 - val_precision: 1.0000 - val_recall: 0.2217\n",
            "Epoch 4/50\n",
            "\u001b[1m5/5\u001b[0m \u001b[32m━━━━━━━━━━━━━━━━━━━━\u001b[0m\u001b[37m\u001b[0m \u001b[1m0s\u001b[0m 29ms/step - auc: 0.8292 - categorical_accuracy: 0.4153 - loss: 1.4071 - precision: 0.8859 - recall: 0.2536 - val_auc: 0.8364 - val_categorical_accuracy: 0.4811 - val_loss: 1.3982 - val_precision: 1.0000 - val_recall: 0.2264\n",
            "Epoch 5/50\n",
            "\u001b[1m5/5\u001b[0m \u001b[32m━━━━━━━━━━━━━━━━━━━━\u001b[0m\u001b[37m\u001b[0m \u001b[1m0s\u001b[0m 29ms/step - auc: 0.8342 - categorical_accuracy: 0.4344 - loss: 1.3871 - precision: 0.8717 - recall: 0.2527 - val_auc: 0.8401 - val_categorical_accuracy: 0.4953 - val_loss: 1.3804 - val_precision: 1.0000 - val_recall: 0.2358\n",
            "Epoch 6/50\n",
            "\u001b[1m5/5\u001b[0m \u001b[32m━━━━━━━━━━━━━━━━━━━━\u001b[0m\u001b[37m\u001b[0m \u001b[1m0s\u001b[0m 29ms/step - auc: 0.8390 - categorical_accuracy: 0.4559 - loss: 1.3689 - precision: 0.8836 - recall: 0.2611 - val_auc: 0.8437 - val_categorical_accuracy: 0.5377 - val_loss: 1.3668 - val_precision: 1.0000 - val_recall: 0.2406\n",
            "Epoch 7/50\n",
            "\u001b[1m5/5\u001b[0m \u001b[32m━━━━━━━━━━━━━━━━━━━━\u001b[0m\u001b[37m\u001b[0m \u001b[1m0s\u001b[0m 29ms/step - auc: 0.8429 - categorical_accuracy: 0.4697 - loss: 1.3549 - precision: 0.8747 - recall: 0.2593 - val_auc: 0.8461 - val_categorical_accuracy: 0.5425 - val_loss: 1.3531 - val_precision: 0.9818 - val_recall: 0.2547\n",
            "Epoch 8/50\n",
            "\u001b[1m5/5\u001b[0m \u001b[32m━━━━━━━━━━━━━━━━━━━━\u001b[0m\u001b[37m\u001b[0m \u001b[1m0s\u001b[0m 29ms/step - auc: 0.8452 - categorical_accuracy: 0.4920 - loss: 1.3407 - precision: 0.8899 - recall: 0.2709 - val_auc: 0.8485 - val_categorical_accuracy: 0.5519 - val_loss: 1.3398 - val_precision: 0.9821 - val_recall: 0.2594\n",
            "Epoch 9/50\n",
            "\u001b[1m5/5\u001b[0m \u001b[32m━━━━━━━━━━━━━━━━━━━━\u001b[0m\u001b[37m\u001b[0m \u001b[1m0s\u001b[0m 29ms/step - auc: 0.8482 - categorical_accuracy: 0.5043 - loss: 1.3300 - precision: 0.8676 - recall: 0.2646 - val_auc: 0.8502 - val_categorical_accuracy: 0.5660 - val_loss: 1.3332 - val_precision: 0.9821 - val_recall: 0.2594\n",
            "Epoch 10/50\n",
            "\u001b[1m5/5\u001b[0m \u001b[32m━━━━━━━━━━━━━━━━━━━━\u001b[0m\u001b[37m\u001b[0m \u001b[1m0s\u001b[0m 29ms/step - auc: 0.8525 - categorical_accuracy: 0.5174 - loss: 1.3147 - precision: 0.8818 - recall: 0.2666 - val_auc: 0.8520 - val_categorical_accuracy: 0.5708 - val_loss: 1.3222 - val_precision: 0.9821 - val_recall: 0.2594\n",
            "Epoch 11/50\n",
            "\u001b[1m5/5\u001b[0m \u001b[32m━━━━━━━━━━━━━━━━━━━━\u001b[0m\u001b[37m\u001b[0m \u001b[1m0s\u001b[0m 29ms/step - auc: 0.8546 - categorical_accuracy: 0.5184 - loss: 1.3040 - precision: 0.8762 - recall: 0.2740 - val_auc: 0.8534 - val_categorical_accuracy: 0.5613 - val_loss: 1.3143 - val_precision: 0.9821 - val_recall: 0.2594\n",
            "Epoch 12/50\n",
            "\u001b[1m5/5\u001b[0m \u001b[32m━━━━━━━━━━━━━━━━━━━━\u001b[0m\u001b[37m\u001b[0m \u001b[1m0s\u001b[0m 30ms/step - auc: 0.8559 - categorical_accuracy: 0.5324 - loss: 1.2981 - precision: 0.8944 - recall: 0.2674 - val_auc: 0.8549 - val_categorical_accuracy: 0.5660 - val_loss: 1.3092 - val_precision: 0.9821 - val_recall: 0.2594\n",
            "Epoch 13/50\n",
            "\u001b[1m5/5\u001b[0m \u001b[32m━━━━━━━━━━━━━━━━━━━━\u001b[0m\u001b[37m\u001b[0m \u001b[1m0s\u001b[0m 29ms/step - auc: 0.8563 - categorical_accuracy: 0.5448 - loss: 1.2936 - precision: 0.8825 - recall: 0.2714 - val_auc: 0.8568 - val_categorical_accuracy: 0.5613 - val_loss: 1.3005 - val_precision: 0.9649 - val_recall: 0.2594\n",
            "Epoch 14/50\n",
            "\u001b[1m5/5\u001b[0m \u001b[32m━━━━━━━━━━━━━━━━━━━━\u001b[0m\u001b[37m\u001b[0m \u001b[1m0s\u001b[0m 29ms/step - auc: 0.8583 - categorical_accuracy: 0.5326 - loss: 1.2876 - precision: 0.8910 - recall: 0.2661 - val_auc: 0.8570 - val_categorical_accuracy: 0.5708 - val_loss: 1.2970 - val_precision: 0.9483 - val_recall: 0.2594\n",
            "Epoch 15/50\n",
            "\u001b[1m5/5\u001b[0m \u001b[32m━━━━━━━━━━━━━━━━━━━━\u001b[0m\u001b[37m\u001b[0m \u001b[1m0s\u001b[0m 30ms/step - auc: 0.8579 - categorical_accuracy: 0.5512 - loss: 1.2871 - precision: 0.8782 - recall: 0.2755 - val_auc: 0.8596 - val_categorical_accuracy: 0.5472 - val_loss: 1.2906 - val_precision: 0.9483 - val_recall: 0.2594\n",
            "Epoch 16/50\n",
            "\u001b[1m5/5\u001b[0m \u001b[32m━━━━━━━━━━━━━━━━━━━━\u001b[0m\u001b[37m\u001b[0m \u001b[1m0s\u001b[0m 29ms/step - auc: 0.8611 - categorical_accuracy: 0.5510 - loss: 1.2769 - precision: 0.8848 - recall: 0.2728 - val_auc: 0.8605 - val_categorical_accuracy: 0.5613 - val_loss: 1.2824 - val_precision: 0.9655 - val_recall: 0.2642\n",
            "Epoch 17/50\n",
            "\u001b[1m5/5\u001b[0m \u001b[32m━━━━━━━━━━━━━━━━━━━━\u001b[0m\u001b[37m\u001b[0m \u001b[1m0s\u001b[0m 29ms/step - auc: 0.8619 - categorical_accuracy: 0.5417 - loss: 1.2690 - precision: 0.8808 - recall: 0.2735 - val_auc: 0.8617 - val_categorical_accuracy: 0.5519 - val_loss: 1.2778 - val_precision: 0.9333 - val_recall: 0.2642\n",
            "Epoch 18/50\n",
            "\u001b[1m5/5\u001b[0m \u001b[32m━━━━━━━━━━━━━━━━━━━━\u001b[0m\u001b[37m\u001b[0m \u001b[1m0s\u001b[0m 29ms/step - auc: 0.8633 - categorical_accuracy: 0.5513 - loss: 1.2669 - precision: 0.8956 - recall: 0.2700 - val_auc: 0.8626 - val_categorical_accuracy: 0.5519 - val_loss: 1.2721 - val_precision: 0.9344 - val_recall: 0.2689\n",
            "Epoch 19/50\n",
            "\u001b[1m5/5\u001b[0m \u001b[32m━━━━━━━━━━━━━━━━━━━━\u001b[0m\u001b[37m\u001b[0m \u001b[1m0s\u001b[0m 29ms/step - auc: 0.8636 - categorical_accuracy: 0.5462 - loss: 1.2663 - precision: 0.8714 - recall: 0.2707 - val_auc: 0.8627 - val_categorical_accuracy: 0.5708 - val_loss: 1.2694 - val_precision: 0.9333 - val_recall: 0.2642\n",
            "Epoch 20/50\n",
            "\u001b[1m5/5\u001b[0m \u001b[32m━━━━━━━━━━━━━━━━━━━━\u001b[0m\u001b[37m\u001b[0m \u001b[1m0s\u001b[0m 29ms/step - auc: 0.8639 - categorical_accuracy: 0.5511 - loss: 1.2603 - precision: 0.8791 - recall: 0.2743 - val_auc: 0.8641 - val_categorical_accuracy: 0.5519 - val_loss: 1.2676 - val_precision: 0.9492 - val_recall: 0.2642\n",
            "Epoch 21/50\n",
            "\u001b[1m5/5\u001b[0m \u001b[32m━━━━━━━━━━━━━━━━━━━━\u001b[0m\u001b[37m\u001b[0m \u001b[1m0s\u001b[0m 29ms/step - auc: 0.8661 - categorical_accuracy: 0.5538 - loss: 1.2556 - precision: 0.8996 - recall: 0.2726 - val_auc: 0.8642 - val_categorical_accuracy: 0.5660 - val_loss: 1.2626 - val_precision: 0.9333 - val_recall: 0.2642\n",
            "Epoch 22/50\n",
            "\u001b[1m5/5\u001b[0m \u001b[32m━━━━━━━━━━━━━━━━━━━━\u001b[0m\u001b[37m\u001b[0m \u001b[1m0s\u001b[0m 28ms/step - auc: 0.8654 - categorical_accuracy: 0.5495 - loss: 1.2509 - precision: 0.8974 - recall: 0.2704 - val_auc: 0.8655 - val_categorical_accuracy: 0.5660 - val_loss: 1.2599 - val_precision: 0.9333 - val_recall: 0.2642\n",
            "Epoch 23/50\n",
            "\u001b[1m5/5\u001b[0m \u001b[32m━━━━━━━━━━━━━━━━━━━━\u001b[0m\u001b[37m\u001b[0m \u001b[1m0s\u001b[0m 28ms/step - auc: 0.8675 - categorical_accuracy: 0.5570 - loss: 1.2454 - precision: 0.8975 - recall: 0.2810 - val_auc: 0.8665 - val_categorical_accuracy: 0.5660 - val_loss: 1.2537 - val_precision: 0.9344 - val_recall: 0.2689\n",
            "Epoch 24/50\n",
            "\u001b[1m5/5\u001b[0m \u001b[32m━━━━━━━━━━━━━━━━━━━━\u001b[0m\u001b[37m\u001b[0m \u001b[1m0s\u001b[0m 30ms/step - auc: 0.8668 - categorical_accuracy: 0.5650 - loss: 1.2449 - precision: 0.8809 - recall: 0.2746 - val_auc: 0.8668 - val_categorical_accuracy: 0.5660 - val_loss: 1.2519 - val_precision: 0.9333 - val_recall: 0.2642\n",
            "Epoch 25/50\n",
            "\u001b[1m5/5\u001b[0m \u001b[32m━━━━━━━━━━━━━━━━━━━━\u001b[0m\u001b[37m\u001b[0m \u001b[1m0s\u001b[0m 28ms/step - auc: 0.8677 - categorical_accuracy: 0.5573 - loss: 1.2377 - precision: 0.8874 - recall: 0.2778 - val_auc: 0.8668 - val_categorical_accuracy: 0.5708 - val_loss: 1.2494 - val_precision: 0.9333 - val_recall: 0.2642\n",
            "Epoch 26/50\n",
            "\u001b[1m5/5\u001b[0m \u001b[32m━━━━━━━━━━━━━━━━━━━━\u001b[0m\u001b[37m\u001b[0m \u001b[1m0s\u001b[0m 29ms/step - auc: 0.8685 - categorical_accuracy: 0.5600 - loss: 1.2375 - precision: 0.8914 - recall: 0.2695 - val_auc: 0.8674 - val_categorical_accuracy: 0.5660 - val_loss: 1.2483 - val_precision: 0.9333 - val_recall: 0.2642\n",
            "Epoch 27/50\n",
            "\u001b[1m5/5\u001b[0m \u001b[32m━━━━━━━━━━━━━━━━━━━━\u001b[0m\u001b[37m\u001b[0m \u001b[1m0s\u001b[0m 29ms/step - auc: 0.8705 - categorical_accuracy: 0.5543 - loss: 1.2301 - precision: 0.8995 - recall: 0.2696 - val_auc: 0.8687 - val_categorical_accuracy: 0.5660 - val_loss: 1.2424 - val_precision: 0.9333 - val_recall: 0.2642\n",
            "Epoch 28/50\n",
            "\u001b[1m5/5\u001b[0m \u001b[32m━━━━━━━━━━━━━━━━━━━━\u001b[0m\u001b[37m\u001b[0m \u001b[1m0s\u001b[0m 30ms/step - auc: 0.8701 - categorical_accuracy: 0.5511 - loss: 1.2297 - precision: 0.9083 - recall: 0.2687 - val_auc: 0.8685 - val_categorical_accuracy: 0.5708 - val_loss: 1.2412 - val_precision: 0.9333 - val_recall: 0.2642\n",
            "Epoch 29/50\n",
            "\u001b[1m5/5\u001b[0m \u001b[32m━━━━━━━━━━━━━━━━━━━━\u001b[0m\u001b[37m\u001b[0m \u001b[1m0s\u001b[0m 30ms/step - auc: 0.8704 - categorical_accuracy: 0.5567 - loss: 1.2285 - precision: 0.8848 - recall: 0.2684 - val_auc: 0.8688 - val_categorical_accuracy: 0.5708 - val_loss: 1.2385 - val_precision: 0.9333 - val_recall: 0.2642\n",
            "Epoch 30/50\n",
            "\u001b[1m5/5\u001b[0m \u001b[32m━━━━━━━━━━━━━━━━━━━━\u001b[0m\u001b[37m\u001b[0m \u001b[1m0s\u001b[0m 29ms/step - auc: 0.8700 - categorical_accuracy: 0.5640 - loss: 1.2323 - precision: 0.8927 - recall: 0.2798 - val_auc: 0.8701 - val_categorical_accuracy: 0.5613 - val_loss: 1.2336 - val_precision: 0.9344 - val_recall: 0.2689\n",
            "Epoch 31/50\n",
            "\u001b[1m5/5\u001b[0m \u001b[32m━━━━━━━━━━━━━━━━━━━━\u001b[0m\u001b[37m\u001b[0m \u001b[1m0s\u001b[0m 22ms/step - auc: 0.8722 - categorical_accuracy: 0.5568 - loss: 1.2197 - precision: 0.8980 - recall: 0.2792 - val_auc: 0.8704 - val_categorical_accuracy: 0.5613 - val_loss: 1.2337 - val_precision: 0.9333 - val_recall: 0.2642\n",
            "Epoch 32/50\n",
            "\u001b[1m5/5\u001b[0m \u001b[32m━━━━━━━━━━━━━━━━━━━━\u001b[0m\u001b[37m\u001b[0m \u001b[1m0s\u001b[0m 29ms/step - auc: 0.8717 - categorical_accuracy: 0.5664 - loss: 1.2230 - precision: 0.8822 - recall: 0.2676 - val_auc: 0.8717 - val_categorical_accuracy: 0.5613 - val_loss: 1.2282 - val_precision: 0.9344 - val_recall: 0.2689\n",
            "Epoch 33/50\n",
            "\u001b[1m5/5\u001b[0m \u001b[32m━━━━━━━━━━━━━━━━━━━━\u001b[0m\u001b[37m\u001b[0m \u001b[1m0s\u001b[0m 29ms/step - auc: 0.8720 - categorical_accuracy: 0.5518 - loss: 1.2232 - precision: 0.8794 - recall: 0.2739 - val_auc: 0.8717 - val_categorical_accuracy: 0.5708 - val_loss: 1.2278 - val_precision: 0.9344 - val_recall: 0.2689\n",
            "Epoch 34/50\n",
            "\u001b[1m5/5\u001b[0m \u001b[32m━━━━━━━━━━━━━━━━━━━━\u001b[0m\u001b[37m\u001b[0m \u001b[1m0s\u001b[0m 23ms/step - auc: 0.8719 - categorical_accuracy: 0.5642 - loss: 1.2219 - precision: 0.8915 - recall: 0.2793 - val_auc: 0.8715 - val_categorical_accuracy: 0.5708 - val_loss: 1.2281 - val_precision: 0.9333 - val_recall: 0.2642\n",
            "Epoch 35/50\n",
            "\u001b[1m5/5\u001b[0m \u001b[32m━━━━━━━━━━━━━━━━━━━━\u001b[0m\u001b[37m\u001b[0m \u001b[1m0s\u001b[0m 29ms/step - auc: 0.8706 - categorical_accuracy: 0.5703 - loss: 1.2244 - precision: 0.8896 - recall: 0.2752 - val_auc: 0.8734 - val_categorical_accuracy: 0.5566 - val_loss: 1.2239 - val_precision: 0.9333 - val_recall: 0.2642\n",
            "Epoch 36/50\n",
            "\u001b[1m5/5\u001b[0m \u001b[32m━━━━━━━━━━━━━━━━━━━━\u001b[0m\u001b[37m\u001b[0m \u001b[1m0s\u001b[0m 29ms/step - auc: 0.8747 - categorical_accuracy: 0.5628 - loss: 1.2118 - precision: 0.8743 - recall: 0.2728 - val_auc: 0.8723 - val_categorical_accuracy: 0.5708 - val_loss: 1.2235 - val_precision: 0.9492 - val_recall: 0.2642\n",
            "Epoch 37/50\n",
            "\u001b[1m5/5\u001b[0m \u001b[32m━━━━━━━━━━━━━━━━━━━━\u001b[0m\u001b[37m\u001b[0m \u001b[1m0s\u001b[0m 29ms/step - auc: 0.8752 - categorical_accuracy: 0.5752 - loss: 1.2072 - precision: 0.9013 - recall: 0.2763 - val_auc: 0.8729 - val_categorical_accuracy: 0.5708 - val_loss: 1.2200 - val_precision: 0.9344 - val_recall: 0.2689\n",
            "Epoch 38/50\n",
            "\u001b[1m5/5\u001b[0m \u001b[32m━━━━━━━━━━━━━━━━━━━━\u001b[0m\u001b[37m\u001b[0m \u001b[1m0s\u001b[0m 30ms/step - auc: 0.8728 - categorical_accuracy: 0.5654 - loss: 1.2149 - precision: 0.8863 - recall: 0.2743 - val_auc: 0.8734 - val_categorical_accuracy: 0.5613 - val_loss: 1.2185 - val_precision: 0.9180 - val_recall: 0.2642\n",
            "Epoch 39/50\n",
            "\u001b[1m5/5\u001b[0m \u001b[32m━━━━━━━━━━━━━━━━━━━━\u001b[0m\u001b[37m\u001b[0m \u001b[1m0s\u001b[0m 30ms/step - auc: 0.8733 - categorical_accuracy: 0.5657 - loss: 1.2129 - precision: 0.8798 - recall: 0.2768 - val_auc: 0.8737 - val_categorical_accuracy: 0.5708 - val_loss: 1.2161 - val_precision: 0.9500 - val_recall: 0.2689\n",
            "Epoch 40/50\n",
            "\u001b[1m5/5\u001b[0m \u001b[32m━━━━━━━━━━━━━━━━━━━━\u001b[0m\u001b[37m\u001b[0m \u001b[1m0s\u001b[0m 31ms/step - auc: 0.8742 - categorical_accuracy: 0.5637 - loss: 1.2106 - precision: 0.9044 - recall: 0.2786 - val_auc: 0.8742 - val_categorical_accuracy: 0.5708 - val_loss: 1.2136 - val_precision: 0.9500 - val_recall: 0.2689\n",
            "Epoch 41/50\n",
            "\u001b[1m5/5\u001b[0m \u001b[32m━━━━━━━━━━━━━━━━━━━━\u001b[0m\u001b[37m\u001b[0m \u001b[1m0s\u001b[0m 22ms/step - auc: 0.8742 - categorical_accuracy: 0.5598 - loss: 1.2084 - precision: 0.8898 - recall: 0.2799 - val_auc: 0.8733 - val_categorical_accuracy: 0.5755 - val_loss: 1.2158 - val_precision: 0.9180 - val_recall: 0.2642\n",
            "Epoch 42/50\n",
            "\u001b[1m5/5\u001b[0m \u001b[32m━━━━━━━━━━━━━━━━━━━━\u001b[0m\u001b[37m\u001b[0m \u001b[1m0s\u001b[0m 30ms/step - auc: 0.8747 - categorical_accuracy: 0.5683 - loss: 1.2068 - precision: 0.8726 - recall: 0.2743 - val_auc: 0.8747 - val_categorical_accuracy: 0.5613 - val_loss: 1.2124 - val_precision: 0.9180 - val_recall: 0.2642\n",
            "Epoch 43/50\n",
            "\u001b[1m5/5\u001b[0m \u001b[32m━━━━━━━━━━━━━━━━━━━━\u001b[0m\u001b[37m\u001b[0m \u001b[1m0s\u001b[0m 29ms/step - auc: 0.8786 - categorical_accuracy: 0.5728 - loss: 1.1907 - precision: 0.9262 - recall: 0.2792 - val_auc: 0.8748 - val_categorical_accuracy: 0.5755 - val_loss: 1.2080 - val_precision: 0.9344 - val_recall: 0.2689\n",
            "Epoch 44/50\n",
            "\u001b[1m5/5\u001b[0m \u001b[32m━━━━━━━━━━━━━━━━━━━━\u001b[0m\u001b[37m\u001b[0m \u001b[1m0s\u001b[0m 29ms/step - auc: 0.8755 - categorical_accuracy: 0.5632 - loss: 1.2030 - precision: 0.9055 - recall: 0.2823 - val_auc: 0.8753 - val_categorical_accuracy: 0.5660 - val_loss: 1.2077 - val_precision: 0.9492 - val_recall: 0.2642\n",
            "Epoch 45/50\n",
            "\u001b[1m5/5\u001b[0m \u001b[32m━━━━━━━━━━━━━━━━━━━━\u001b[0m\u001b[37m\u001b[0m \u001b[1m0s\u001b[0m 29ms/step - auc: 0.8760 - categorical_accuracy: 0.5707 - loss: 1.2021 - precision: 0.8957 - recall: 0.2746 - val_auc: 0.8767 - val_categorical_accuracy: 0.5566 - val_loss: 1.2044 - val_precision: 0.9344 - val_recall: 0.2689\n",
            "Epoch 46/50\n",
            "\u001b[1m5/5\u001b[0m \u001b[32m━━━━━━━━━━━━━━━━━━━━\u001b[0m\u001b[37m\u001b[0m \u001b[1m0s\u001b[0m 23ms/step - auc: 0.8784 - categorical_accuracy: 0.5655 - loss: 1.1938 - precision: 0.8949 - recall: 0.2848 - val_auc: 0.8760 - val_categorical_accuracy: 0.5613 - val_loss: 1.2049 - val_precision: 0.9655 - val_recall: 0.2642\n",
            "Epoch 47/50\n",
            "\u001b[1m5/5\u001b[0m \u001b[32m━━━━━━━━━━━━━━━━━━━━\u001b[0m\u001b[37m\u001b[0m \u001b[1m0s\u001b[0m 29ms/step - auc: 0.8764 - categorical_accuracy: 0.5739 - loss: 1.1976 - precision: 0.8993 - recall: 0.2788 - val_auc: 0.8767 - val_categorical_accuracy: 0.5566 - val_loss: 1.2028 - val_precision: 0.9344 - val_recall: 0.2689\n",
            "Epoch 48/50\n",
            "\u001b[1m5/5\u001b[0m \u001b[32m━━━━━━━━━━━━━━━━━━━━\u001b[0m\u001b[37m\u001b[0m \u001b[1m0s\u001b[0m 30ms/step - auc: 0.8763 - categorical_accuracy: 0.5671 - loss: 1.1981 - precision: 0.8726 - recall: 0.2761 - val_auc: 0.8771 - val_categorical_accuracy: 0.5613 - val_loss: 1.2017 - val_precision: 0.9333 - val_recall: 0.2642\n",
            "Epoch 49/50\n",
            "\u001b[1m5/5\u001b[0m \u001b[32m━━━━━━━━━━━━━━━━━━━━\u001b[0m\u001b[37m\u001b[0m \u001b[1m0s\u001b[0m 22ms/step - auc: 0.8755 - categorical_accuracy: 0.5588 - loss: 1.1978 - precision: 0.9017 - recall: 0.2791 - val_auc: 0.8754 - val_categorical_accuracy: 0.5708 - val_loss: 1.2045 - val_precision: 0.9333 - val_recall: 0.2642\n",
            "Epoch 50/50\n",
            "\u001b[1m5/5\u001b[0m \u001b[32m━━━━━━━━━━━━━━━━━━━━\u001b[0m\u001b[37m\u001b[0m \u001b[1m0s\u001b[0m 29ms/step - auc: 0.8753 - categorical_accuracy: 0.5787 - loss: 1.1998 - precision: 0.9177 - recall: 0.2763 - val_auc: 0.8767 - val_categorical_accuracy: 0.5613 - val_loss: 1.2015 - val_precision: 0.9655 - val_recall: 0.2642\n"
          ]
        }
      ],
      "source": [
        "# This block performs linear evaluation on top of the pretrained SimCLR base model.\n",
        "total_epochs = 50\n",
        "batch_size = 200\n",
        "tag = \"linear_eval\"\n",
        "output_shape = np_train_labels.shape[1]  # Number of classes for classification\n",
        "\n",
        "# 1. Loads the SimCLR model and attaches a linear classification head.\n",
        "simclr_model = tf.keras.models.load_model(simclr_model_save_path)\n",
        "linear_evaluation_model = simclr_models.create_linear_model_from_base_model(simclr_model, output_shape, intermediate_layer=7)\n",
        "\n",
        "# 2. Sets up a ModelCheckpoint callback to save the best model (lowest validation loss).\n",
        "linear_eval_best_model_file_name = f\"{working_directory}{start_time_str}_simclr_{tag}.keras\"\n",
        "best_model_callback = tf.keras.callbacks.ModelCheckpoint(\n",
        "    linear_eval_best_model_file_name,\n",
        "    monitor='val_loss',\n",
        "    mode='min',\n",
        "    save_best_only=True,\n",
        "    save_weights_only=False,\n",
        "    verbose=0\n",
        ")\n",
        "\n",
        "# 3. Trains the linear evaluation model using the training and validation data.\n",
        "training_history = linear_evaluation_model.fit(\n",
        "    x = np_train_data,\n",
        "    y = np_train_labels,\n",
        "    batch_size=batch_size,\n",
        "    shuffle=True,\n",
        "    epochs=total_epochs,\n",
        "    callbacks=[best_model_callback],\n",
        "    validation_data=(np_val_data, np_val_labels)\n",
        ")"
      ]
    }
  ],
  "metadata": {
    "accelerator": "GPU",
    "colab": {
      "gpuType": "L4",
      "include_colab_link": true,
      "machine_shape": "hm",
      "provenance": []
    },
    "kernelspec": {
      "display_name": "base",
      "language": "python",
      "name": "python3"
    },
    "language_info": {
      "codemirror_mode": {
        "name": "ipython",
        "version": 3
      },
      "file_extension": ".py",
      "mimetype": "text/x-python",
      "name": "python",
      "nbconvert_exporter": "python",
      "pygments_lexer": "ipython3",
      "version": "3.12.3"
    }
  },
  "nbformat": 4,
  "nbformat_minor": 5
}
