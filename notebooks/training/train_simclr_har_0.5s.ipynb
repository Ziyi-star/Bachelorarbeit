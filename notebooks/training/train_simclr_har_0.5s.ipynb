{
  "cells": [
    {
      "cell_type": "markdown",
      "metadata": {
        "id": "view-in-github",
        "colab_type": "text"
      },
      "source": [
        "<a href=\"https://colab.research.google.com/github/Ziyi-star/Bachelorarbeit/blob/main/notebooks/training/train_simclr_har_0.5s.ipynb\" target=\"_parent\"><img src=\"https://colab.research.google.com/assets/colab-badge.svg\" alt=\"Open In Colab\"/></a>"
      ]
    },
    {
      "cell_type": "markdown",
      "id": "97810603",
      "metadata": {
        "id": "97810603"
      },
      "source": [
        "## SimCLR Training"
      ]
    },
    {
      "cell_type": "code",
      "execution_count": null,
      "id": "39dbd93a",
      "metadata": {
        "id": "39dbd93a",
        "outputId": "8ee9d919-ebc4-4f2c-b01b-145ed1efa1c4"
      },
      "outputs": [
        {
          "data": {
            "text/plain": [
              "((5254, 50, 3), (5254, 7), (1314, 50, 3), (1314, 7))"
            ]
          },
          "execution_count": 2,
          "metadata": {},
          "output_type": "execute_result"
        }
      ],
      "source": [
        "# For VSCode\n",
        "%load_ext autoreload\n",
        "%autoreload 2\n",
        "\n",
        "import os\n",
        "import pickle\n",
        "import scipy\n",
        "import datetime\n",
        "import numpy as np\n",
        "import tensorflow as tf\n",
        "import simclr_utitlities\n",
        "import transformations\n",
        "import simclr_models\n",
        "import sys\n",
        "import matplotlib.pyplot as plt\n",
        "\n",
        "sys.path.append('../')   # Add parent directory to Python path\n",
        "working_directory = \"../models/\"\n",
        "\n",
        "seed = 1\n",
        "tf.random.set_seed(seed)\n",
        "np.random.seed(seed)\n",
        "\n",
        "with open('../data_all/TrainTest/X_train_normalized.pkl', 'rb') as f:\n",
        "    np_train_data = pickle.load(f)\n",
        "with open('../data_all/TrainTest/y_train_onehot.pkl', 'rb') as f:\n",
        "    np_train_labels = pickle.load(f)\n",
        "with open('../data_all/TrainTest/X_val_normalized.pkl', 'rb') as f:\n",
        "    np_val_data = pickle.load(f)\n",
        "with open('../data_all/TrainTest/y_val_onehot.pkl', 'rb') as f:\n",
        "    np_val_labels = pickle.load(f)\n",
        "\n",
        "np_train_data.shape, np_train_labels.shape, np_val_data.shape, np_val_labels.shape"
      ]
    },
    {
      "cell_type": "code",
      "execution_count": 9,
      "id": "dc1b1c60",
      "metadata": {
        "colab": {
          "base_uri": "https://localhost:8080/"
        },
        "id": "dc1b1c60",
        "outputId": "92c508f5-46ff-4879-ed0b-1a164056e53b"
      },
      "outputs": [
        {
          "output_type": "stream",
          "name": "stdout",
          "text": [
            "fatal: destination path 'Bachelorarbeit' already exists and is not an empty directory.\n",
            "--2025-09-18 07:29:39--  https://raw.githubusercontent.com/Ziyi-star/Bachelorarbeit/main/notebooks/data_all/TrainTest/X_train_normalized.pkl\n",
            "Resolving raw.githubusercontent.com (raw.githubusercontent.com)... 185.199.108.133, 185.199.110.133, 185.199.111.133, ...\n",
            "Connecting to raw.githubusercontent.com (raw.githubusercontent.com)|185.199.108.133|:443... connected.\n",
            "HTTP request sent, awaiting response... 200 OK\n",
            "Length: 6304965 (6.0M) [application/octet-stream]\n",
            "Saving to: ‘X_train_normalized.pkl’\n",
            "\n",
            "X_train_normalized. 100%[===================>]   6.01M  --.-KB/s    in 0.06s   \n",
            "\n",
            "2025-09-18 07:29:39 (94.1 MB/s) - ‘X_train_normalized.pkl’ saved [6304965/6304965]\n",
            "\n",
            "--2025-09-18 07:29:39--  https://raw.githubusercontent.com/Ziyi-star/Bachelorarbeit/main/notebooks/data_all/TrainTest/y_train_onehot.pkl\n",
            "Resolving raw.githubusercontent.com (raw.githubusercontent.com)... 185.199.108.133, 185.199.109.133, 185.199.110.133, ...\n",
            "Connecting to raw.githubusercontent.com (raw.githubusercontent.com)|185.199.108.133|:443... connected.\n",
            "HTTP request sent, awaiting response... 200 OK\n",
            "Length: 294387 (287K) [application/octet-stream]\n",
            "Saving to: ‘y_train_onehot.pkl’\n",
            "\n",
            "y_train_onehot.pkl  100%[===================>] 287.49K  --.-KB/s    in 0.03s   \n",
            "\n",
            "2025-09-18 07:29:39 (10.9 MB/s) - ‘y_train_onehot.pkl’ saved [294387/294387]\n",
            "\n",
            "--2025-09-18 07:29:39--  https://raw.githubusercontent.com/Ziyi-star/Bachelorarbeit/main/notebooks/data_all/TrainTest/X_val_normalized.pkl\n",
            "Resolving raw.githubusercontent.com (raw.githubusercontent.com)... 185.199.108.133, 185.199.110.133, 185.199.111.133, ...\n",
            "Connecting to raw.githubusercontent.com (raw.githubusercontent.com)|185.199.108.133|:443... connected.\n",
            "HTTP request sent, awaiting response... 200 OK\n",
            "Length: 1576965 (1.5M) [application/octet-stream]\n",
            "Saving to: ‘X_val_normalized.pkl’\n",
            "\n",
            "X_val_normalized.pk 100%[===================>]   1.50M  --.-KB/s    in 0.04s   \n",
            "\n",
            "2025-09-18 07:29:39 (35.5 MB/s) - ‘X_val_normalized.pkl’ saved [1576965/1576965]\n",
            "\n",
            "--2025-09-18 07:29:39--  https://raw.githubusercontent.com/Ziyi-star/Bachelorarbeit/main/notebooks/data_all/TrainTest/y_val_onehot.pkl\n",
            "Resolving raw.githubusercontent.com (raw.githubusercontent.com)... 185.199.108.133, 185.199.109.133, 185.199.110.133, ...\n",
            "Connecting to raw.githubusercontent.com (raw.githubusercontent.com)|185.199.108.133|:443... connected.\n",
            "HTTP request sent, awaiting response... 200 OK\n",
            "Length: 73747 (72K) [application/octet-stream]\n",
            "Saving to: ‘y_val_onehot.pkl’\n",
            "\n",
            "y_val_onehot.pkl    100%[===================>]  72.02K  --.-KB/s    in 0.01s   \n",
            "\n",
            "2025-09-18 07:29:39 (4.73 MB/s) - ‘y_val_onehot.pkl’ saved [73747/73747]\n",
            "\n",
            "(5254, 50, 3) (5254, 7)\n",
            "(1314, 50, 3) (1314, 7)\n"
          ]
        }
      ],
      "source": [
        "# For Google Colab\n",
        "# 1. Clone your repository to go to access your notebook and .py files\n",
        "!git clone https://github.com/Ziyi-star/Bachelorarbeit.git\n",
        "# 2. Change working directory to where your notebook and .py files are\n",
        "import os\n",
        "os.chdir('/content/Bachelorarbeit/notebooks/training')\n",
        "import os\n",
        "import pickle\n",
        "import scipy\n",
        "import datetime\n",
        "import numpy as np\n",
        "import tensorflow as tf\n",
        "import matplotlib.pyplot as plt\n",
        "import simclr_utitlities\n",
        "import transformations\n",
        "import simclr_models\n",
        "import sys\n",
        "\n",
        "seed = 1\n",
        "tf.random.set_seed(seed)\n",
        "np.random.seed(seed)\n",
        "\n",
        "# Load data\n",
        "# Download the file from GitHub\n",
        "!rm -f *.pkl # Remove existing pickle files\n",
        "!wget https://raw.githubusercontent.com/Ziyi-star/Bachelorarbeit/main/notebooks/data_all/TrainTest/X_train_normalized.pkl\n",
        "!wget https://raw.githubusercontent.com/Ziyi-star/Bachelorarbeit/main/notebooks/data_all/TrainTest/y_train_onehot.pkl\n",
        "!wget https://raw.githubusercontent.com/Ziyi-star/Bachelorarbeit/main/notebooks/data_all/TrainTest/X_val_normalized.pkl\n",
        "!wget https://raw.githubusercontent.com/Ziyi-star/Bachelorarbeit/main/notebooks/data_all/TrainTest/y_val_onehot.pkl\n",
        "\n",
        "\n",
        "working_directory = \"../models/\"  # Relative path to models folder\n",
        "\n",
        "# Load as usual\n",
        "import pickle\n",
        "\n",
        "with open('X_train_normalized.pkl', 'rb') as f:\n",
        "    np_train_data = pickle.load(f)\n",
        "with open('y_train_onehot.pkl', 'rb') as f:\n",
        "    np_train_labels = pickle.load(f)\n",
        "with open('X_val_normalized.pkl', 'rb') as f:\n",
        "    np_val_data = pickle.load(f)\n",
        "with open('y_val_onehot.pkl', 'rb') as f:\n",
        "    np_val_labels = pickle.load(f)\n",
        "\n",
        "print(np_train_data.shape, np_train_labels.shape)\n",
        "print(np_val_data.shape, np_val_labels.shape)"
      ]
    },
    {
      "cell_type": "code",
      "execution_count": 10,
      "id": "a0dd43f3",
      "metadata": {
        "id": "a0dd43f3"
      },
      "outputs": [],
      "source": [
        "# Parameters for all experiments\n",
        "window_size = 50\n",
        "input_shape = (window_size, 3)\n",
        "batch_size = 512\n",
        "#Number of samples processed together in one training step. Larger batch sizes can speed up training but require more memory.\n",
        "decay_steps = 1000\n",
        "#Number of steps after which the learning rate decays (used for learning rate scheduling).\n",
        "epochs = 200\n",
        "temperature = 0.1\n"
      ]
    },
    {
      "cell_type": "code",
      "execution_count": null,
      "id": "509a8da0",
      "metadata": {
        "id": "509a8da0"
      },
      "outputs": [],
      "source": [
        "# # transformation_indices = [2] # Use rotation transformation only\n",
        "# # transformation_indices = [1, 2] # Use Scaling and rotation transformation\n",
        "# transformation_indices = [5, 7] # Use channel shuffle and permutation transformation\n",
        "\n",
        "# transform_funcs_vectorized = [\n",
        "#     # 0. Adding random Gaussian noise.\n",
        "#     transformations.noise_transform_vectorized,\n",
        "#     # 1. Scaling by a random factor\n",
        "#     transformations.scaling_transform_vectorized,\n",
        "#     # 2. Applying a random 3D rotation\n",
        "#     transformations.rotation_transform_vectorized,\n",
        "#     # 3. Inverting the signals.\n",
        "#     transformations.negate_transform_vectorized,\n",
        "#     # 4. Reversing the direction of time\n",
        "#     transformations.time_flip_transform_vectorized,\n",
        "#     # 5. Randomly scrambling sections of the signal.\n",
        "#     transformations.time_segment_permutation_transform_improved,\n",
        "#     # 6. Stretching and warping the time-series\n",
        "#     transformations.time_warp_transform_low_cost,\n",
        "#     # 7. Shuffling the different channels.\n",
        "#     transformations.channel_shuffle_transform_vectorized\n",
        "# ]\n",
        "# # transform_funcs_names = ['noised', 'scaled', 'rotated', 'negated', 'time_flipped', 'permuted', 'time_warped', 'channel_shuffled']\n",
        "# # Optionally, you can use a combined transformation function for data augmentation.\n",
        "# transformation_function = simclr_utitlities.generate_combined_transform_function(\n",
        "#     transform_funcs_vectorized,\n",
        "#     indices=transformation_indices\n",
        "# )"
      ]
    },
    {
      "cell_type": "code",
      "execution_count": 11,
      "id": "267dc541",
      "metadata": {
        "colab": {
          "base_uri": "https://localhost:8080/"
        },
        "id": "267dc541",
        "outputId": "4af8d66b-f664-4fbc-9580-7b03eaed1aa6"
      },
      "outputs": [
        {
          "output_type": "stream",
          "name": "stdout",
          "text": [
            "0 <function time_segment_permutation_transform_improved at 0x79a079288400>\n",
            "1 <function channel_shuffle_transform_vectorized at 0x79a079288360>\n"
          ]
        }
      ],
      "source": [
        "#A parameter for the SimCLR loss function that controls how sharply similarities are measured.\n",
        "# transform_funcs = [\n",
        "#     transformations.scaling_transform_vectorized, # Use Scaling trasnformation\n",
        "#     transformations.rotation_transform_vectorized # Use rotation trasnformation\n",
        "# ]\n",
        "transform_funcs = [\n",
        "    transformations.time_segment_permutation_transform_improved,\n",
        "    transformations.channel_shuffle_transform_vectorized\n",
        "]\n",
        "#List of data augmentation functions to apply to the input data. Here, only rotation is used.\n",
        "transformation_function = simclr_utitlities.generate_composite_transform_function_simple(transform_funcs)"
      ]
    },
    {
      "cell_type": "code",
      "execution_count": 12,
      "id": "488ebcf3",
      "metadata": {
        "id": "488ebcf3"
      },
      "outputs": [],
      "source": [
        "# Time\n",
        "start_time = datetime.datetime.now()\n",
        "start_time_str = start_time.strftime(\"%Y%m%d-%H%M%S\")\n",
        "#Formats the date and time as a string like 20250827-153045 (for filenames, logs, etc.).\n",
        "tf.keras.backend.set_floatx('float32')\n",
        "#Sets TensorFlow to use 32-bit floating point numbers for all computations (standard for deep learning).\n"
      ]
    },
    {
      "cell_type": "code",
      "execution_count": 13,
      "id": "27ddae84",
      "metadata": {
        "colab": {
          "base_uri": "https://localhost:8080/",
          "height": 1000
        },
        "id": "27ddae84",
        "outputId": "fe28ebde-ad83-4526-dec4-8a5907e1fa32"
      },
      "outputs": [
        {
          "output_type": "display_data",
          "data": {
            "text/plain": [
              "\u001b[1mModel: \"base_model_simclr\"\u001b[0m\n"
            ],
            "text/html": [
              "<pre style=\"white-space:pre;overflow-x:auto;line-height:normal;font-family:Menlo,'DejaVu Sans Mono',consolas,'Courier New',monospace\"><span style=\"font-weight: bold\">Model: \"base_model_simclr\"</span>\n",
              "</pre>\n"
            ]
          },
          "metadata": {}
        },
        {
          "output_type": "display_data",
          "data": {
            "text/plain": [
              "┏━━━━━━━━━━━━━━━━━━━━━━━━━━━━━━━━━┳━━━━━━━━━━━━━━━━━━━━━━━━┳━━━━━━━━━━━━━━━┓\n",
              "┃\u001b[1m \u001b[0m\u001b[1mLayer (type)                   \u001b[0m\u001b[1m \u001b[0m┃\u001b[1m \u001b[0m\u001b[1mOutput Shape          \u001b[0m\u001b[1m \u001b[0m┃\u001b[1m \u001b[0m\u001b[1m      Param #\u001b[0m\u001b[1m \u001b[0m┃\n",
              "┡━━━━━━━━━━━━━━━━━━━━━━━━━━━━━━━━━╇━━━━━━━━━━━━━━━━━━━━━━━━╇━━━━━━━━━━━━━━━┩\n",
              "│ input (\u001b[38;5;33mInputLayer\u001b[0m)              │ (\u001b[38;5;45mNone\u001b[0m, \u001b[38;5;34m50\u001b[0m, \u001b[38;5;34m3\u001b[0m)          │             \u001b[38;5;34m0\u001b[0m │\n",
              "├─────────────────────────────────┼────────────────────────┼───────────────┤\n",
              "│ conv1d (\u001b[38;5;33mConv1D\u001b[0m)                 │ (\u001b[38;5;45mNone\u001b[0m, \u001b[38;5;34m27\u001b[0m, \u001b[38;5;34m32\u001b[0m)         │         \u001b[38;5;34m2,336\u001b[0m │\n",
              "├─────────────────────────────────┼────────────────────────┼───────────────┤\n",
              "│ dropout (\u001b[38;5;33mDropout\u001b[0m)               │ (\u001b[38;5;45mNone\u001b[0m, \u001b[38;5;34m27\u001b[0m, \u001b[38;5;34m32\u001b[0m)         │             \u001b[38;5;34m0\u001b[0m │\n",
              "├─────────────────────────────────┼────────────────────────┼───────────────┤\n",
              "│ conv1d_1 (\u001b[38;5;33mConv1D\u001b[0m)               │ (\u001b[38;5;45mNone\u001b[0m, \u001b[38;5;34m12\u001b[0m, \u001b[38;5;34m64\u001b[0m)         │        \u001b[38;5;34m32,832\u001b[0m │\n",
              "├─────────────────────────────────┼────────────────────────┼───────────────┤\n",
              "│ dropout_1 (\u001b[38;5;33mDropout\u001b[0m)             │ (\u001b[38;5;45mNone\u001b[0m, \u001b[38;5;34m12\u001b[0m, \u001b[38;5;34m64\u001b[0m)         │             \u001b[38;5;34m0\u001b[0m │\n",
              "├─────────────────────────────────┼────────────────────────┼───────────────┤\n",
              "│ conv1d_2 (\u001b[38;5;33mConv1D\u001b[0m)               │ (\u001b[38;5;45mNone\u001b[0m, \u001b[38;5;34m5\u001b[0m, \u001b[38;5;34m96\u001b[0m)          │        \u001b[38;5;34m49,248\u001b[0m │\n",
              "├─────────────────────────────────┼────────────────────────┼───────────────┤\n",
              "│ dropout_2 (\u001b[38;5;33mDropout\u001b[0m)             │ (\u001b[38;5;45mNone\u001b[0m, \u001b[38;5;34m5\u001b[0m, \u001b[38;5;34m96\u001b[0m)          │             \u001b[38;5;34m0\u001b[0m │\n",
              "├─────────────────────────────────┼────────────────────────┼───────────────┤\n",
              "│ global_max_pooling1d            │ (\u001b[38;5;45mNone\u001b[0m, \u001b[38;5;34m96\u001b[0m)             │             \u001b[38;5;34m0\u001b[0m │\n",
              "│ (\u001b[38;5;33mGlobalMaxPooling1D\u001b[0m)            │                        │               │\n",
              "├─────────────────────────────────┼────────────────────────┼───────────────┤\n",
              "│ dense (\u001b[38;5;33mDense\u001b[0m)                   │ (\u001b[38;5;45mNone\u001b[0m, \u001b[38;5;34m256\u001b[0m)            │        \u001b[38;5;34m24,832\u001b[0m │\n",
              "├─────────────────────────────────┼────────────────────────┼───────────────┤\n",
              "│ activation (\u001b[38;5;33mActivation\u001b[0m)         │ (\u001b[38;5;45mNone\u001b[0m, \u001b[38;5;34m256\u001b[0m)            │             \u001b[38;5;34m0\u001b[0m │\n",
              "├─────────────────────────────────┼────────────────────────┼───────────────┤\n",
              "│ dense_1 (\u001b[38;5;33mDense\u001b[0m)                 │ (\u001b[38;5;45mNone\u001b[0m, \u001b[38;5;34m128\u001b[0m)            │        \u001b[38;5;34m32,896\u001b[0m │\n",
              "├─────────────────────────────────┼────────────────────────┼───────────────┤\n",
              "│ activation_1 (\u001b[38;5;33mActivation\u001b[0m)       │ (\u001b[38;5;45mNone\u001b[0m, \u001b[38;5;34m128\u001b[0m)            │             \u001b[38;5;34m0\u001b[0m │\n",
              "├─────────────────────────────────┼────────────────────────┼───────────────┤\n",
              "│ dense_2 (\u001b[38;5;33mDense\u001b[0m)                 │ (\u001b[38;5;45mNone\u001b[0m, \u001b[38;5;34m50\u001b[0m)             │         \u001b[38;5;34m6,450\u001b[0m │\n",
              "└─────────────────────────────────┴────────────────────────┴───────────────┘\n"
            ],
            "text/html": [
              "<pre style=\"white-space:pre;overflow-x:auto;line-height:normal;font-family:Menlo,'DejaVu Sans Mono',consolas,'Courier New',monospace\">┏━━━━━━━━━━━━━━━━━━━━━━━━━━━━━━━━━┳━━━━━━━━━━━━━━━━━━━━━━━━┳━━━━━━━━━━━━━━━┓\n",
              "┃<span style=\"font-weight: bold\"> Layer (type)                    </span>┃<span style=\"font-weight: bold\"> Output Shape           </span>┃<span style=\"font-weight: bold\">       Param # </span>┃\n",
              "┡━━━━━━━━━━━━━━━━━━━━━━━━━━━━━━━━━╇━━━━━━━━━━━━━━━━━━━━━━━━╇━━━━━━━━━━━━━━━┩\n",
              "│ input (<span style=\"color: #0087ff; text-decoration-color: #0087ff\">InputLayer</span>)              │ (<span style=\"color: #00d7ff; text-decoration-color: #00d7ff\">None</span>, <span style=\"color: #00af00; text-decoration-color: #00af00\">50</span>, <span style=\"color: #00af00; text-decoration-color: #00af00\">3</span>)          │             <span style=\"color: #00af00; text-decoration-color: #00af00\">0</span> │\n",
              "├─────────────────────────────────┼────────────────────────┼───────────────┤\n",
              "│ conv1d (<span style=\"color: #0087ff; text-decoration-color: #0087ff\">Conv1D</span>)                 │ (<span style=\"color: #00d7ff; text-decoration-color: #00d7ff\">None</span>, <span style=\"color: #00af00; text-decoration-color: #00af00\">27</span>, <span style=\"color: #00af00; text-decoration-color: #00af00\">32</span>)         │         <span style=\"color: #00af00; text-decoration-color: #00af00\">2,336</span> │\n",
              "├─────────────────────────────────┼────────────────────────┼───────────────┤\n",
              "│ dropout (<span style=\"color: #0087ff; text-decoration-color: #0087ff\">Dropout</span>)               │ (<span style=\"color: #00d7ff; text-decoration-color: #00d7ff\">None</span>, <span style=\"color: #00af00; text-decoration-color: #00af00\">27</span>, <span style=\"color: #00af00; text-decoration-color: #00af00\">32</span>)         │             <span style=\"color: #00af00; text-decoration-color: #00af00\">0</span> │\n",
              "├─────────────────────────────────┼────────────────────────┼───────────────┤\n",
              "│ conv1d_1 (<span style=\"color: #0087ff; text-decoration-color: #0087ff\">Conv1D</span>)               │ (<span style=\"color: #00d7ff; text-decoration-color: #00d7ff\">None</span>, <span style=\"color: #00af00; text-decoration-color: #00af00\">12</span>, <span style=\"color: #00af00; text-decoration-color: #00af00\">64</span>)         │        <span style=\"color: #00af00; text-decoration-color: #00af00\">32,832</span> │\n",
              "├─────────────────────────────────┼────────────────────────┼───────────────┤\n",
              "│ dropout_1 (<span style=\"color: #0087ff; text-decoration-color: #0087ff\">Dropout</span>)             │ (<span style=\"color: #00d7ff; text-decoration-color: #00d7ff\">None</span>, <span style=\"color: #00af00; text-decoration-color: #00af00\">12</span>, <span style=\"color: #00af00; text-decoration-color: #00af00\">64</span>)         │             <span style=\"color: #00af00; text-decoration-color: #00af00\">0</span> │\n",
              "├─────────────────────────────────┼────────────────────────┼───────────────┤\n",
              "│ conv1d_2 (<span style=\"color: #0087ff; text-decoration-color: #0087ff\">Conv1D</span>)               │ (<span style=\"color: #00d7ff; text-decoration-color: #00d7ff\">None</span>, <span style=\"color: #00af00; text-decoration-color: #00af00\">5</span>, <span style=\"color: #00af00; text-decoration-color: #00af00\">96</span>)          │        <span style=\"color: #00af00; text-decoration-color: #00af00\">49,248</span> │\n",
              "├─────────────────────────────────┼────────────────────────┼───────────────┤\n",
              "│ dropout_2 (<span style=\"color: #0087ff; text-decoration-color: #0087ff\">Dropout</span>)             │ (<span style=\"color: #00d7ff; text-decoration-color: #00d7ff\">None</span>, <span style=\"color: #00af00; text-decoration-color: #00af00\">5</span>, <span style=\"color: #00af00; text-decoration-color: #00af00\">96</span>)          │             <span style=\"color: #00af00; text-decoration-color: #00af00\">0</span> │\n",
              "├─────────────────────────────────┼────────────────────────┼───────────────┤\n",
              "│ global_max_pooling1d            │ (<span style=\"color: #00d7ff; text-decoration-color: #00d7ff\">None</span>, <span style=\"color: #00af00; text-decoration-color: #00af00\">96</span>)             │             <span style=\"color: #00af00; text-decoration-color: #00af00\">0</span> │\n",
              "│ (<span style=\"color: #0087ff; text-decoration-color: #0087ff\">GlobalMaxPooling1D</span>)            │                        │               │\n",
              "├─────────────────────────────────┼────────────────────────┼───────────────┤\n",
              "│ dense (<span style=\"color: #0087ff; text-decoration-color: #0087ff\">Dense</span>)                   │ (<span style=\"color: #00d7ff; text-decoration-color: #00d7ff\">None</span>, <span style=\"color: #00af00; text-decoration-color: #00af00\">256</span>)            │        <span style=\"color: #00af00; text-decoration-color: #00af00\">24,832</span> │\n",
              "├─────────────────────────────────┼────────────────────────┼───────────────┤\n",
              "│ activation (<span style=\"color: #0087ff; text-decoration-color: #0087ff\">Activation</span>)         │ (<span style=\"color: #00d7ff; text-decoration-color: #00d7ff\">None</span>, <span style=\"color: #00af00; text-decoration-color: #00af00\">256</span>)            │             <span style=\"color: #00af00; text-decoration-color: #00af00\">0</span> │\n",
              "├─────────────────────────────────┼────────────────────────┼───────────────┤\n",
              "│ dense_1 (<span style=\"color: #0087ff; text-decoration-color: #0087ff\">Dense</span>)                 │ (<span style=\"color: #00d7ff; text-decoration-color: #00d7ff\">None</span>, <span style=\"color: #00af00; text-decoration-color: #00af00\">128</span>)            │        <span style=\"color: #00af00; text-decoration-color: #00af00\">32,896</span> │\n",
              "├─────────────────────────────────┼────────────────────────┼───────────────┤\n",
              "│ activation_1 (<span style=\"color: #0087ff; text-decoration-color: #0087ff\">Activation</span>)       │ (<span style=\"color: #00d7ff; text-decoration-color: #00d7ff\">None</span>, <span style=\"color: #00af00; text-decoration-color: #00af00\">128</span>)            │             <span style=\"color: #00af00; text-decoration-color: #00af00\">0</span> │\n",
              "├─────────────────────────────────┼────────────────────────┼───────────────┤\n",
              "│ dense_2 (<span style=\"color: #0087ff; text-decoration-color: #0087ff\">Dense</span>)                 │ (<span style=\"color: #00d7ff; text-decoration-color: #00d7ff\">None</span>, <span style=\"color: #00af00; text-decoration-color: #00af00\">50</span>)             │         <span style=\"color: #00af00; text-decoration-color: #00af00\">6,450</span> │\n",
              "└─────────────────────────────────┴────────────────────────┴───────────────┘\n",
              "</pre>\n"
            ]
          },
          "metadata": {}
        },
        {
          "output_type": "display_data",
          "data": {
            "text/plain": [
              "\u001b[1m Total params: \u001b[0m\u001b[38;5;34m148,594\u001b[0m (580.45 KB)\n"
            ],
            "text/html": [
              "<pre style=\"white-space:pre;overflow-x:auto;line-height:normal;font-family:Menlo,'DejaVu Sans Mono',consolas,'Courier New',monospace\"><span style=\"font-weight: bold\"> Total params: </span><span style=\"color: #00af00; text-decoration-color: #00af00\">148,594</span> (580.45 KB)\n",
              "</pre>\n"
            ]
          },
          "metadata": {}
        },
        {
          "output_type": "display_data",
          "data": {
            "text/plain": [
              "\u001b[1m Trainable params: \u001b[0m\u001b[38;5;34m148,594\u001b[0m (580.45 KB)\n"
            ],
            "text/html": [
              "<pre style=\"white-space:pre;overflow-x:auto;line-height:normal;font-family:Menlo,'DejaVu Sans Mono',consolas,'Courier New',monospace\"><span style=\"font-weight: bold\"> Trainable params: </span><span style=\"color: #00af00; text-decoration-color: #00af00\">148,594</span> (580.45 KB)\n",
              "</pre>\n"
            ]
          },
          "metadata": {}
        },
        {
          "output_type": "display_data",
          "data": {
            "text/plain": [
              "\u001b[1m Non-trainable params: \u001b[0m\u001b[38;5;34m0\u001b[0m (0.00 B)\n"
            ],
            "text/html": [
              "<pre style=\"white-space:pre;overflow-x:auto;line-height:normal;font-family:Menlo,'DejaVu Sans Mono',consolas,'Courier New',monospace\"><span style=\"font-weight: bold\"> Non-trainable params: </span><span style=\"color: #00af00; text-decoration-color: #00af00\">0</span> (0.00 B)\n",
              "</pre>\n"
            ]
          },
          "metadata": {}
        },
        {
          "output_type": "stream",
          "name": "stdout",
          "text": [
            "epoch: 1 loss: 11.911\n",
            "epoch: 2 loss: 11.488\n",
            "epoch: 3 loss: 10.401\n",
            "epoch: 4 loss: 9.851\n",
            "epoch: 5 loss: 9.431\n",
            "epoch: 6 loss: 8.997\n",
            "epoch: 7 loss: 8.567\n",
            "epoch: 8 loss: 8.530\n",
            "epoch: 9 loss: 8.234\n",
            "epoch: 10 loss: 7.810\n",
            "epoch: 11 loss: 7.331\n",
            "epoch: 12 loss: 7.273\n",
            "epoch: 13 loss: 7.362\n",
            "epoch: 14 loss: 6.775\n",
            "epoch: 15 loss: 6.760\n",
            "epoch: 16 loss: 6.450\n",
            "epoch: 17 loss: 6.469\n",
            "epoch: 18 loss: 6.118\n",
            "epoch: 19 loss: 6.009\n",
            "epoch: 20 loss: 5.903\n",
            "epoch: 21 loss: 5.913\n",
            "epoch: 22 loss: 5.817\n",
            "epoch: 23 loss: 5.710\n",
            "epoch: 24 loss: 5.634\n",
            "epoch: 25 loss: 5.333\n",
            "epoch: 26 loss: 5.239\n",
            "epoch: 27 loss: 5.226\n",
            "epoch: 28 loss: 5.150\n",
            "epoch: 29 loss: 4.971\n",
            "epoch: 30 loss: 4.989\n",
            "epoch: 31 loss: 4.858\n",
            "epoch: 32 loss: 5.100\n",
            "epoch: 33 loss: 4.692\n",
            "epoch: 34 loss: 4.639\n",
            "epoch: 35 loss: 4.621\n",
            "epoch: 36 loss: 4.352\n",
            "epoch: 37 loss: 4.837\n",
            "epoch: 38 loss: 4.212\n",
            "epoch: 39 loss: 4.415\n",
            "epoch: 40 loss: 4.146\n",
            "epoch: 41 loss: 4.171\n",
            "epoch: 42 loss: 3.998\n",
            "epoch: 43 loss: 3.983\n",
            "epoch: 44 loss: 3.998\n",
            "epoch: 45 loss: 3.875\n",
            "epoch: 46 loss: 3.857\n",
            "epoch: 47 loss: 3.671\n",
            "epoch: 48 loss: 3.706\n",
            "epoch: 49 loss: 3.715\n",
            "epoch: 50 loss: 3.551\n",
            "epoch: 51 loss: 3.519\n",
            "epoch: 52 loss: 3.508\n",
            "epoch: 53 loss: 3.409\n",
            "epoch: 54 loss: 3.446\n",
            "epoch: 55 loss: 3.333\n",
            "epoch: 56 loss: 3.327\n",
            "epoch: 57 loss: 3.280\n",
            "epoch: 58 loss: 3.204\n",
            "epoch: 59 loss: 3.167\n",
            "epoch: 60 loss: 3.169\n",
            "epoch: 61 loss: 3.095\n",
            "epoch: 62 loss: 3.054\n",
            "epoch: 63 loss: 3.053\n",
            "epoch: 64 loss: 2.997\n",
            "epoch: 65 loss: 3.001\n",
            "epoch: 66 loss: 3.003\n",
            "epoch: 67 loss: 2.959\n",
            "epoch: 68 loss: 2.956\n",
            "epoch: 69 loss: 2.915\n",
            "epoch: 70 loss: 2.914\n",
            "epoch: 71 loss: 2.901\n",
            "epoch: 72 loss: 2.883\n",
            "epoch: 73 loss: 2.891\n",
            "epoch: 74 loss: 2.844\n",
            "epoch: 75 loss: 2.824\n",
            "epoch: 76 loss: 2.826\n",
            "epoch: 77 loss: 2.830\n",
            "epoch: 78 loss: 2.819\n",
            "epoch: 79 loss: 2.812\n",
            "epoch: 80 loss: 2.797\n",
            "epoch: 81 loss: 2.777\n",
            "epoch: 82 loss: 2.785\n",
            "epoch: 83 loss: 2.774\n",
            "epoch: 84 loss: 2.744\n",
            "epoch: 85 loss: 2.760\n",
            "epoch: 86 loss: 2.739\n",
            "epoch: 87 loss: 2.756\n",
            "epoch: 88 loss: 2.727\n",
            "epoch: 89 loss: 2.738\n",
            "epoch: 90 loss: 2.756\n",
            "epoch: 91 loss: 2.723\n",
            "epoch: 92 loss: 2.718\n",
            "epoch: 93 loss: 2.746\n",
            "epoch: 94 loss: 2.722\n",
            "epoch: 95 loss: 2.721\n",
            "epoch: 96 loss: 2.685\n",
            "epoch: 97 loss: 2.706\n",
            "epoch: 98 loss: 2.712\n",
            "epoch: 99 loss: 2.760\n",
            "epoch: 100 loss: 2.695\n",
            "epoch: 101 loss: 2.716\n",
            "epoch: 102 loss: 2.725\n",
            "epoch: 103 loss: 2.734\n",
            "epoch: 104 loss: 2.676\n",
            "epoch: 105 loss: 2.743\n",
            "epoch: 106 loss: 2.732\n",
            "epoch: 107 loss: 2.764\n",
            "epoch: 108 loss: 2.701\n",
            "epoch: 109 loss: 2.736\n",
            "epoch: 110 loss: 2.715\n",
            "epoch: 111 loss: 2.686\n",
            "epoch: 112 loss: 2.717\n",
            "epoch: 113 loss: 2.749\n",
            "epoch: 114 loss: 2.738\n",
            "epoch: 115 loss: 2.718\n",
            "epoch: 116 loss: 2.743\n",
            "epoch: 117 loss: 2.709\n",
            "epoch: 118 loss: 2.724\n",
            "epoch: 119 loss: 2.725\n",
            "epoch: 120 loss: 2.708\n",
            "epoch: 121 loss: 2.707\n",
            "epoch: 122 loss: 2.743\n",
            "epoch: 123 loss: 2.732\n",
            "epoch: 124 loss: 2.729\n",
            "epoch: 125 loss: 2.742\n",
            "epoch: 126 loss: 2.760\n",
            "epoch: 127 loss: 2.740\n",
            "epoch: 128 loss: 2.735\n",
            "epoch: 129 loss: 2.756\n",
            "epoch: 130 loss: 2.726\n",
            "epoch: 131 loss: 2.709\n",
            "epoch: 132 loss: 2.716\n",
            "epoch: 133 loss: 2.705\n",
            "epoch: 134 loss: 2.737\n",
            "epoch: 135 loss: 2.763\n",
            "epoch: 136 loss: 2.698\n",
            "epoch: 137 loss: 2.721\n",
            "epoch: 138 loss: 2.713\n",
            "epoch: 139 loss: 2.751\n",
            "epoch: 140 loss: 2.723\n",
            "epoch: 141 loss: 2.714\n",
            "epoch: 142 loss: 2.732\n",
            "epoch: 143 loss: 2.732\n",
            "epoch: 144 loss: 2.719\n",
            "epoch: 145 loss: 2.726\n",
            "epoch: 146 loss: 2.720\n",
            "epoch: 147 loss: 2.725\n",
            "epoch: 148 loss: 2.694\n",
            "epoch: 149 loss: 2.681\n",
            "epoch: 150 loss: 2.758\n",
            "epoch: 151 loss: 2.735\n",
            "epoch: 152 loss: 2.714\n",
            "epoch: 153 loss: 2.723\n",
            "epoch: 154 loss: 2.732\n",
            "epoch: 155 loss: 2.730\n",
            "epoch: 156 loss: 2.745\n",
            "epoch: 157 loss: 2.697\n",
            "epoch: 158 loss: 2.713\n",
            "epoch: 159 loss: 2.742\n",
            "epoch: 160 loss: 2.705\n",
            "epoch: 161 loss: 2.739\n",
            "epoch: 162 loss: 2.724\n",
            "epoch: 163 loss: 2.725\n",
            "epoch: 164 loss: 2.738\n",
            "epoch: 165 loss: 2.729\n",
            "epoch: 166 loss: 2.722\n",
            "epoch: 167 loss: 2.738\n",
            "epoch: 168 loss: 2.722\n",
            "epoch: 169 loss: 2.746\n",
            "epoch: 170 loss: 2.717\n",
            "epoch: 171 loss: 2.730\n",
            "epoch: 172 loss: 2.688\n",
            "epoch: 173 loss: 2.718\n",
            "epoch: 174 loss: 2.762\n",
            "epoch: 175 loss: 2.722\n",
            "epoch: 176 loss: 2.715\n",
            "epoch: 177 loss: 2.731\n",
            "epoch: 178 loss: 2.721\n",
            "epoch: 179 loss: 2.692\n",
            "epoch: 180 loss: 2.737\n",
            "epoch: 181 loss: 2.699\n",
            "epoch: 182 loss: 2.710\n",
            "epoch: 183 loss: 2.715\n",
            "epoch: 184 loss: 2.752\n",
            "epoch: 185 loss: 2.750\n",
            "epoch: 186 loss: 2.753\n",
            "epoch: 187 loss: 2.721\n",
            "epoch: 188 loss: 2.728\n",
            "epoch: 189 loss: 2.723\n",
            "epoch: 190 loss: 2.728\n",
            "epoch: 191 loss: 2.752\n",
            "epoch: 192 loss: 2.760\n",
            "epoch: 193 loss: 2.727\n",
            "epoch: 194 loss: 2.734\n",
            "epoch: 195 loss: 2.706\n",
            "epoch: 196 loss: 2.711\n",
            "epoch: 197 loss: 2.695\n",
            "epoch: 198 loss: 2.724\n",
            "epoch: 199 loss: 2.732\n"
          ]
        },
        {
          "output_type": "stream",
          "name": "stderr",
          "text": [
            "WARNING:absl:You are saving your model as an HDF5 file via `model.save()` or `keras.saving.save_model(model)`. This file format is considered legacy. We recommend using instead the native Keras format, e.g. `model.save('my_model.keras')` or `keras.saving.save_model(model, 'my_model.keras')`. \n"
          ]
        },
        {
          "output_type": "stream",
          "name": "stdout",
          "text": [
            "epoch: 200 loss: 2.763\n"
          ]
        }
      ],
      "source": [
        "# Create a cosine-decayed learning rate schedule and SGD optimizer for training.\n",
        "lr_decayed_fn = tf.keras.optimizers.schedules.CosineDecay(initial_learning_rate=0.1, decay_steps=decay_steps)\n",
        "optimizer = tf.keras.optimizers.SGD(lr_decayed_fn)\n",
        "\n",
        "# Build the base model and attach the SimCLR head for contrastive learning.\n",
        "base_model = simclr_models.create_base_model(input_shape, model_name=\"base_model\")\n",
        "simclr_model = simclr_models.attach_simclr_head(base_model)\n",
        "simclr_model.summary()\n",
        "\n",
        "# Train the SimCLR model using the specified transformation function and optimizer.\n",
        "trained_simclr_model, epoch_losses = simclr_utitlities.simclr_train_model(\n",
        "    simclr_model,\n",
        "    np_train_data,\n",
        "    optimizer,\n",
        "    batch_size,\n",
        "    transformation_function,\n",
        "    temperature=temperature,\n",
        "    epochs=epochs,\n",
        "    is_trasnform_function_vectorized=True,\n",
        "    verbose=1\n",
        ")\n",
        "\n",
        "# Save the trained SimCLR model to disk for later use.\n",
        "simclr_model_save_path = f\"{working_directory}{start_time_str}_simclr.hdf5\"\n",
        "trained_simclr_model.save(simclr_model_save_path)"
      ]
    },
    {
      "cell_type": "code",
      "execution_count": 14,
      "id": "3e6b1270",
      "metadata": {
        "colab": {
          "base_uri": "https://localhost:8080/",
          "height": 611
        },
        "id": "3e6b1270",
        "outputId": "46c08c06-db3c-4823-827c-fdf737d556a8"
      },
      "outputs": [
        {
          "output_type": "display_data",
          "data": {
            "text/plain": [
              "<Figure size 1200x800 with 1 Axes>"
            ],
            "image/png": "[encoded data removed]"
          },
          "metadata": {}
        }
      ],
      "source": [
        "plt.figure(figsize=(12,8))\n",
        "plt.plot(epoch_losses)\n",
        "plt.ylabel(\"Loss\")\n",
        "plt.xlabel(\"Epoch\")\n",
        "plt.show()"
      ]
    },
    {
      "cell_type": "markdown",
      "id": "22e9a31c",
      "metadata": {
        "id": "22e9a31c"
      },
      "source": [
        "## Fine-tuning and Evaluation"
      ]
    },
    {
      "cell_type": "markdown",
      "id": "143f905b",
      "metadata": {
        "id": "143f905b"
      },
      "source": [
        "### Linear Model"
      ]
    },
    {
      "cell_type": "code",
      "execution_count": 15,
      "id": "afc61926",
      "metadata": {
        "colab": {
          "base_uri": "https://localhost:8080/"
        },
        "id": "afc61926",
        "outputId": "621952c5-0e47-471a-bdc3-8aaac10b367c"
      },
      "outputs": [
        {
          "output_type": "stream",
          "name": "stderr",
          "text": [
            "WARNING:absl:No training configuration found in the save file, so the model was *not* compiled. Compile it manually.\n"
          ]
        },
        {
          "output_type": "stream",
          "name": "stdout",
          "text": [
            "Epoch 1/50\n",
            "\u001b[1m27/27\u001b[0m \u001b[32m━━━━━━━━━━━━━━━━━━━━\u001b[0m\u001b[37m\u001b[0m \u001b[1m11s\u001b[0m 209ms/step - auc: 0.6648 - categorical_accuracy: 0.2753 - loss: 1.8849 - precision: 0.4998 - recall: 0.1073 - val_auc: 0.8073 - val_categorical_accuracy: 0.4559 - val_loss: 1.4824 - val_precision: 0.8889 - val_recall: 0.1461\n",
            "Epoch 2/50\n",
            "\u001b[1m27/27\u001b[0m \u001b[32m━━━━━━━━━━━━━━━━━━━━\u001b[0m\u001b[37m\u001b[0m \u001b[1m0s\u001b[0m 7ms/step - auc: 0.8021 - categorical_accuracy: 0.4423 - loss: 1.5099 - precision: 0.7567 - recall: 0.1693 - val_auc: 0.8294 - val_categorical_accuracy: 0.4901 - val_loss: 1.4112 - val_precision: 0.8571 - val_recall: 0.1781\n",
            "Epoch 3/50\n",
            "\u001b[1m27/27\u001b[0m \u001b[32m━━━━━━━━━━━━━━━━━━━━\u001b[0m\u001b[37m\u001b[0m \u001b[1m0s\u001b[0m 7ms/step - auc: 0.8059 - categorical_accuracy: 0.4603 - loss: 1.5025 - precision: 0.7301 - recall: 0.1752 - val_auc: 0.8340 - val_categorical_accuracy: 0.4932 - val_loss: 1.3867 - val_precision: 0.8586 - val_recall: 0.1986\n",
            "Epoch 4/50\n",
            "\u001b[1m27/27\u001b[0m \u001b[32m━━━━━━━━━━━━━━━━━━━━\u001b[0m\u001b[37m\u001b[0m \u001b[1m0s\u001b[0m 7ms/step - auc: 0.8242 - categorical_accuracy: 0.4852 - loss: 1.4168 - precision: 0.7733 - recall: 0.1962 - val_auc: 0.8379 - val_categorical_accuracy: 0.5046 - val_loss: 1.3703 - val_precision: 0.8669 - val_recall: 0.2032\n",
            "Epoch 5/50\n",
            "\u001b[1m27/27\u001b[0m \u001b[32m━━━━━━━━━━━━━━━━━━━━\u001b[0m\u001b[37m\u001b[0m \u001b[1m0s\u001b[0m 7ms/step - auc: 0.8305 - categorical_accuracy: 0.4864 - loss: 1.3931 - precision: 0.7782 - recall: 0.2025 - val_auc: 0.8404 - val_categorical_accuracy: 0.5076 - val_loss: 1.3594 - val_precision: 0.8469 - val_recall: 0.2062\n",
            "Epoch 6/50\n",
            "\u001b[1m27/27\u001b[0m \u001b[32m━━━━━━━━━━━━━━━━━━━━\u001b[0m\u001b[37m\u001b[0m \u001b[1m0s\u001b[0m 7ms/step - auc: 0.8321 - categorical_accuracy: 0.4899 - loss: 1.3913 - precision: 0.7438 - recall: 0.2004 - val_auc: 0.8431 - val_categorical_accuracy: 0.5114 - val_loss: 1.3488 - val_precision: 0.8275 - val_recall: 0.2154\n",
            "Epoch 7/50\n",
            "\u001b[1m27/27\u001b[0m \u001b[32m━━━━━━━━━━━━━━━━━━━━\u001b[0m\u001b[37m\u001b[0m \u001b[1m0s\u001b[0m 7ms/step - auc: 0.8343 - categorical_accuracy: 0.4959 - loss: 1.3839 - precision: 0.7358 - recall: 0.2029 - val_auc: 0.8433 - val_categorical_accuracy: 0.5068 - val_loss: 1.3458 - val_precision: 0.8212 - val_recall: 0.2237\n",
            "Epoch 8/50\n",
            "\u001b[1m27/27\u001b[0m \u001b[32m━━━━━━━━━━━━━━━━━━━━\u001b[0m\u001b[37m\u001b[0m \u001b[1m0s\u001b[0m 7ms/step - auc: 0.8345 - categorical_accuracy: 0.4931 - loss: 1.3822 - precision: 0.7420 - recall: 0.2125 - val_auc: 0.8449 - val_categorical_accuracy: 0.5091 - val_loss: 1.3397 - val_precision: 0.8315 - val_recall: 0.2253\n",
            "Epoch 9/50\n",
            "\u001b[1m27/27\u001b[0m \u001b[32m━━━━━━━━━━━━━━━━━━━━\u001b[0m\u001b[37m\u001b[0m \u001b[1m0s\u001b[0m 7ms/step - auc: 0.8373 - categorical_accuracy: 0.4960 - loss: 1.3703 - precision: 0.7437 - recall: 0.2144 - val_auc: 0.8463 - val_categorical_accuracy: 0.5091 - val_loss: 1.3343 - val_precision: 0.8021 - val_recall: 0.2314\n",
            "Epoch 10/50\n",
            "\u001b[1m27/27\u001b[0m \u001b[32m━━━━━━━━━━━━━━━━━━━━\u001b[0m\u001b[37m\u001b[0m \u001b[1m0s\u001b[0m 7ms/step - auc: 0.8393 - categorical_accuracy: 0.4975 - loss: 1.3638 - precision: 0.7370 - recall: 0.2206 - val_auc: 0.8475 - val_categorical_accuracy: 0.5114 - val_loss: 1.3314 - val_precision: 0.8059 - val_recall: 0.2306\n",
            "Epoch 11/50\n",
            "\u001b[1m27/27\u001b[0m \u001b[32m━━━━━━━━━━━━━━━━━━━━\u001b[0m\u001b[37m\u001b[0m \u001b[1m0s\u001b[0m 7ms/step - auc: 0.8383 - categorical_accuracy: 0.4938 - loss: 1.3683 - precision: 0.7195 - recall: 0.2216 - val_auc: 0.8485 - val_categorical_accuracy: 0.5122 - val_loss: 1.3290 - val_precision: 0.8065 - val_recall: 0.2283\n",
            "Epoch 12/50\n",
            "\u001b[1m27/27\u001b[0m \u001b[32m━━━━━━━━━━━━━━━━━━━━\u001b[0m\u001b[37m\u001b[0m \u001b[1m0s\u001b[0m 7ms/step - auc: 0.8423 - categorical_accuracy: 0.5040 - loss: 1.3525 - precision: 0.7531 - recall: 0.2246 - val_auc: 0.8494 - val_categorical_accuracy: 0.5167 - val_loss: 1.3238 - val_precision: 0.8073 - val_recall: 0.2359\n",
            "Epoch 13/50\n",
            "\u001b[1m27/27\u001b[0m \u001b[32m━━━━━━━━━━━━━━━━━━━━\u001b[0m\u001b[37m\u001b[0m \u001b[1m0s\u001b[0m 6ms/step - auc: 0.8436 - categorical_accuracy: 0.5004 - loss: 1.3451 - precision: 0.7454 - recall: 0.2341 - val_auc: 0.8492 - val_categorical_accuracy: 0.5122 - val_loss: 1.3242 - val_precision: 0.8016 - val_recall: 0.2306\n",
            "Epoch 14/50\n",
            "\u001b[1m27/27\u001b[0m \u001b[32m━━━━━━━━━━━━━━━━━━━━\u001b[0m\u001b[37m\u001b[0m \u001b[1m0s\u001b[0m 7ms/step - auc: 0.8461 - categorical_accuracy: 0.5106 - loss: 1.3391 - precision: 0.7502 - recall: 0.2351 - val_auc: 0.8504 - val_categorical_accuracy: 0.5129 - val_loss: 1.3207 - val_precision: 0.7960 - val_recall: 0.2435\n",
            "Epoch 15/50\n",
            "\u001b[1m27/27\u001b[0m \u001b[32m━━━━━━━━━━━━━━━━━━━━\u001b[0m\u001b[37m\u001b[0m \u001b[1m0s\u001b[0m 7ms/step - auc: 0.8465 - categorical_accuracy: 0.5094 - loss: 1.3376 - precision: 0.7401 - recall: 0.2417 - val_auc: 0.8513 - val_categorical_accuracy: 0.5167 - val_loss: 1.3173 - val_precision: 0.7995 - val_recall: 0.2428\n",
            "Epoch 16/50\n",
            "\u001b[1m27/27\u001b[0m \u001b[32m━━━━━━━━━━━━━━━━━━━━\u001b[0m\u001b[37m\u001b[0m \u001b[1m0s\u001b[0m 6ms/step - auc: 0.8417 - categorical_accuracy: 0.5012 - loss: 1.3560 - precision: 0.7237 - recall: 0.2352 - val_auc: 0.8501 - val_categorical_accuracy: 0.5076 - val_loss: 1.3203 - val_precision: 0.7954 - val_recall: 0.2367\n",
            "Epoch 17/50\n",
            "\u001b[1m27/27\u001b[0m \u001b[32m━━━━━━━━━━━━━━━━━━━━\u001b[0m\u001b[37m\u001b[0m \u001b[1m0s\u001b[0m 7ms/step - auc: 0.8466 - categorical_accuracy: 0.5103 - loss: 1.3330 - precision: 0.7444 - recall: 0.2408 - val_auc: 0.8515 - val_categorical_accuracy: 0.5160 - val_loss: 1.3156 - val_precision: 0.7927 - val_recall: 0.2473\n",
            "Epoch 18/50\n",
            "\u001b[1m27/27\u001b[0m \u001b[32m━━━━━━━━━━━━━━━━━━━━\u001b[0m\u001b[37m\u001b[0m \u001b[1m0s\u001b[0m 6ms/step - auc: 0.8466 - categorical_accuracy: 0.5137 - loss: 1.3374 - precision: 0.7266 - recall: 0.2407 - val_auc: 0.8513 - val_categorical_accuracy: 0.5145 - val_loss: 1.3160 - val_precision: 0.7822 - val_recall: 0.2405\n",
            "Epoch 19/50\n",
            "\u001b[1m27/27\u001b[0m \u001b[32m━━━━━━━━━━━━━━━━━━━━\u001b[0m\u001b[37m\u001b[0m \u001b[1m0s\u001b[0m 7ms/step - auc: 0.8468 - categorical_accuracy: 0.5121 - loss: 1.3319 - precision: 0.7381 - recall: 0.2491 - val_auc: 0.8518 - val_categorical_accuracy: 0.5129 - val_loss: 1.3147 - val_precision: 0.7871 - val_recall: 0.2420\n",
            "Epoch 20/50\n",
            "\u001b[1m27/27\u001b[0m \u001b[32m━━━━━━━━━━━━━━━━━━━━\u001b[0m\u001b[37m\u001b[0m \u001b[1m0s\u001b[0m 7ms/step - auc: 0.8454 - categorical_accuracy: 0.5120 - loss: 1.3375 - precision: 0.7233 - recall: 0.2444 - val_auc: 0.8528 - val_categorical_accuracy: 0.5175 - val_loss: 1.3128 - val_precision: 0.7956 - val_recall: 0.2458\n",
            "Epoch 21/50\n",
            "\u001b[1m27/27\u001b[0m \u001b[32m━━━━━━━━━━━━━━━━━━━━\u001b[0m\u001b[37m\u001b[0m \u001b[1m0s\u001b[0m 7ms/step - auc: 0.8488 - categorical_accuracy: 0.5072 - loss: 1.3270 - precision: 0.7400 - recall: 0.2471 - val_auc: 0.8532 - val_categorical_accuracy: 0.5152 - val_loss: 1.3105 - val_precision: 0.7971 - val_recall: 0.2542\n",
            "Epoch 22/50\n",
            "\u001b[1m27/27\u001b[0m \u001b[32m━━━━━━━━━━━━━━━━━━━━\u001b[0m\u001b[37m\u001b[0m \u001b[1m0s\u001b[0m 6ms/step - auc: 0.8481 - categorical_accuracy: 0.5127 - loss: 1.3321 - precision: 0.7383 - recall: 0.2475 - val_auc: 0.8531 - val_categorical_accuracy: 0.5160 - val_loss: 1.3105 - val_precision: 0.7862 - val_recall: 0.2519\n",
            "Epoch 23/50\n",
            "\u001b[1m27/27\u001b[0m \u001b[32m━━━━━━━━━━━━━━━━━━━━\u001b[0m\u001b[37m\u001b[0m \u001b[1m0s\u001b[0m 7ms/step - auc: 0.8494 - categorical_accuracy: 0.5147 - loss: 1.3246 - precision: 0.7347 - recall: 0.2517 - val_auc: 0.8537 - val_categorical_accuracy: 0.5122 - val_loss: 1.3083 - val_precision: 0.7906 - val_recall: 0.2557\n",
            "Epoch 24/50\n",
            "\u001b[1m27/27\u001b[0m \u001b[32m━━━━━━━━━━━━━━━━━━━━\u001b[0m\u001b[37m\u001b[0m \u001b[1m0s\u001b[0m 7ms/step - auc: 0.8483 - categorical_accuracy: 0.5158 - loss: 1.3282 - precision: 0.7418 - recall: 0.2561 - val_auc: 0.8537 - val_categorical_accuracy: 0.5152 - val_loss: 1.3075 - val_precision: 0.7857 - val_recall: 0.2511\n",
            "Epoch 25/50\n",
            "\u001b[1m27/27\u001b[0m \u001b[32m━━━━━━━━━━━━━━━━━━━━\u001b[0m\u001b[37m\u001b[0m \u001b[1m0s\u001b[0m 7ms/step - auc: 0.8497 - categorical_accuracy: 0.5103 - loss: 1.3222 - precision: 0.7379 - recall: 0.2489 - val_auc: 0.8544 - val_categorical_accuracy: 0.5175 - val_loss: 1.3056 - val_precision: 0.7937 - val_recall: 0.2489\n",
            "Epoch 26/50\n",
            "\u001b[1m27/27\u001b[0m \u001b[32m━━━━━━━━━━━━━━━━━━━━\u001b[0m\u001b[37m\u001b[0m \u001b[1m0s\u001b[0m 5ms/step - auc: 0.8482 - categorical_accuracy: 0.5043 - loss: 1.3285 - precision: 0.7325 - recall: 0.2499 - val_auc: 0.8535 - val_categorical_accuracy: 0.5160 - val_loss: 1.3068 - val_precision: 0.7739 - val_recall: 0.2527\n",
            "Epoch 27/50\n",
            "\u001b[1m27/27\u001b[0m \u001b[32m━━━━━━━━━━━━━━━━━━━━\u001b[0m\u001b[37m\u001b[0m \u001b[1m0s\u001b[0m 6ms/step - auc: 0.8513 - categorical_accuracy: 0.5144 - loss: 1.3162 - precision: 0.7420 - recall: 0.2577 - val_auc: 0.8537 - val_categorical_accuracy: 0.5167 - val_loss: 1.3065 - val_precision: 0.7801 - val_recall: 0.2511\n",
            "Epoch 28/50\n",
            "\u001b[1m27/27\u001b[0m \u001b[32m━━━━━━━━━━━━━━━━━━━━\u001b[0m\u001b[37m\u001b[0m \u001b[1m0s\u001b[0m 6ms/step - auc: 0.8480 - categorical_accuracy: 0.5098 - loss: 1.3254 - precision: 0.7311 - recall: 0.2534 - val_auc: 0.8541 - val_categorical_accuracy: 0.5175 - val_loss: 1.3057 - val_precision: 0.7875 - val_recall: 0.2595\n",
            "Epoch 29/50\n",
            "\u001b[1m27/27\u001b[0m \u001b[32m━━━━━━━━━━━━━━━━━━━━\u001b[0m\u001b[37m\u001b[0m \u001b[1m0s\u001b[0m 7ms/step - auc: 0.8512 - categorical_accuracy: 0.5123 - loss: 1.3165 - precision: 0.7293 - recall: 0.2543 - val_auc: 0.8552 - val_categorical_accuracy: 0.5190 - val_loss: 1.3026 - val_precision: 0.7967 - val_recall: 0.2565\n",
            "Epoch 30/50\n",
            "\u001b[1m27/27\u001b[0m \u001b[32m━━━━━━━━━━━━━━━━━━━━\u001b[0m\u001b[37m\u001b[0m \u001b[1m0s\u001b[0m 6ms/step - auc: 0.8484 - categorical_accuracy: 0.5163 - loss: 1.3303 - precision: 0.7276 - recall: 0.2546 - val_auc: 0.8548 - val_categorical_accuracy: 0.5183 - val_loss: 1.3046 - val_precision: 0.7869 - val_recall: 0.2557\n",
            "Epoch 31/50\n",
            "\u001b[1m27/27\u001b[0m \u001b[32m━━━━━━━━━━━━━━━━━━━━\u001b[0m\u001b[37m\u001b[0m \u001b[1m0s\u001b[0m 6ms/step - auc: 0.8504 - categorical_accuracy: 0.5093 - loss: 1.3190 - precision: 0.7374 - recall: 0.2597 - val_auc: 0.8547 - val_categorical_accuracy: 0.5099 - val_loss: 1.3034 - val_precision: 0.7775 - val_recall: 0.2580\n",
            "Epoch 32/50\n",
            "\u001b[1m27/27\u001b[0m \u001b[32m━━━━━━━━━━━━━━━━━━━━\u001b[0m\u001b[37m\u001b[0m \u001b[1m0s\u001b[0m 7ms/step - auc: 0.8493 - categorical_accuracy: 0.5111 - loss: 1.3263 - precision: 0.7342 - recall: 0.2548 - val_auc: 0.8551 - val_categorical_accuracy: 0.5205 - val_loss: 1.3007 - val_precision: 0.7849 - val_recall: 0.2610\n",
            "Epoch 33/50\n",
            "\u001b[1m27/27\u001b[0m \u001b[32m━━━━━━━━━━━━━━━━━━━━\u001b[0m\u001b[37m\u001b[0m \u001b[1m0s\u001b[0m 6ms/step - auc: 0.8506 - categorical_accuracy: 0.5198 - loss: 1.3191 - precision: 0.7421 - recall: 0.2578 - val_auc: 0.8548 - val_categorical_accuracy: 0.5160 - val_loss: 1.3011 - val_precision: 0.7692 - val_recall: 0.2588\n",
            "Epoch 34/50\n",
            "\u001b[1m27/27\u001b[0m \u001b[32m━━━━━━━━━━━━━━━━━━━━\u001b[0m\u001b[37m\u001b[0m \u001b[1m0s\u001b[0m 7ms/step - auc: 0.8506 - categorical_accuracy: 0.5087 - loss: 1.3173 - precision: 0.7283 - recall: 0.2578 - val_auc: 0.8557 - val_categorical_accuracy: 0.5175 - val_loss: 1.2992 - val_precision: 0.7803 - val_recall: 0.2595\n",
            "Epoch 35/50\n",
            "\u001b[1m27/27\u001b[0m \u001b[32m━━━━━━━━━━━━━━━━━━━━\u001b[0m\u001b[37m\u001b[0m \u001b[1m0s\u001b[0m 7ms/step - auc: 0.8517 - categorical_accuracy: 0.5137 - loss: 1.3142 - precision: 0.7386 - recall: 0.2612 - val_auc: 0.8559 - val_categorical_accuracy: 0.5183 - val_loss: 1.2986 - val_precision: 0.7862 - val_recall: 0.2603\n",
            "Epoch 36/50\n",
            "\u001b[1m27/27\u001b[0m \u001b[32m━━━━━━━━━━━━━━━━━━━━\u001b[0m\u001b[37m\u001b[0m \u001b[1m0s\u001b[0m 7ms/step - auc: 0.8510 - categorical_accuracy: 0.5137 - loss: 1.3163 - precision: 0.7384 - recall: 0.2608 - val_auc: 0.8560 - val_categorical_accuracy: 0.5190 - val_loss: 1.2982 - val_precision: 0.7896 - val_recall: 0.2542\n",
            "Epoch 37/50\n",
            "\u001b[1m27/27\u001b[0m \u001b[32m━━━━━━━━━━━━━━━━━━━━\u001b[0m\u001b[37m\u001b[0m \u001b[1m0s\u001b[0m 7ms/step - auc: 0.8507 - categorical_accuracy: 0.5164 - loss: 1.3164 - precision: 0.7337 - recall: 0.2601 - val_auc: 0.8560 - val_categorical_accuracy: 0.5145 - val_loss: 1.2979 - val_precision: 0.7803 - val_recall: 0.2648\n",
            "Epoch 38/50\n",
            "\u001b[1m27/27\u001b[0m \u001b[32m━━━━━━━━━━━━━━━━━━━━\u001b[0m\u001b[37m\u001b[0m \u001b[1m0s\u001b[0m 7ms/step - auc: 0.8526 - categorical_accuracy: 0.5208 - loss: 1.3085 - precision: 0.7430 - recall: 0.2630 - val_auc: 0.8561 - val_categorical_accuracy: 0.5183 - val_loss: 1.2976 - val_precision: 0.7826 - val_recall: 0.2603\n",
            "Epoch 39/50\n",
            "\u001b[1m27/27\u001b[0m \u001b[32m━━━━━━━━━━━━━━━━━━━━\u001b[0m\u001b[37m\u001b[0m \u001b[1m0s\u001b[0m 7ms/step - auc: 0.8539 - categorical_accuracy: 0.5178 - loss: 1.3048 - precision: 0.7341 - recall: 0.2588 - val_auc: 0.8568 - val_categorical_accuracy: 0.5198 - val_loss: 1.2964 - val_precision: 0.7859 - val_recall: 0.2626\n",
            "Epoch 40/50\n",
            "\u001b[1m27/27\u001b[0m \u001b[32m━━━━━━━━━━━━━━━━━━━━\u001b[0m\u001b[37m\u001b[0m \u001b[1m0s\u001b[0m 7ms/step - auc: 0.8506 - categorical_accuracy: 0.5120 - loss: 1.3194 - precision: 0.7277 - recall: 0.2632 - val_auc: 0.8566 - val_categorical_accuracy: 0.5183 - val_loss: 1.2962 - val_precision: 0.7785 - val_recall: 0.2648\n",
            "Epoch 41/50\n",
            "\u001b[1m27/27\u001b[0m \u001b[32m━━━━━━━━━━━━━━━━━━━━\u001b[0m\u001b[37m\u001b[0m \u001b[1m0s\u001b[0m 7ms/step - auc: 0.8515 - categorical_accuracy: 0.5159 - loss: 1.3163 - precision: 0.7261 - recall: 0.2625 - val_auc: 0.8567 - val_categorical_accuracy: 0.5190 - val_loss: 1.2950 - val_precision: 0.7665 - val_recall: 0.2648\n",
            "Epoch 42/50\n",
            "\u001b[1m27/27\u001b[0m \u001b[32m━━━━━━━━━━━━━━━━━━━━\u001b[0m\u001b[37m\u001b[0m \u001b[1m0s\u001b[0m 7ms/step - auc: 0.8530 - categorical_accuracy: 0.5103 - loss: 1.3119 - precision: 0.7309 - recall: 0.2647 - val_auc: 0.8571 - val_categorical_accuracy: 0.5183 - val_loss: 1.2941 - val_precision: 0.7743 - val_recall: 0.2664\n",
            "Epoch 43/50\n",
            "\u001b[1m27/27\u001b[0m \u001b[32m━━━━━━━━━━━━━━━━━━━━\u001b[0m\u001b[37m\u001b[0m \u001b[1m0s\u001b[0m 7ms/step - auc: 0.8525 - categorical_accuracy: 0.5146 - loss: 1.3086 - precision: 0.7292 - recall: 0.2601 - val_auc: 0.8574 - val_categorical_accuracy: 0.5190 - val_loss: 1.2934 - val_precision: 0.7910 - val_recall: 0.2679\n",
            "Epoch 44/50\n",
            "\u001b[1m27/27\u001b[0m \u001b[32m━━━━━━━━━━━━━━━━━━━━\u001b[0m\u001b[37m\u001b[0m \u001b[1m0s\u001b[0m 7ms/step - auc: 0.8518 - categorical_accuracy: 0.5159 - loss: 1.3128 - precision: 0.7306 - recall: 0.2616 - val_auc: 0.8573 - val_categorical_accuracy: 0.5183 - val_loss: 1.2923 - val_precision: 0.7803 - val_recall: 0.2648\n",
            "Epoch 45/50\n",
            "\u001b[1m27/27\u001b[0m \u001b[32m━━━━━━━━━━━━━━━━━━━━\u001b[0m\u001b[37m\u001b[0m \u001b[1m0s\u001b[0m 6ms/step - auc: 0.8526 - categorical_accuracy: 0.5147 - loss: 1.3072 - precision: 0.7362 - recall: 0.2627 - val_auc: 0.8567 - val_categorical_accuracy: 0.5183 - val_loss: 1.2931 - val_precision: 0.7713 - val_recall: 0.2618\n",
            "Epoch 46/50\n",
            "\u001b[1m27/27\u001b[0m \u001b[32m━━━━━━━━━━━━━━━━━━━━\u001b[0m\u001b[37m\u001b[0m \u001b[1m0s\u001b[0m 7ms/step - auc: 0.8529 - categorical_accuracy: 0.5164 - loss: 1.3077 - precision: 0.7393 - recall: 0.2670 - val_auc: 0.8573 - val_categorical_accuracy: 0.5183 - val_loss: 1.2919 - val_precision: 0.7873 - val_recall: 0.2648\n",
            "Epoch 47/50\n",
            "\u001b[1m27/27\u001b[0m \u001b[32m━━━━━━━━━━━━━━━━━━━━\u001b[0m\u001b[37m\u001b[0m \u001b[1m0s\u001b[0m 6ms/step - auc: 0.8532 - categorical_accuracy: 0.5144 - loss: 1.3063 - precision: 0.7268 - recall: 0.2607 - val_auc: 0.8572 - val_categorical_accuracy: 0.5198 - val_loss: 1.2927 - val_precision: 0.7788 - val_recall: 0.2679\n",
            "Epoch 48/50\n",
            "\u001b[1m27/27\u001b[0m \u001b[32m━━━━━━━━━━━━━━━━━━━━\u001b[0m\u001b[37m\u001b[0m \u001b[1m0s\u001b[0m 6ms/step - auc: 0.8526 - categorical_accuracy: 0.5094 - loss: 1.3082 - precision: 0.7164 - recall: 0.2589 - val_auc: 0.8569 - val_categorical_accuracy: 0.5137 - val_loss: 1.2927 - val_precision: 0.7756 - val_recall: 0.2656\n",
            "Epoch 49/50\n",
            "\u001b[1m27/27\u001b[0m \u001b[32m━━━━━━━━━━━━━━━━━━━━\u001b[0m\u001b[37m\u001b[0m \u001b[1m0s\u001b[0m 7ms/step - auc: 0.8524 - categorical_accuracy: 0.5171 - loss: 1.3091 - precision: 0.7307 - recall: 0.2674 - val_auc: 0.8578 - val_categorical_accuracy: 0.5175 - val_loss: 1.2908 - val_precision: 0.7815 - val_recall: 0.2641\n",
            "Epoch 50/50\n",
            "\u001b[1m27/27\u001b[0m \u001b[32m━━━━━━━━━━━━━━━━━━━━\u001b[0m\u001b[37m\u001b[0m \u001b[1m0s\u001b[0m 6ms/step - auc: 0.8532 - categorical_accuracy: 0.5205 - loss: 1.3083 - precision: 0.7379 - recall: 0.2631 - val_auc: 0.8572 - val_categorical_accuracy: 0.5152 - val_loss: 1.2922 - val_precision: 0.7751 - val_recall: 0.2702\n"
          ]
        }
      ],
      "source": [
        "# This block performs linear evaluation on top of the pretrained SimCLR base model.\n",
        "total_epochs = 50\n",
        "batch_size = 200\n",
        "tag = \"linear_eval\"\n",
        "output_shape = np_train_labels.shape[1]  # Number of classes for classification\n",
        "\n",
        "# 1. Loads the SimCLR model and attaches a linear classification head.\n",
        "simclr_model = tf.keras.models.load_model(simclr_model_save_path)\n",
        "linear_evaluation_model = simclr_models.create_linear_model_from_base_model(simclr_model, output_shape, intermediate_layer=7)\n",
        "\n",
        "# 2. Sets up a ModelCheckpoint callback to save the best model (lowest validation loss).\n",
        "linear_eval_best_model_file_name = f\"{working_directory}{start_time_str}_simclr_{tag}.keras\"\n",
        "best_model_callback = tf.keras.callbacks.ModelCheckpoint(\n",
        "    linear_eval_best_model_file_name,\n",
        "    monitor='val_loss',\n",
        "    mode='min',\n",
        "    save_best_only=True,\n",
        "    save_weights_only=False,\n",
        "    verbose=0\n",
        ")\n",
        "\n",
        "# 3. Trains the linear evaluation model using the training and validation data.\n",
        "training_history = linear_evaluation_model.fit(\n",
        "    x = np_train_data,\n",
        "    y = np_train_labels,\n",
        "    batch_size=batch_size,\n",
        "    shuffle=True,\n",
        "    epochs=total_epochs,\n",
        "    callbacks=[best_model_callback],\n",
        "    validation_data=(np_val_data, np_val_labels)\n",
        ")"
      ]
    }
  ],
  "metadata": {
    "accelerator": "GPU",
    "colab": {
      "gpuType": "L4",
      "machine_shape": "hm",
      "provenance": [],
      "include_colab_link": true
    },
    "kernelspec": {
      "display_name": "Python 3",
      "name": "python3"
    },
    "language_info": {
      "codemirror_mode": {
        "name": "ipython",
        "version": 3
      },
      "file_extension": ".py",
      "mimetype": "text/x-python",
      "name": "python",
      "nbconvert_exporter": "python",
      "pygments_lexer": "ipython3",
      "version": "3.12.3"
    }
  },
  "nbformat": 4,
  "nbformat_minor": 5
}