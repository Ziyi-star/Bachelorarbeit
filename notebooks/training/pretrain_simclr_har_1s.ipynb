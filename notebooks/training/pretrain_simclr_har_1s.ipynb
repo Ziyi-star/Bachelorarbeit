{
  "cells": [
    {
      "cell_type": "markdown",
      "metadata": {
        "id": "view-in-github",
        "colab_type": "text"
      },
      "source": [
        "<a href=\"https://colab.research.google.com/github/Ziyi-star/Bachelorarbeit/blob/main/notebooks/training/pretrain_simclr_har_1s.ipynb\" target=\"_parent\"><img src=\"https://colab.research.google.com/assets/colab-badge.svg\" alt=\"Open In Colab\"/></a>"
      ]
    },
    {
      "cell_type": "markdown",
      "id": "97810603",
      "metadata": {
        "id": "97810603"
      },
      "source": [
        "## SimCLR Training"
      ]
    },
    {
      "cell_type": "code",
      "execution_count": null,
      "id": "39dbd93a",
      "metadata": {
        "id": "39dbd93a",
        "outputId": "8ee9d919-ebc4-4f2c-b01b-145ed1efa1c4"
      },
      "outputs": [
        {
          "name": "stdout",
          "output_type": "stream",
          "text": [
            "The autoreload extension is already loaded. To reload it, use:\n",
            "  %reload_ext autoreload\n"
          ]
        },
        {
          "data": {
            "text/plain": [
              "((416, 100, 3), (416, 7))"
            ]
          },
          "execution_count": 2,
          "metadata": {},
          "output_type": "execute_result"
        }
      ],
      "source": [
        "# For VSCode\n",
        "%load_ext autoreload\n",
        "%autoreload 2\n",
        "\n",
        "import os\n",
        "import pickle\n",
        "import scipy\n",
        "import datetime\n",
        "import numpy as np\n",
        "import tensorflow as tf\n",
        "import simclr_utitlities\n",
        "import transformations\n",
        "import simclr_models\n",
        "import sys\n",
        "import matplotlib.pyplot as plt\n",
        "\n",
        "sys.path.append('../../')   # Add parent directory to Python path\n",
        "working_directory = \"../../models/\"\n",
        "\n",
        "seed = 1\n",
        "tf.random.set_seed(seed)\n",
        "np.random.seed(seed)\n",
        "\n",
        "# todo: Load data need to be changed according to your path\n",
        "with open('../data_1s/X_train_normalized.pkl', 'rb') as f:\n",
        "    np_train_data = pickle.load(f)\n",
        "with open('../data_1s/y_train_onehot.pkl', 'rb') as f:\n",
        "    np_train_labels = pickle.load(f)\n",
        "print(np_train_data.shape, np_train_labels.shape)"
      ]
    },
    {
      "cell_type": "code",
      "execution_count": 2,
      "id": "dc1b1c60",
      "metadata": {
        "colab": {
          "base_uri": "https://localhost:8080/"
        },
        "id": "dc1b1c60",
        "outputId": "4483b29c-b506-4c61-a205-a8ac8e2faf92"
      },
      "outputs": [
        {
          "output_type": "stream",
          "name": "stdout",
          "text": [
            "Cloning into 'Bachelorarbeit'...\n",
            "remote: Enumerating objects: 261, done.\u001b[K\n",
            "remote: Counting objects: 100% (27/27), done.\u001b[K\n",
            "remote: Compressing objects: 100% (21/21), done.\u001b[K\n",
            "remote: Total 261 (delta 11), reused 17 (delta 6), pack-reused 234 (from 1)\u001b[K\n",
            "Receiving objects: 100% (261/261), 52.14 MiB | 12.79 MiB/s, done.\n",
            "Resolving deltas: 100% (123/123), done.\n",
            "--2025-09-09 11:37:11--  https://raw.githubusercontent.com/Ziyi-star/Bachelorarbeit/main/notebooks/data_1s/X_train_normalized.pkl\n",
            "Resolving raw.githubusercontent.com (raw.githubusercontent.com)... 185.199.111.133, 185.199.109.133, 185.199.108.133, ...\n",
            "Connecting to raw.githubusercontent.com (raw.githubusercontent.com)|185.199.111.133|:443... connected.\n",
            "HTTP request sent, awaiting response... 200 OK\n",
            "Length: 998565 (975K) [application/octet-stream]\n",
            "Saving to: ‘X_train_normalized.pkl.1’\n",
            "\n",
            "X_train_normalized. 100%[===================>] 975.16K  --.-KB/s    in 0.008s  \n",
            "\n",
            "2025-09-09 11:37:12 (121 MB/s) - ‘X_train_normalized.pkl.1’ saved [998565/998565]\n",
            "\n",
            "--2025-09-09 11:37:12--  https://raw.githubusercontent.com/Ziyi-star/Bachelorarbeit/main/notebooks/data_1s/y_train_onehot.pkl\n",
            "Resolving raw.githubusercontent.com (raw.githubusercontent.com)... 185.199.111.133, 185.199.108.133, 185.199.109.133, ...\n",
            "Connecting to raw.githubusercontent.com (raw.githubusercontent.com)|185.199.111.133|:443... connected.\n",
            "HTTP request sent, awaiting response... 200 OK\n",
            "Length: 23450 (23K) [application/octet-stream]\n",
            "Saving to: ‘y_train_onehot.pkl.1’\n",
            "\n",
            "y_train_onehot.pkl. 100%[===================>]  22.90K  --.-KB/s    in 0s      \n",
            "\n",
            "2025-09-09 11:37:12 (163 MB/s) - ‘y_train_onehot.pkl.1’ saved [23450/23450]\n",
            "\n",
            "(416, 100, 3) (416, 7)\n"
          ]
        }
      ],
      "source": [
        "# For Google Colab\n",
        "# 1. Clone your repository to go to access your notebook and .py files\n",
        "!git clone https://github.com/Ziyi-star/Bachelorarbeit.git\n",
        "# 2. Change working directory to where your notebook and .py files are\n",
        "import os\n",
        "os.chdir('/content/Bachelorarbeit/notebooks/training')\n",
        "import os\n",
        "import pickle\n",
        "import scipy\n",
        "import datetime\n",
        "import numpy as np\n",
        "import tensorflow as tf\n",
        "import matplotlib.pyplot as plt\n",
        "import simclr_utitlities\n",
        "import transformations\n",
        "import simclr_models\n",
        "import sys\n",
        "\n",
        "seed = 1\n",
        "tf.random.set_seed(seed)\n",
        "np.random.seed(seed)\n",
        "\n",
        "# Load data\n",
        "# Download the file from GitHub\n",
        "!wget https://raw.githubusercontent.com/Ziyi-star/Bachelorarbeit/main/notebooks/data_1s/X_train_normalized.pkl\n",
        "!wget https://raw.githubusercontent.com/Ziyi-star/Bachelorarbeit/main/notebooks/data_1s/y_train_onehot.pkl\n",
        "\n",
        "working_directory = \"../models/\"  # Relative path to models folder\n",
        "\n",
        "# Load as usual\n",
        "import pickle\n",
        "\n",
        "with open('X_train_normalized.pkl', 'rb') as f:\n",
        "    np_train_data = pickle.load(f)\n",
        "with open('y_train_onehot.pkl', 'rb') as f:\n",
        "    np_train_labels = pickle.load(f)\n",
        "\n",
        "print(np_train_data.shape, np_train_labels.shape)\n"
      ]
    },
    {
      "cell_type": "code",
      "execution_count": 9,
      "id": "a0dd43f3",
      "metadata": {
        "id": "a0dd43f3"
      },
      "outputs": [],
      "source": [
        "# Parameters for all experiments\n",
        "window_size = 100\n",
        "input_shape = (window_size, 3)\n",
        "batch_size = 512\n",
        "#Number of samples processed together in one training step. Larger batch sizes can speed up training but require more memory.\n",
        "decay_steps = 1000\n",
        "#Number of steps after which the learning rate decays (used for learning rate scheduling).\n",
        "epochs = 200\n",
        "temperature = 0.1\n"
      ]
    },
    {
      "cell_type": "code",
      "execution_count": 10,
      "id": "509a8da0",
      "metadata": {
        "id": "509a8da0"
      },
      "outputs": [],
      "source": [
        "# # transformation_indices = [2] # Use rotation transformation only\n",
        "# # transformation_indices = [1, 2] # Use Scaling and rotation transformation\n",
        "# transformation_indices = [5, 7] # Use channel shuffle and permutation transformation\n",
        "\n",
        "# transform_funcs_vectorized = [\n",
        "#     # 0. Adding random Gaussian noise.\n",
        "#     transformations.noise_transform_vectorized,\n",
        "#     # 1. Scaling by a random factor\n",
        "#     transformations.scaling_transform_vectorized,\n",
        "#     # 2. Applying a random 3D rotation\n",
        "#     transformations.rotation_transform_vectorized,\n",
        "#     # 3. Inverting the signals.\n",
        "#     transformations.negate_transform_vectorized,\n",
        "#     # 4. Reversing the direction of time\n",
        "#     transformations.time_flip_transform_vectorized,\n",
        "#     # 5. Randomly scrambling sections of the signal.\n",
        "#     transformations.time_segment_permutation_transform_improved,\n",
        "#     # 6. Stretching and warping the time-series\n",
        "#     transformations.time_warp_transform_low_cost,\n",
        "#     # 7. Shuffling the different channels.\n",
        "#     transformations.channel_shuffle_transform_vectorized\n",
        "# ]\n",
        "# # transform_funcs_names = ['noised', 'scaled', 'rotated', 'negated', 'time_flipped', 'permuted', 'time_warped', 'channel_shuffled']\n",
        "# # Optionally, you can use a combined transformation function for data augmentation.\n",
        "# transformation_function = simclr_utitlities.generate_combined_transform_function(\n",
        "#     transform_funcs_vectorized,\n",
        "#     indices=transformation_indices\n",
        "# )"
      ]
    },
    {
      "cell_type": "code",
      "execution_count": 11,
      "id": "267dc541",
      "metadata": {
        "colab": {
          "base_uri": "https://localhost:8080/"
        },
        "id": "267dc541",
        "outputId": "fed45de0-9e16-428d-afab-191fc2edd488"
      },
      "outputs": [
        {
          "output_type": "stream",
          "name": "stdout",
          "text": [
            "0 <function time_segment_permutation_transform_improved at 0x7a55833e5080>\n",
            "1 <function channel_shuffle_transform_vectorized at 0x7a55833e4fe0>\n"
          ]
        }
      ],
      "source": [
        "#A parameter for the SimCLR loss function that controls how sharply similarities are measured.\n",
        "# transform_funcs = [\n",
        "#     transformations.scaling_transform_vectorized, # Use Scaling trasnformation\n",
        "#     transformations.rotation_transform_vectorized # Use rotation trasnformation\n",
        "# ]\n",
        "transform_funcs = [\n",
        "    transformations.time_segment_permutation_transform_improved,\n",
        "    transformations.channel_shuffle_transform_vectorized\n",
        "]\n",
        "#List of data augmentation functions to apply to the input data. Here, only rotation is used.\n",
        "transformation_function = simclr_utitlities.generate_composite_transform_function_simple(transform_funcs)"
      ]
    },
    {
      "cell_type": "code",
      "execution_count": 12,
      "id": "488ebcf3",
      "metadata": {
        "id": "488ebcf3"
      },
      "outputs": [],
      "source": [
        "# Time\n",
        "start_time = datetime.datetime.now()\n",
        "start_time_str = start_time.strftime(\"%Y%m%d-%H%M%S\")\n",
        "#Formats the date and time as a string like 20250827-153045 (for filenames, logs, etc.).\n",
        "tf.keras.backend.set_floatx('float32')\n",
        "#Sets TensorFlow to use 32-bit floating point numbers for all computations (standard for deep learning).\n"
      ]
    },
    {
      "cell_type": "code",
      "execution_count": 13,
      "id": "27ddae84",
      "metadata": {
        "colab": {
          "base_uri": "https://localhost:8080/",
          "height": 1000
        },
        "id": "27ddae84",
        "outputId": "e751a7f4-9d78-4625-888f-ee57c32730fa"
      },
      "outputs": [
        {
          "output_type": "display_data",
          "data": {
            "text/plain": [
              "\u001b[1mModel: \"base_model_simclr\"\u001b[0m\n"
            ],
            "text/html": [
              "<pre style=\"white-space:pre;overflow-x:auto;line-height:normal;font-family:Menlo,'DejaVu Sans Mono',consolas,'Courier New',monospace\"><span style=\"font-weight: bold\">Model: \"base_model_simclr\"</span>\n",
              "</pre>\n"
            ]
          },
          "metadata": {}
        },
        {
          "output_type": "display_data",
          "data": {
            "text/plain": [
              "┏━━━━━━━━━━━━━━━━━━━━━━━━━━━━━━━━━┳━━━━━━━━━━━━━━━━━━━━━━━━┳━━━━━━━━━━━━━━━┓\n",
              "┃\u001b[1m \u001b[0m\u001b[1mLayer (type)                   \u001b[0m\u001b[1m \u001b[0m┃\u001b[1m \u001b[0m\u001b[1mOutput Shape          \u001b[0m\u001b[1m \u001b[0m┃\u001b[1m \u001b[0m\u001b[1m      Param #\u001b[0m\u001b[1m \u001b[0m┃\n",
              "┡━━━━━━━━━━━━━━━━━━━━━━━━━━━━━━━━━╇━━━━━━━━━━━━━━━━━━━━━━━━╇━━━━━━━━━━━━━━━┩\n",
              "│ input (\u001b[38;5;33mInputLayer\u001b[0m)              │ (\u001b[38;5;45mNone\u001b[0m, \u001b[38;5;34m100\u001b[0m, \u001b[38;5;34m3\u001b[0m)         │             \u001b[38;5;34m0\u001b[0m │\n",
              "├─────────────────────────────────┼────────────────────────┼───────────────┤\n",
              "│ conv1d_3 (\u001b[38;5;33mConv1D\u001b[0m)               │ (\u001b[38;5;45mNone\u001b[0m, \u001b[38;5;34m77\u001b[0m, \u001b[38;5;34m32\u001b[0m)         │         \u001b[38;5;34m2,336\u001b[0m │\n",
              "├─────────────────────────────────┼────────────────────────┼───────────────┤\n",
              "│ dropout_3 (\u001b[38;5;33mDropout\u001b[0m)             │ (\u001b[38;5;45mNone\u001b[0m, \u001b[38;5;34m77\u001b[0m, \u001b[38;5;34m32\u001b[0m)         │             \u001b[38;5;34m0\u001b[0m │\n",
              "├─────────────────────────────────┼────────────────────────┼───────────────┤\n",
              "│ conv1d_4 (\u001b[38;5;33mConv1D\u001b[0m)               │ (\u001b[38;5;45mNone\u001b[0m, \u001b[38;5;34m62\u001b[0m, \u001b[38;5;34m64\u001b[0m)         │        \u001b[38;5;34m32,832\u001b[0m │\n",
              "├─────────────────────────────────┼────────────────────────┼───────────────┤\n",
              "│ dropout_4 (\u001b[38;5;33mDropout\u001b[0m)             │ (\u001b[38;5;45mNone\u001b[0m, \u001b[38;5;34m62\u001b[0m, \u001b[38;5;34m64\u001b[0m)         │             \u001b[38;5;34m0\u001b[0m │\n",
              "├─────────────────────────────────┼────────────────────────┼───────────────┤\n",
              "│ conv1d_5 (\u001b[38;5;33mConv1D\u001b[0m)               │ (\u001b[38;5;45mNone\u001b[0m, \u001b[38;5;34m55\u001b[0m, \u001b[38;5;34m96\u001b[0m)         │        \u001b[38;5;34m49,248\u001b[0m │\n",
              "├─────────────────────────────────┼────────────────────────┼───────────────┤\n",
              "│ dropout_5 (\u001b[38;5;33mDropout\u001b[0m)             │ (\u001b[38;5;45mNone\u001b[0m, \u001b[38;5;34m55\u001b[0m, \u001b[38;5;34m96\u001b[0m)         │             \u001b[38;5;34m0\u001b[0m │\n",
              "├─────────────────────────────────┼────────────────────────┼───────────────┤\n",
              "│ global_max_pooling1d            │ (\u001b[38;5;45mNone\u001b[0m, \u001b[38;5;34m96\u001b[0m)             │             \u001b[38;5;34m0\u001b[0m │\n",
              "│ (\u001b[38;5;33mGlobalMaxPooling1D\u001b[0m)            │                        │               │\n",
              "├─────────────────────────────────┼────────────────────────┼───────────────┤\n",
              "│ dense_3 (\u001b[38;5;33mDense\u001b[0m)                 │ (\u001b[38;5;45mNone\u001b[0m, \u001b[38;5;34m256\u001b[0m)            │        \u001b[38;5;34m24,832\u001b[0m │\n",
              "├─────────────────────────────────┼────────────────────────┼───────────────┤\n",
              "│ activation_2 (\u001b[38;5;33mActivation\u001b[0m)       │ (\u001b[38;5;45mNone\u001b[0m, \u001b[38;5;34m256\u001b[0m)            │             \u001b[38;5;34m0\u001b[0m │\n",
              "├─────────────────────────────────┼────────────────────────┼───────────────┤\n",
              "│ dense_4 (\u001b[38;5;33mDense\u001b[0m)                 │ (\u001b[38;5;45mNone\u001b[0m, \u001b[38;5;34m128\u001b[0m)            │        \u001b[38;5;34m32,896\u001b[0m │\n",
              "├─────────────────────────────────┼────────────────────────┼───────────────┤\n",
              "│ activation_3 (\u001b[38;5;33mActivation\u001b[0m)       │ (\u001b[38;5;45mNone\u001b[0m, \u001b[38;5;34m128\u001b[0m)            │             \u001b[38;5;34m0\u001b[0m │\n",
              "├─────────────────────────────────┼────────────────────────┼───────────────┤\n",
              "│ dense_5 (\u001b[38;5;33mDense\u001b[0m)                 │ (\u001b[38;5;45mNone\u001b[0m, \u001b[38;5;34m50\u001b[0m)             │         \u001b[38;5;34m6,450\u001b[0m │\n",
              "└─────────────────────────────────┴────────────────────────┴───────────────┘\n"
            ],
            "text/html": [
              "<pre style=\"white-space:pre;overflow-x:auto;line-height:normal;font-family:Menlo,'DejaVu Sans Mono',consolas,'Courier New',monospace\">┏━━━━━━━━━━━━━━━━━━━━━━━━━━━━━━━━━┳━━━━━━━━━━━━━━━━━━━━━━━━┳━━━━━━━━━━━━━━━┓\n",
              "┃<span style=\"font-weight: bold\"> Layer (type)                    </span>┃<span style=\"font-weight: bold\"> Output Shape           </span>┃<span style=\"font-weight: bold\">       Param # </span>┃\n",
              "┡━━━━━━━━━━━━━━━━━━━━━━━━━━━━━━━━━╇━━━━━━━━━━━━━━━━━━━━━━━━╇━━━━━━━━━━━━━━━┩\n",
              "│ input (<span style=\"color: #0087ff; text-decoration-color: #0087ff\">InputLayer</span>)              │ (<span style=\"color: #00d7ff; text-decoration-color: #00d7ff\">None</span>, <span style=\"color: #00af00; text-decoration-color: #00af00\">100</span>, <span style=\"color: #00af00; text-decoration-color: #00af00\">3</span>)         │             <span style=\"color: #00af00; text-decoration-color: #00af00\">0</span> │\n",
              "├─────────────────────────────────┼────────────────────────┼───────────────┤\n",
              "│ conv1d_3 (<span style=\"color: #0087ff; text-decoration-color: #0087ff\">Conv1D</span>)               │ (<span style=\"color: #00d7ff; text-decoration-color: #00d7ff\">None</span>, <span style=\"color: #00af00; text-decoration-color: #00af00\">77</span>, <span style=\"color: #00af00; text-decoration-color: #00af00\">32</span>)         │         <span style=\"color: #00af00; text-decoration-color: #00af00\">2,336</span> │\n",
              "├─────────────────────────────────┼────────────────────────┼───────────────┤\n",
              "│ dropout_3 (<span style=\"color: #0087ff; text-decoration-color: #0087ff\">Dropout</span>)             │ (<span style=\"color: #00d7ff; text-decoration-color: #00d7ff\">None</span>, <span style=\"color: #00af00; text-decoration-color: #00af00\">77</span>, <span style=\"color: #00af00; text-decoration-color: #00af00\">32</span>)         │             <span style=\"color: #00af00; text-decoration-color: #00af00\">0</span> │\n",
              "├─────────────────────────────────┼────────────────────────┼───────────────┤\n",
              "│ conv1d_4 (<span style=\"color: #0087ff; text-decoration-color: #0087ff\">Conv1D</span>)               │ (<span style=\"color: #00d7ff; text-decoration-color: #00d7ff\">None</span>, <span style=\"color: #00af00; text-decoration-color: #00af00\">62</span>, <span style=\"color: #00af00; text-decoration-color: #00af00\">64</span>)         │        <span style=\"color: #00af00; text-decoration-color: #00af00\">32,832</span> │\n",
              "├─────────────────────────────────┼────────────────────────┼───────────────┤\n",
              "│ dropout_4 (<span style=\"color: #0087ff; text-decoration-color: #0087ff\">Dropout</span>)             │ (<span style=\"color: #00d7ff; text-decoration-color: #00d7ff\">None</span>, <span style=\"color: #00af00; text-decoration-color: #00af00\">62</span>, <span style=\"color: #00af00; text-decoration-color: #00af00\">64</span>)         │             <span style=\"color: #00af00; text-decoration-color: #00af00\">0</span> │\n",
              "├─────────────────────────────────┼────────────────────────┼───────────────┤\n",
              "│ conv1d_5 (<span style=\"color: #0087ff; text-decoration-color: #0087ff\">Conv1D</span>)               │ (<span style=\"color: #00d7ff; text-decoration-color: #00d7ff\">None</span>, <span style=\"color: #00af00; text-decoration-color: #00af00\">55</span>, <span style=\"color: #00af00; text-decoration-color: #00af00\">96</span>)         │        <span style=\"color: #00af00; text-decoration-color: #00af00\">49,248</span> │\n",
              "├─────────────────────────────────┼────────────────────────┼───────────────┤\n",
              "│ dropout_5 (<span style=\"color: #0087ff; text-decoration-color: #0087ff\">Dropout</span>)             │ (<span style=\"color: #00d7ff; text-decoration-color: #00d7ff\">None</span>, <span style=\"color: #00af00; text-decoration-color: #00af00\">55</span>, <span style=\"color: #00af00; text-decoration-color: #00af00\">96</span>)         │             <span style=\"color: #00af00; text-decoration-color: #00af00\">0</span> │\n",
              "├─────────────────────────────────┼────────────────────────┼───────────────┤\n",
              "│ global_max_pooling1d            │ (<span style=\"color: #00d7ff; text-decoration-color: #00d7ff\">None</span>, <span style=\"color: #00af00; text-decoration-color: #00af00\">96</span>)             │             <span style=\"color: #00af00; text-decoration-color: #00af00\">0</span> │\n",
              "│ (<span style=\"color: #0087ff; text-decoration-color: #0087ff\">GlobalMaxPooling1D</span>)            │                        │               │\n",
              "├─────────────────────────────────┼────────────────────────┼───────────────┤\n",
              "│ dense_3 (<span style=\"color: #0087ff; text-decoration-color: #0087ff\">Dense</span>)                 │ (<span style=\"color: #00d7ff; text-decoration-color: #00d7ff\">None</span>, <span style=\"color: #00af00; text-decoration-color: #00af00\">256</span>)            │        <span style=\"color: #00af00; text-decoration-color: #00af00\">24,832</span> │\n",
              "├─────────────────────────────────┼────────────────────────┼───────────────┤\n",
              "│ activation_2 (<span style=\"color: #0087ff; text-decoration-color: #0087ff\">Activation</span>)       │ (<span style=\"color: #00d7ff; text-decoration-color: #00d7ff\">None</span>, <span style=\"color: #00af00; text-decoration-color: #00af00\">256</span>)            │             <span style=\"color: #00af00; text-decoration-color: #00af00\">0</span> │\n",
              "├─────────────────────────────────┼────────────────────────┼───────────────┤\n",
              "│ dense_4 (<span style=\"color: #0087ff; text-decoration-color: #0087ff\">Dense</span>)                 │ (<span style=\"color: #00d7ff; text-decoration-color: #00d7ff\">None</span>, <span style=\"color: #00af00; text-decoration-color: #00af00\">128</span>)            │        <span style=\"color: #00af00; text-decoration-color: #00af00\">32,896</span> │\n",
              "├─────────────────────────────────┼────────────────────────┼───────────────┤\n",
              "│ activation_3 (<span style=\"color: #0087ff; text-decoration-color: #0087ff\">Activation</span>)       │ (<span style=\"color: #00d7ff; text-decoration-color: #00d7ff\">None</span>, <span style=\"color: #00af00; text-decoration-color: #00af00\">128</span>)            │             <span style=\"color: #00af00; text-decoration-color: #00af00\">0</span> │\n",
              "├─────────────────────────────────┼────────────────────────┼───────────────┤\n",
              "│ dense_5 (<span style=\"color: #0087ff; text-decoration-color: #0087ff\">Dense</span>)                 │ (<span style=\"color: #00d7ff; text-decoration-color: #00d7ff\">None</span>, <span style=\"color: #00af00; text-decoration-color: #00af00\">50</span>)             │         <span style=\"color: #00af00; text-decoration-color: #00af00\">6,450</span> │\n",
              "└─────────────────────────────────┴────────────────────────┴───────────────┘\n",
              "</pre>\n"
            ]
          },
          "metadata": {}
        },
        {
          "output_type": "display_data",
          "data": {
            "text/plain": [
              "\u001b[1m Total params: \u001b[0m\u001b[38;5;34m148,594\u001b[0m (580.45 KB)\n"
            ],
            "text/html": [
              "<pre style=\"white-space:pre;overflow-x:auto;line-height:normal;font-family:Menlo,'DejaVu Sans Mono',consolas,'Courier New',monospace\"><span style=\"font-weight: bold\"> Total params: </span><span style=\"color: #00af00; text-decoration-color: #00af00\">148,594</span> (580.45 KB)\n",
              "</pre>\n"
            ]
          },
          "metadata": {}
        },
        {
          "output_type": "display_data",
          "data": {
            "text/plain": [
              "\u001b[1m Trainable params: \u001b[0m\u001b[38;5;34m148,594\u001b[0m (580.45 KB)\n"
            ],
            "text/html": [
              "<pre style=\"white-space:pre;overflow-x:auto;line-height:normal;font-family:Menlo,'DejaVu Sans Mono',consolas,'Courier New',monospace\"><span style=\"font-weight: bold\"> Trainable params: </span><span style=\"color: #00af00; text-decoration-color: #00af00\">148,594</span> (580.45 KB)\n",
              "</pre>\n"
            ]
          },
          "metadata": {}
        },
        {
          "output_type": "display_data",
          "data": {
            "text/plain": [
              "\u001b[1m Non-trainable params: \u001b[0m\u001b[38;5;34m0\u001b[0m (0.00 B)\n"
            ],
            "text/html": [
              "<pre style=\"white-space:pre;overflow-x:auto;line-height:normal;font-family:Menlo,'DejaVu Sans Mono',consolas,'Courier New',monospace\"><span style=\"font-weight: bold\"> Non-trainable params: </span><span style=\"color: #00af00; text-decoration-color: #00af00\">0</span> (0.00 B)\n",
              "</pre>\n"
            ]
          },
          "metadata": {}
        },
        {
          "output_type": "stream",
          "name": "stdout",
          "text": [
            "epoch: 1 loss: 12.905\n",
            "epoch: 2 loss: 13.067\n",
            "epoch: 3 loss: 12.395\n",
            "epoch: 4 loss: 11.079\n",
            "epoch: 5 loss: 9.919\n",
            "epoch: 6 loss: 9.785\n",
            "epoch: 7 loss: 9.848\n",
            "epoch: 8 loss: 10.794\n",
            "epoch: 9 loss: 10.944\n",
            "epoch: 10 loss: 10.448\n",
            "epoch: 11 loss: 10.107\n",
            "epoch: 12 loss: 9.801\n",
            "epoch: 13 loss: 9.671\n",
            "epoch: 14 loss: 9.563\n",
            "epoch: 15 loss: 9.629\n",
            "epoch: 16 loss: 9.504\n",
            "epoch: 17 loss: 9.701\n",
            "epoch: 18 loss: 9.685\n",
            "epoch: 19 loss: 9.743\n",
            "epoch: 20 loss: 9.197\n",
            "epoch: 21 loss: 9.047\n",
            "epoch: 22 loss: 9.103\n",
            "epoch: 23 loss: 9.218\n",
            "epoch: 24 loss: 9.671\n",
            "epoch: 25 loss: 9.632\n",
            "epoch: 26 loss: 9.191\n",
            "epoch: 27 loss: 9.156\n",
            "epoch: 28 loss: 9.035\n",
            "epoch: 29 loss: 9.771\n",
            "epoch: 30 loss: 11.101\n",
            "epoch: 31 loss: 10.028\n",
            "epoch: 32 loss: 9.549\n",
            "epoch: 33 loss: 9.208\n",
            "epoch: 34 loss: 9.000\n",
            "epoch: 35 loss: 9.175\n",
            "epoch: 36 loss: 9.052\n",
            "epoch: 37 loss: 8.711\n",
            "epoch: 38 loss: 8.608\n",
            "epoch: 39 loss: 8.856\n",
            "epoch: 40 loss: 9.152\n",
            "epoch: 41 loss: 8.763\n",
            "epoch: 42 loss: 8.412\n",
            "epoch: 43 loss: 8.912\n",
            "epoch: 44 loss: 9.601\n",
            "epoch: 45 loss: 9.202\n",
            "epoch: 46 loss: 8.686\n",
            "epoch: 47 loss: 8.409\n",
            "epoch: 48 loss: 8.557\n",
            "epoch: 49 loss: 9.063\n",
            "epoch: 50 loss: 8.771\n",
            "epoch: 51 loss: 8.668\n",
            "epoch: 52 loss: 9.264\n",
            "epoch: 53 loss: 8.579\n",
            "epoch: 54 loss: 8.371\n",
            "epoch: 55 loss: 8.455\n",
            "epoch: 56 loss: 8.577\n",
            "epoch: 57 loss: 8.525\n",
            "epoch: 58 loss: 8.386\n",
            "epoch: 59 loss: 8.091\n",
            "epoch: 60 loss: 8.681\n",
            "epoch: 61 loss: 8.876\n",
            "epoch: 62 loss: 8.698\n",
            "epoch: 63 loss: 8.256\n",
            "epoch: 64 loss: 8.249\n",
            "epoch: 65 loss: 8.447\n",
            "epoch: 66 loss: 8.090\n",
            "epoch: 67 loss: 8.063\n",
            "epoch: 68 loss: 7.908\n",
            "epoch: 69 loss: 8.323\n",
            "epoch: 70 loss: 8.319\n",
            "epoch: 71 loss: 8.151\n",
            "epoch: 72 loss: 8.236\n",
            "epoch: 73 loss: 8.879\n",
            "epoch: 74 loss: 8.024\n",
            "epoch: 75 loss: 7.796\n",
            "epoch: 76 loss: 8.066\n",
            "epoch: 77 loss: 8.421\n",
            "epoch: 78 loss: 8.015\n",
            "epoch: 79 loss: 8.476\n",
            "epoch: 80 loss: 8.486\n",
            "epoch: 81 loss: 8.174\n",
            "epoch: 82 loss: 7.894\n",
            "epoch: 83 loss: 7.542\n",
            "epoch: 84 loss: 7.829\n",
            "epoch: 85 loss: 8.316\n",
            "epoch: 86 loss: 7.968\n",
            "epoch: 87 loss: 7.668\n",
            "epoch: 88 loss: 7.986\n",
            "epoch: 89 loss: 8.091\n",
            "epoch: 90 loss: 8.262\n",
            "epoch: 91 loss: 7.587\n",
            "epoch: 92 loss: 7.472\n",
            "epoch: 93 loss: 7.841\n",
            "epoch: 94 loss: 8.053\n",
            "epoch: 95 loss: 8.170\n",
            "epoch: 96 loss: 7.899\n",
            "epoch: 97 loss: 8.393\n",
            "epoch: 98 loss: 7.882\n",
            "epoch: 99 loss: 7.763\n",
            "epoch: 100 loss: 7.697\n",
            "epoch: 101 loss: 7.820\n",
            "epoch: 102 loss: 7.583\n",
            "epoch: 103 loss: 7.575\n",
            "epoch: 104 loss: 7.989\n",
            "epoch: 105 loss: 8.148\n",
            "epoch: 106 loss: 7.595\n",
            "epoch: 107 loss: 7.798\n",
            "epoch: 108 loss: 7.721\n",
            "epoch: 109 loss: 7.420\n",
            "epoch: 110 loss: 7.441\n",
            "epoch: 111 loss: 8.029\n",
            "epoch: 112 loss: 8.268\n",
            "epoch: 113 loss: 7.810\n",
            "epoch: 114 loss: 7.641\n",
            "epoch: 115 loss: 7.293\n",
            "epoch: 116 loss: 7.148\n",
            "epoch: 117 loss: 7.390\n",
            "epoch: 118 loss: 7.482\n",
            "epoch: 119 loss: 7.474\n",
            "epoch: 120 loss: 7.260\n",
            "epoch: 121 loss: 7.293\n",
            "epoch: 122 loss: 7.399\n",
            "epoch: 123 loss: 8.213\n",
            "epoch: 124 loss: 8.073\n",
            "epoch: 125 loss: 7.553\n",
            "epoch: 126 loss: 7.461\n",
            "epoch: 127 loss: 7.440\n",
            "epoch: 128 loss: 7.245\n",
            "epoch: 129 loss: 7.522\n",
            "epoch: 130 loss: 7.131\n",
            "epoch: 131 loss: 7.177\n",
            "epoch: 132 loss: 7.426\n",
            "epoch: 133 loss: 7.790\n",
            "epoch: 134 loss: 7.851\n",
            "epoch: 135 loss: 7.339\n",
            "epoch: 136 loss: 7.173\n",
            "epoch: 137 loss: 7.006\n",
            "epoch: 138 loss: 7.111\n",
            "epoch: 139 loss: 7.215\n",
            "epoch: 140 loss: 7.562\n",
            "epoch: 141 loss: 7.713\n",
            "epoch: 142 loss: 7.533\n",
            "epoch: 143 loss: 7.242\n",
            "epoch: 144 loss: 7.124\n",
            "epoch: 145 loss: 7.046\n",
            "epoch: 146 loss: 7.129\n",
            "epoch: 147 loss: 7.142\n",
            "epoch: 148 loss: 7.661\n",
            "epoch: 149 loss: 7.467\n",
            "epoch: 150 loss: 7.239\n",
            "epoch: 151 loss: 7.258\n",
            "epoch: 152 loss: 7.310\n",
            "epoch: 153 loss: 7.004\n",
            "epoch: 154 loss: 7.319\n",
            "epoch: 155 loss: 7.396\n",
            "epoch: 156 loss: 7.018\n",
            "epoch: 157 loss: 6.899\n",
            "epoch: 158 loss: 6.990\n",
            "epoch: 159 loss: 6.960\n",
            "epoch: 160 loss: 7.032\n",
            "epoch: 161 loss: 6.768\n",
            "epoch: 162 loss: 7.115\n",
            "epoch: 163 loss: 8.075\n",
            "epoch: 164 loss: 8.290\n",
            "epoch: 165 loss: 7.310\n",
            "epoch: 166 loss: 7.161\n",
            "epoch: 167 loss: 8.287\n",
            "epoch: 168 loss: 8.287\n",
            "epoch: 169 loss: 7.369\n",
            "epoch: 170 loss: 7.314\n",
            "epoch: 171 loss: 7.587\n",
            "epoch: 172 loss: 7.674\n",
            "epoch: 173 loss: 7.435\n",
            "epoch: 174 loss: 7.253\n",
            "epoch: 175 loss: 7.403\n",
            "epoch: 176 loss: 7.041\n",
            "epoch: 177 loss: 7.032\n",
            "epoch: 178 loss: 7.501\n",
            "epoch: 179 loss: 7.113\n",
            "epoch: 180 loss: 6.756\n",
            "epoch: 181 loss: 6.735\n",
            "epoch: 182 loss: 6.947\n",
            "epoch: 183 loss: 7.156\n",
            "epoch: 184 loss: 7.064\n",
            "epoch: 185 loss: 7.323\n",
            "epoch: 186 loss: 7.060\n",
            "epoch: 187 loss: 6.741\n",
            "epoch: 188 loss: 6.676\n",
            "epoch: 189 loss: 6.933\n",
            "epoch: 190 loss: 7.251\n",
            "epoch: 191 loss: 7.039\n",
            "epoch: 192 loss: 6.475\n",
            "epoch: 193 loss: 6.455\n",
            "epoch: 194 loss: 6.523\n",
            "epoch: 195 loss: 7.059\n",
            "epoch: 196 loss: 6.733\n",
            "epoch: 197 loss: 6.904\n",
            "epoch: 198 loss: 7.214\n",
            "epoch: 199 loss: 7.035\n"
          ]
        },
        {
          "output_type": "stream",
          "name": "stderr",
          "text": [
            "WARNING:absl:You are saving your model as an HDF5 file via `model.save()` or `keras.saving.save_model(model)`. This file format is considered legacy. We recommend using instead the native Keras format, e.g. `model.save('my_model.keras')` or `keras.saving.save_model(model, 'my_model.keras')`. \n"
          ]
        },
        {
          "output_type": "stream",
          "name": "stdout",
          "text": [
            "epoch: 200 loss: 6.620\n"
          ]
        }
      ],
      "source": [
        "# Create a cosine-decayed learning rate schedule and SGD optimizer for training.\n",
        "lr_decayed_fn = tf.keras.optimizers.schedules.CosineDecay(initial_learning_rate=0.1, decay_steps=decay_steps)\n",
        "optimizer = tf.keras.optimizers.SGD(lr_decayed_fn)\n",
        "\n",
        "# Build the base model and attach the SimCLR head for contrastive learning.\n",
        "base_model = simclr_models.create_base_model(input_shape, model_name=\"base_model\")\n",
        "simclr_model = simclr_models.attach_simclr_head(base_model)\n",
        "simclr_model.summary()\n",
        "\n",
        "# Train the SimCLR model using the specified transformation function and optimizer.\n",
        "trained_simclr_model, epoch_losses = simclr_utitlities.simclr_train_model(\n",
        "    simclr_model,\n",
        "    np_train_data,\n",
        "    optimizer,\n",
        "    batch_size,\n",
        "    transformation_function,\n",
        "    temperature=temperature,\n",
        "    epochs=epochs,\n",
        "    is_trasnform_function_vectorized=True,\n",
        "    verbose=1\n",
        ")\n",
        "\n",
        "# Save the trained SimCLR model to disk for later use.\n",
        "simclr_model_save_path = f\"{working_directory}{start_time_str}_simclr.hdf5\"\n",
        "trained_simclr_model.save(simclr_model_save_path)"
      ]
    },
    {
      "cell_type": "code",
      "execution_count": 14,
      "id": "3e6b1270",
      "metadata": {
        "colab": {
          "base_uri": "https://localhost:8080/",
          "height": 419
        },
        "id": "3e6b1270",
        "outputId": "30c4887f-d95f-4e18-9eba-0a80b25e2675"
      },
      "outputs": [
        {
          "output_type": "display_data",
          "data": {
            "text/plain": [
              "<Figure size 1200x800 with 1 Axes>"
            ],
            "image/png": "[encoded data removed]"
          },
          "metadata": {}
        }
      ],
      "source": [
        "plt.figure(figsize=(12,8))\n",
        "plt.plot(epoch_losses)\n",
        "plt.ylabel(\"Loss\")\n",
        "plt.xlabel(\"Epoch\")\n",
        "plt.show()"
      ]
    },
    {
      "cell_type": "code",
      "execution_count": null,
      "id": "22e9a31c",
      "metadata": {
        "id": "22e9a31c"
      },
      "outputs": [],
      "source": []
    }
  ],
  "metadata": {
    "accelerator": "GPU",
    "colab": {
      "gpuType": "L4",
      "machine_shape": "hm",
      "provenance": [],
      "include_colab_link": true
    },
    "kernelspec": {
      "display_name": "base",
      "language": "python",
      "name": "python3"
    },
    "language_info": {
      "codemirror_mode": {
        "name": "ipython",
        "version": 3
      },
      "file_extension": ".py",
      "mimetype": "text/x-python",
      "name": "python",
      "nbconvert_exporter": "python",
      "pygments_lexer": "ipython3",
      "version": "3.12.3"
    }
  },
  "nbformat": 4,
  "nbformat_minor": 5
}