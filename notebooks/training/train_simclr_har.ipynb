{
 "cells": [
  {
   "cell_type": "markdown",
   "id": "97810603",
   "metadata": {},
   "source": [
    "## SimCLR Training"
   ]
  },
  {
   "cell_type": "code",
   "execution_count": 1,
   "id": "39dbd93a",
   "metadata": {},
   "outputs": [
    {
     "data": {
      "text/plain": [
       "((848, 50, 3), (848, 7))"
      ]
     },
     "execution_count": 1,
     "metadata": {},
     "output_type": "execute_result"
    }
   ],
   "source": [
    "# For VSCode\n",
    "%load_ext autoreload\n",
    "%autoreload 2\n",
    "\n",
    "import os\n",
    "import pickle\n",
    "import scipy\n",
    "import datetime\n",
    "import numpy as np\n",
    "import tensorflow as tf\n",
    "import simclr_utitlities\n",
    "import transformations\n",
    "import simclr_models\n",
    "import sys\n",
    "import matplotlib.pyplot as plt\n",
    "\n",
    "sys.path.append('../../')   # Add parent directory to Python path\n",
    "working_directory = \"../../models/\"\n",
    "\n",
    "seed = 1\n",
    "tf.random.set_seed(seed)\n",
    "np.random.seed(seed)\n",
    "\n",
    "# Load data\n",
    "with open('../../data/TrainTest_one/X_train_data_normalized.pkl', 'rb') as f:\n",
    "    np_train_data = pickle.load(f)\n",
    "with open('../../data/TrainTest_one/y_train_label_onehot.pkl', 'rb') as f:\n",
    "    np_train_labels = pickle.load(f)\n",
    "np_train_data.shape, np_train_labels.shape"
   ]
  },
  {
   "cell_type": "code",
   "execution_count": null,
   "id": "dc1b1c60",
   "metadata": {},
   "outputs": [],
   "source": [
    "# For Google Colab\n",
    "\n",
    "import os\n",
    "import pickle\n",
    "import scipy\n",
    "import datetime\n",
    "import numpy as np\n",
    "import tensorflow as tf\n",
    "import matplotlib.pyplot as plt\n",
    "import simclr_utitlities\n",
    "import transformations\n",
    "import simclr_models\n",
    "import sys\n",
    "\n",
    "seed = 1\n",
    "tf.random.set_seed(seed)\n",
    "np.random.seed(seed)\n",
    "\n",
    "\n"
   ]
  },
  {
   "cell_type": "code",
   "execution_count": null,
   "id": "11b10c21",
   "metadata": {},
   "outputs": [],
   "source": [
    "# Load data\n",
    "from google.colab import drive\n",
    "drive.mount('/content/drive')\n",
    "# sys.path.append('/content/drive/MyDrive/your_project_folder/')\n",
    "# working_directory = \"/content/drive/MyDrive/your_project_folder/models/\"\n",
    "sys.path.append('../../')   # Or adjust as needed\n",
    "working_directory = \"../../models/\"\n",
    "\n",
    "\n",
    "# If files are in Google Drive, adjust the path accordingly\n",
    "# Example: '/content/drive/MyDrive/your_project_folder/data/TrainTest_one/X_train_data_normalized.pkl'\n",
    "with open('../../data/TrainTest_one/X_train_data_normalized.pkl', 'rb') as f:\n",
    "    np_train_data = pickle.load(f)\n",
    "with open('../../data/TrainTest_one/y_train_label_onehot.pkl', 'rb') as f:\n",
    "    np_train_labels = pickle.load(f)\n",
    "np_train_data.shape, np_train_labels.shape"
   ]
  },
  {
   "cell_type": "code",
   "execution_count": null,
   "id": "a0dd43f3",
   "metadata": {},
   "outputs": [],
   "source": [
    "# Parameters for all experiments\n",
    "window_size = 50\n",
    "input_shape = (window_size, 3)\n",
    "batch_size = 512\n",
    "#Number of samples processed together in one training step. Larger batch sizes can speed up training but require more memory.\n",
    "decay_steps = 1000\n",
    "#Number of steps after which the learning rate decays (used for learning rate scheduling).\n",
    "epochs = 200\n",
    "temperature = 0.1\n"
   ]
  },
  {
   "cell_type": "code",
   "execution_count": 17,
   "id": "509a8da0",
   "metadata": {},
   "outputs": [],
   "source": [
    "# # transformation_indices = [2] # Use rotation transformation only\n",
    "# # transformation_indices = [1, 2] # Use Scaling and rotation transformation\n",
    "# transformation_indices = [5, 7] # Use channel shuffle and permutation transformation\n",
    "\n",
    "# transform_funcs_vectorized = [\n",
    "#     # 0. Adding random Gaussian noise.\n",
    "#     transformations.noise_transform_vectorized, \n",
    "#     # 1. Scaling by a random factor\n",
    "#     transformations.scaling_transform_vectorized, \n",
    "#     # 2. Applying a random 3D rotation\n",
    "#     transformations.rotation_transform_vectorized, \n",
    "#     # 3. Inverting the signals.\n",
    "#     transformations.negate_transform_vectorized, \n",
    "#     # 4. Reversing the direction of time\n",
    "#     transformations.time_flip_transform_vectorized, \n",
    "#     # 5. Randomly scrambling sections of the signal.\n",
    "#     transformations.time_segment_permutation_transform_improved, \n",
    "#     # 6. Stretching and warping the time-series\n",
    "#     transformations.time_warp_transform_low_cost, \n",
    "#     # 7. Shuffling the different channels.\n",
    "#     transformations.channel_shuffle_transform_vectorized\n",
    "# ]\n",
    "# # transform_funcs_names = ['noised', 'scaled', 'rotated', 'negated', 'time_flipped', 'permuted', 'time_warped', 'channel_shuffled']\n",
    "# # Optionally, you can use a combined transformation function for data augmentation.\n",
    "# transformation_function = simclr_utitlities.generate_combined_transform_function(\n",
    "#     transform_funcs_vectorized, \n",
    "#     indices=transformation_indices\n",
    "# )"
   ]
  },
  {
   "cell_type": "code",
   "execution_count": 18,
   "id": "267dc541",
   "metadata": {},
   "outputs": [
    {
     "name": "stdout",
     "output_type": "stream",
     "text": [
      "0 <function time_segment_permutation_transform_improved at 0x000001B48BB116C0>\n",
      "1 <function channel_shuffle_transform_vectorized at 0x000001B48BB11620>\n"
     ]
    }
   ],
   "source": [
    "#A parameter for the SimCLR loss function that controls how sharply similarities are measured.\n",
    "# transform_funcs = [\n",
    "#     transformations.scaling_transform_vectorized, # Use Scaling trasnformation\n",
    "#     transformations.rotation_transform_vectorized # Use rotation trasnformation\n",
    "# ]\n",
    "transform_funcs = [\n",
    "    transformations.time_segment_permutation_transform_improved, \n",
    "    transformations.channel_shuffle_transform_vectorized\n",
    "]\n",
    "#List of data augmentation functions to apply to the input data. Here, only rotation is used.\n",
    "transformation_function = simclr_utitlities.generate_composite_transform_function_simple(transform_funcs)"
   ]
  },
  {
   "cell_type": "code",
   "execution_count": 24,
   "id": "488ebcf3",
   "metadata": {},
   "outputs": [],
   "source": [
    "# Time\n",
    "start_time = datetime.datetime.now()\n",
    "start_time_str = start_time.strftime(\"%Y%m%d-%H%M%S\")\n",
    "#Formats the date and time as a string like 20250827-153045 (for filenames, logs, etc.).\n",
    "tf.keras.backend.set_floatx('float32')\n",
    "#Sets TensorFlow to use 32-bit floating point numbers for all computations (standard for deep learning)."
   ]
  },
  {
   "cell_type": "code",
   "execution_count": 37,
   "id": "27ddae84",
   "metadata": {},
   "outputs": [
    {
     "data": {
      "text/html": [
       "<pre style=\"white-space:pre;overflow-x:auto;line-height:normal;font-family:Menlo,'DejaVu Sans Mono',consolas,'Courier New',monospace\"><span style=\"font-weight: bold\">Model: \"base_model_simclr\"</span>\n",
       "</pre>\n"
      ],
      "text/plain": [
       "\u001b[1mModel: \"base_model_simclr\"\u001b[0m\n"
      ]
     },
     "metadata": {},
     "output_type": "display_data"
    },
    {
     "data": {
      "text/html": [
       "<pre style=\"white-space:pre;overflow-x:auto;line-height:normal;font-family:Menlo,'DejaVu Sans Mono',consolas,'Courier New',monospace\">┏━━━━━━━━━━━━━━━━━━━━━━━━━━━━━━━━━┳━━━━━━━━━━━━━━━━━━━━━━━━┳━━━━━━━━━━━━━━━┓\n",
       "┃<span style=\"font-weight: bold\"> Layer (type)                    </span>┃<span style=\"font-weight: bold\"> Output Shape           </span>┃<span style=\"font-weight: bold\">       Param # </span>┃\n",
       "┡━━━━━━━━━━━━━━━━━━━━━━━━━━━━━━━━━╇━━━━━━━━━━━━━━━━━━━━━━━━╇━━━━━━━━━━━━━━━┩\n",
       "│ input (<span style=\"color: #0087ff; text-decoration-color: #0087ff\">InputLayer</span>)              │ (<span style=\"color: #00d7ff; text-decoration-color: #00d7ff\">None</span>, <span style=\"color: #00af00; text-decoration-color: #00af00\">50</span>, <span style=\"color: #00af00; text-decoration-color: #00af00\">3</span>)          │             <span style=\"color: #00af00; text-decoration-color: #00af00\">0</span> │\n",
       "├─────────────────────────────────┼────────────────────────┼───────────────┤\n",
       "│ conv1d_6 (<span style=\"color: #0087ff; text-decoration-color: #0087ff\">Conv1D</span>)               │ (<span style=\"color: #00d7ff; text-decoration-color: #00d7ff\">None</span>, <span style=\"color: #00af00; text-decoration-color: #00af00\">27</span>, <span style=\"color: #00af00; text-decoration-color: #00af00\">32</span>)         │         <span style=\"color: #00af00; text-decoration-color: #00af00\">2,336</span> │\n",
       "├─────────────────────────────────┼────────────────────────┼───────────────┤\n",
       "│ dropout_6 (<span style=\"color: #0087ff; text-decoration-color: #0087ff\">Dropout</span>)             │ (<span style=\"color: #00d7ff; text-decoration-color: #00d7ff\">None</span>, <span style=\"color: #00af00; text-decoration-color: #00af00\">27</span>, <span style=\"color: #00af00; text-decoration-color: #00af00\">32</span>)         │             <span style=\"color: #00af00; text-decoration-color: #00af00\">0</span> │\n",
       "├─────────────────────────────────┼────────────────────────┼───────────────┤\n",
       "│ conv1d_7 (<span style=\"color: #0087ff; text-decoration-color: #0087ff\">Conv1D</span>)               │ (<span style=\"color: #00d7ff; text-decoration-color: #00d7ff\">None</span>, <span style=\"color: #00af00; text-decoration-color: #00af00\">12</span>, <span style=\"color: #00af00; text-decoration-color: #00af00\">64</span>)         │        <span style=\"color: #00af00; text-decoration-color: #00af00\">32,832</span> │\n",
       "├─────────────────────────────────┼────────────────────────┼───────────────┤\n",
       "│ dropout_7 (<span style=\"color: #0087ff; text-decoration-color: #0087ff\">Dropout</span>)             │ (<span style=\"color: #00d7ff; text-decoration-color: #00d7ff\">None</span>, <span style=\"color: #00af00; text-decoration-color: #00af00\">12</span>, <span style=\"color: #00af00; text-decoration-color: #00af00\">64</span>)         │             <span style=\"color: #00af00; text-decoration-color: #00af00\">0</span> │\n",
       "├─────────────────────────────────┼────────────────────────┼───────────────┤\n",
       "│ conv1d_8 (<span style=\"color: #0087ff; text-decoration-color: #0087ff\">Conv1D</span>)               │ (<span style=\"color: #00d7ff; text-decoration-color: #00d7ff\">None</span>, <span style=\"color: #00af00; text-decoration-color: #00af00\">5</span>, <span style=\"color: #00af00; text-decoration-color: #00af00\">96</span>)          │        <span style=\"color: #00af00; text-decoration-color: #00af00\">49,248</span> │\n",
       "├─────────────────────────────────┼────────────────────────┼───────────────┤\n",
       "│ dropout_8 (<span style=\"color: #0087ff; text-decoration-color: #0087ff\">Dropout</span>)             │ (<span style=\"color: #00d7ff; text-decoration-color: #00d7ff\">None</span>, <span style=\"color: #00af00; text-decoration-color: #00af00\">5</span>, <span style=\"color: #00af00; text-decoration-color: #00af00\">96</span>)          │             <span style=\"color: #00af00; text-decoration-color: #00af00\">0</span> │\n",
       "├─────────────────────────────────┼────────────────────────┼───────────────┤\n",
       "│ global_max_pooling1d            │ (<span style=\"color: #00d7ff; text-decoration-color: #00d7ff\">None</span>, <span style=\"color: #00af00; text-decoration-color: #00af00\">96</span>)             │             <span style=\"color: #00af00; text-decoration-color: #00af00\">0</span> │\n",
       "│ (<span style=\"color: #0087ff; text-decoration-color: #0087ff\">GlobalMaxPooling1D</span>)            │                        │               │\n",
       "├─────────────────────────────────┼────────────────────────┼───────────────┤\n",
       "│ dense_8 (<span style=\"color: #0087ff; text-decoration-color: #0087ff\">Dense</span>)                 │ (<span style=\"color: #00d7ff; text-decoration-color: #00d7ff\">None</span>, <span style=\"color: #00af00; text-decoration-color: #00af00\">256</span>)            │        <span style=\"color: #00af00; text-decoration-color: #00af00\">24,832</span> │\n",
       "├─────────────────────────────────┼────────────────────────┼───────────────┤\n",
       "│ activation_4 (<span style=\"color: #0087ff; text-decoration-color: #0087ff\">Activation</span>)       │ (<span style=\"color: #00d7ff; text-decoration-color: #00d7ff\">None</span>, <span style=\"color: #00af00; text-decoration-color: #00af00\">256</span>)            │             <span style=\"color: #00af00; text-decoration-color: #00af00\">0</span> │\n",
       "├─────────────────────────────────┼────────────────────────┼───────────────┤\n",
       "│ dense_9 (<span style=\"color: #0087ff; text-decoration-color: #0087ff\">Dense</span>)                 │ (<span style=\"color: #00d7ff; text-decoration-color: #00d7ff\">None</span>, <span style=\"color: #00af00; text-decoration-color: #00af00\">128</span>)            │        <span style=\"color: #00af00; text-decoration-color: #00af00\">32,896</span> │\n",
       "├─────────────────────────────────┼────────────────────────┼───────────────┤\n",
       "│ activation_5 (<span style=\"color: #0087ff; text-decoration-color: #0087ff\">Activation</span>)       │ (<span style=\"color: #00d7ff; text-decoration-color: #00d7ff\">None</span>, <span style=\"color: #00af00; text-decoration-color: #00af00\">128</span>)            │             <span style=\"color: #00af00; text-decoration-color: #00af00\">0</span> │\n",
       "├─────────────────────────────────┼────────────────────────┼───────────────┤\n",
       "│ dense_10 (<span style=\"color: #0087ff; text-decoration-color: #0087ff\">Dense</span>)                │ (<span style=\"color: #00d7ff; text-decoration-color: #00d7ff\">None</span>, <span style=\"color: #00af00; text-decoration-color: #00af00\">50</span>)             │         <span style=\"color: #00af00; text-decoration-color: #00af00\">6,450</span> │\n",
       "└─────────────────────────────────┴────────────────────────┴───────────────┘\n",
       "</pre>\n"
      ],
      "text/plain": [
       "┏━━━━━━━━━━━━━━━━━━━━━━━━━━━━━━━━━┳━━━━━━━━━━━━━━━━━━━━━━━━┳━━━━━━━━━━━━━━━┓\n",
       "┃\u001b[1m \u001b[0m\u001b[1mLayer (type)                   \u001b[0m\u001b[1m \u001b[0m┃\u001b[1m \u001b[0m\u001b[1mOutput Shape          \u001b[0m\u001b[1m \u001b[0m┃\u001b[1m \u001b[0m\u001b[1m      Param #\u001b[0m\u001b[1m \u001b[0m┃\n",
       "┡━━━━━━━━━━━━━━━━━━━━━━━━━━━━━━━━━╇━━━━━━━━━━━━━━━━━━━━━━━━╇━━━━━━━━━━━━━━━┩\n",
       "│ input (\u001b[38;5;33mInputLayer\u001b[0m)              │ (\u001b[38;5;45mNone\u001b[0m, \u001b[38;5;34m50\u001b[0m, \u001b[38;5;34m3\u001b[0m)          │             \u001b[38;5;34m0\u001b[0m │\n",
       "├─────────────────────────────────┼────────────────────────┼───────────────┤\n",
       "│ conv1d_6 (\u001b[38;5;33mConv1D\u001b[0m)               │ (\u001b[38;5;45mNone\u001b[0m, \u001b[38;5;34m27\u001b[0m, \u001b[38;5;34m32\u001b[0m)         │         \u001b[38;5;34m2,336\u001b[0m │\n",
       "├─────────────────────────────────┼────────────────────────┼───────────────┤\n",
       "│ dropout_6 (\u001b[38;5;33mDropout\u001b[0m)             │ (\u001b[38;5;45mNone\u001b[0m, \u001b[38;5;34m27\u001b[0m, \u001b[38;5;34m32\u001b[0m)         │             \u001b[38;5;34m0\u001b[0m │\n",
       "├─────────────────────────────────┼────────────────────────┼───────────────┤\n",
       "│ conv1d_7 (\u001b[38;5;33mConv1D\u001b[0m)               │ (\u001b[38;5;45mNone\u001b[0m, \u001b[38;5;34m12\u001b[0m, \u001b[38;5;34m64\u001b[0m)         │        \u001b[38;5;34m32,832\u001b[0m │\n",
       "├─────────────────────────────────┼────────────────────────┼───────────────┤\n",
       "│ dropout_7 (\u001b[38;5;33mDropout\u001b[0m)             │ (\u001b[38;5;45mNone\u001b[0m, \u001b[38;5;34m12\u001b[0m, \u001b[38;5;34m64\u001b[0m)         │             \u001b[38;5;34m0\u001b[0m │\n",
       "├─────────────────────────────────┼────────────────────────┼───────────────┤\n",
       "│ conv1d_8 (\u001b[38;5;33mConv1D\u001b[0m)               │ (\u001b[38;5;45mNone\u001b[0m, \u001b[38;5;34m5\u001b[0m, \u001b[38;5;34m96\u001b[0m)          │        \u001b[38;5;34m49,248\u001b[0m │\n",
       "├─────────────────────────────────┼────────────────────────┼───────────────┤\n",
       "│ dropout_8 (\u001b[38;5;33mDropout\u001b[0m)             │ (\u001b[38;5;45mNone\u001b[0m, \u001b[38;5;34m5\u001b[0m, \u001b[38;5;34m96\u001b[0m)          │             \u001b[38;5;34m0\u001b[0m │\n",
       "├─────────────────────────────────┼────────────────────────┼───────────────┤\n",
       "│ global_max_pooling1d            │ (\u001b[38;5;45mNone\u001b[0m, \u001b[38;5;34m96\u001b[0m)             │             \u001b[38;5;34m0\u001b[0m │\n",
       "│ (\u001b[38;5;33mGlobalMaxPooling1D\u001b[0m)            │                        │               │\n",
       "├─────────────────────────────────┼────────────────────────┼───────────────┤\n",
       "│ dense_8 (\u001b[38;5;33mDense\u001b[0m)                 │ (\u001b[38;5;45mNone\u001b[0m, \u001b[38;5;34m256\u001b[0m)            │        \u001b[38;5;34m24,832\u001b[0m │\n",
       "├─────────────────────────────────┼────────────────────────┼───────────────┤\n",
       "│ activation_4 (\u001b[38;5;33mActivation\u001b[0m)       │ (\u001b[38;5;45mNone\u001b[0m, \u001b[38;5;34m256\u001b[0m)            │             \u001b[38;5;34m0\u001b[0m │\n",
       "├─────────────────────────────────┼────────────────────────┼───────────────┤\n",
       "│ dense_9 (\u001b[38;5;33mDense\u001b[0m)                 │ (\u001b[38;5;45mNone\u001b[0m, \u001b[38;5;34m128\u001b[0m)            │        \u001b[38;5;34m32,896\u001b[0m │\n",
       "├─────────────────────────────────┼────────────────────────┼───────────────┤\n",
       "│ activation_5 (\u001b[38;5;33mActivation\u001b[0m)       │ (\u001b[38;5;45mNone\u001b[0m, \u001b[38;5;34m128\u001b[0m)            │             \u001b[38;5;34m0\u001b[0m │\n",
       "├─────────────────────────────────┼────────────────────────┼───────────────┤\n",
       "│ dense_10 (\u001b[38;5;33mDense\u001b[0m)                │ (\u001b[38;5;45mNone\u001b[0m, \u001b[38;5;34m50\u001b[0m)             │         \u001b[38;5;34m6,450\u001b[0m │\n",
       "└─────────────────────────────────┴────────────────────────┴───────────────┘\n"
      ]
     },
     "metadata": {},
     "output_type": "display_data"
    },
    {
     "data": {
      "text/html": [
       "<pre style=\"white-space:pre;overflow-x:auto;line-height:normal;font-family:Menlo,'DejaVu Sans Mono',consolas,'Courier New',monospace\"><span style=\"font-weight: bold\"> Total params: </span><span style=\"color: #00af00; text-decoration-color: #00af00\">148,594</span> (580.45 KB)\n",
       "</pre>\n"
      ],
      "text/plain": [
       "\u001b[1m Total params: \u001b[0m\u001b[38;5;34m148,594\u001b[0m (580.45 KB)\n"
      ]
     },
     "metadata": {},
     "output_type": "display_data"
    },
    {
     "data": {
      "text/html": [
       "<pre style=\"white-space:pre;overflow-x:auto;line-height:normal;font-family:Menlo,'DejaVu Sans Mono',consolas,'Courier New',monospace\"><span style=\"font-weight: bold\"> Trainable params: </span><span style=\"color: #00af00; text-decoration-color: #00af00\">148,594</span> (580.45 KB)\n",
       "</pre>\n"
      ],
      "text/plain": [
       "\u001b[1m Trainable params: \u001b[0m\u001b[38;5;34m148,594\u001b[0m (580.45 KB)\n"
      ]
     },
     "metadata": {},
     "output_type": "display_data"
    },
    {
     "data": {
      "text/html": [
       "<pre style=\"white-space:pre;overflow-x:auto;line-height:normal;font-family:Menlo,'DejaVu Sans Mono',consolas,'Courier New',monospace\"><span style=\"font-weight: bold\"> Non-trainable params: </span><span style=\"color: #00af00; text-decoration-color: #00af00\">0</span> (0.00 B)\n",
       "</pre>\n"
      ],
      "text/plain": [
       "\u001b[1m Non-trainable params: \u001b[0m\u001b[38;5;34m0\u001b[0m (0.00 B)\n"
      ]
     },
     "metadata": {},
     "output_type": "display_data"
    },
    {
     "name": "stdout",
     "output_type": "stream",
     "text": [
      "epoch: 1 loss: 13.310\n",
      "epoch: 2 loss: 13.148\n",
      "epoch: 3 loss: 12.630\n",
      "epoch: 4 loss: 11.576\n",
      "epoch: 5 loss: 11.524\n",
      "epoch: 6 loss: 11.744\n",
      "epoch: 7 loss: 11.189\n",
      "epoch: 8 loss: 10.384\n",
      "epoch: 9 loss: 10.123\n",
      "epoch: 10 loss: 10.339\n",
      "epoch: 11 loss: 9.866\n",
      "epoch: 12 loss: 10.511\n",
      "epoch: 13 loss: 10.505\n",
      "epoch: 14 loss: 10.486\n",
      "epoch: 15 loss: 9.878\n",
      "epoch: 16 loss: 10.525\n",
      "epoch: 17 loss: 9.638\n",
      "epoch: 18 loss: 9.268\n",
      "epoch: 19 loss: 9.369\n",
      "epoch: 20 loss: 9.737\n",
      "epoch: 21 loss: 9.211\n",
      "epoch: 22 loss: 9.441\n",
      "epoch: 23 loss: 9.352\n",
      "epoch: 24 loss: 8.992\n",
      "epoch: 25 loss: 8.745\n",
      "epoch: 26 loss: 8.831\n",
      "epoch: 27 loss: 9.307\n",
      "epoch: 28 loss: 8.933\n",
      "epoch: 29 loss: 8.824\n",
      "epoch: 30 loss: 8.955\n",
      "epoch: 31 loss: 9.010\n",
      "epoch: 32 loss: 8.524\n",
      "epoch: 33 loss: 9.261\n",
      "epoch: 34 loss: 9.096\n",
      "epoch: 35 loss: 9.549\n",
      "epoch: 36 loss: 8.734\n",
      "epoch: 37 loss: 8.393\n",
      "epoch: 38 loss: 8.844\n",
      "epoch: 39 loss: 8.685\n",
      "epoch: 40 loss: 8.133\n",
      "epoch: 41 loss: 8.231\n",
      "epoch: 42 loss: 8.617\n",
      "epoch: 43 loss: 8.262\n",
      "epoch: 44 loss: 8.591\n",
      "epoch: 45 loss: 8.318\n",
      "epoch: 46 loss: 8.279\n",
      "epoch: 47 loss: 7.984\n",
      "epoch: 48 loss: 8.175\n",
      "epoch: 49 loss: 8.170\n",
      "epoch: 50 loss: 8.282\n",
      "epoch: 51 loss: 9.002\n",
      "epoch: 52 loss: 8.314\n",
      "epoch: 53 loss: 8.595\n",
      "epoch: 54 loss: 8.173\n",
      "epoch: 55 loss: 9.313\n",
      "epoch: 56 loss: 8.501\n",
      "epoch: 57 loss: 8.015\n",
      "epoch: 58 loss: 7.830\n",
      "epoch: 59 loss: 8.282\n",
      "epoch: 60 loss: 7.623\n",
      "epoch: 61 loss: 7.596\n",
      "epoch: 62 loss: 8.399\n",
      "epoch: 63 loss: 7.490\n",
      "epoch: 64 loss: 7.429\n",
      "epoch: 65 loss: 7.669\n",
      "epoch: 66 loss: 7.873\n",
      "epoch: 67 loss: 7.969\n",
      "epoch: 68 loss: 8.107\n",
      "epoch: 69 loss: 7.510\n",
      "epoch: 70 loss: 8.288\n",
      "epoch: 71 loss: 8.186\n",
      "epoch: 72 loss: 7.428\n",
      "epoch: 73 loss: 7.436\n",
      "epoch: 74 loss: 7.531\n",
      "epoch: 75 loss: 7.490\n",
      "epoch: 76 loss: 7.396\n",
      "epoch: 77 loss: 7.448\n",
      "epoch: 78 loss: 7.446\n",
      "epoch: 79 loss: 7.583\n",
      "epoch: 80 loss: 7.214\n",
      "epoch: 81 loss: 7.357\n",
      "epoch: 82 loss: 7.363\n",
      "epoch: 83 loss: 7.262\n",
      "epoch: 84 loss: 7.173\n",
      "epoch: 85 loss: 8.636\n",
      "epoch: 86 loss: 7.453\n",
      "epoch: 87 loss: 7.482\n",
      "epoch: 88 loss: 7.161\n",
      "epoch: 89 loss: 7.312\n",
      "epoch: 90 loss: 7.798\n",
      "epoch: 91 loss: 7.570\n",
      "epoch: 92 loss: 7.448\n",
      "epoch: 93 loss: 7.235\n",
      "epoch: 94 loss: 7.085\n",
      "epoch: 95 loss: 7.063\n",
      "epoch: 96 loss: 7.180\n",
      "epoch: 97 loss: 7.103\n",
      "epoch: 98 loss: 7.188\n",
      "epoch: 99 loss: 6.812\n",
      "epoch: 100 loss: 7.427\n",
      "epoch: 101 loss: 7.063\n",
      "epoch: 102 loss: 6.935\n",
      "epoch: 103 loss: 6.805\n",
      "epoch: 104 loss: 7.138\n",
      "epoch: 105 loss: 7.332\n",
      "epoch: 106 loss: 7.351\n",
      "epoch: 107 loss: 6.786\n",
      "epoch: 108 loss: 7.036\n",
      "epoch: 109 loss: 7.545\n",
      "epoch: 110 loss: 7.199\n",
      "epoch: 111 loss: 6.891\n",
      "epoch: 112 loss: 6.954\n",
      "epoch: 113 loss: 6.796\n",
      "epoch: 114 loss: 7.036\n",
      "epoch: 115 loss: 6.902\n",
      "epoch: 116 loss: 6.753\n",
      "epoch: 117 loss: 6.623\n",
      "epoch: 118 loss: 6.949\n",
      "epoch: 119 loss: 6.854\n",
      "epoch: 120 loss: 8.229\n",
      "epoch: 121 loss: 7.682\n",
      "epoch: 122 loss: 7.733\n",
      "epoch: 123 loss: 6.939\n",
      "epoch: 124 loss: 6.694\n",
      "epoch: 125 loss: 6.813\n",
      "epoch: 126 loss: 6.461\n",
      "epoch: 127 loss: 7.512\n",
      "epoch: 128 loss: 7.597\n",
      "epoch: 129 loss: 6.734\n",
      "epoch: 130 loss: 6.611\n",
      "epoch: 131 loss: 6.730\n",
      "epoch: 132 loss: 6.856\n",
      "epoch: 133 loss: 6.744\n",
      "epoch: 134 loss: 6.528\n",
      "epoch: 135 loss: 6.460\n",
      "epoch: 136 loss: 6.923\n",
      "epoch: 137 loss: 6.588\n",
      "epoch: 138 loss: 6.402\n",
      "epoch: 139 loss: 6.653\n",
      "epoch: 140 loss: 7.050\n",
      "epoch: 141 loss: 6.407\n",
      "epoch: 142 loss: 6.497\n",
      "epoch: 143 loss: 6.776\n",
      "epoch: 144 loss: 6.472\n",
      "epoch: 145 loss: 6.424\n",
      "epoch: 146 loss: 6.426\n",
      "epoch: 147 loss: 6.435\n",
      "epoch: 148 loss: 6.522\n",
      "epoch: 149 loss: 6.547\n",
      "epoch: 150 loss: 6.566\n",
      "epoch: 151 loss: 6.313\n",
      "epoch: 152 loss: 6.351\n",
      "epoch: 153 loss: 6.434\n",
      "epoch: 154 loss: 6.285\n",
      "epoch: 155 loss: 6.442\n",
      "epoch: 156 loss: 6.219\n",
      "epoch: 157 loss: 6.498\n",
      "epoch: 158 loss: 6.426\n",
      "epoch: 159 loss: 6.551\n",
      "epoch: 160 loss: 6.200\n",
      "epoch: 161 loss: 6.527\n",
      "epoch: 162 loss: 6.436\n",
      "epoch: 163 loss: 6.232\n",
      "epoch: 164 loss: 6.181\n",
      "epoch: 165 loss: 6.333\n",
      "epoch: 166 loss: 6.687\n",
      "epoch: 167 loss: 10.212\n",
      "epoch: 168 loss: 7.797\n",
      "epoch: 169 loss: 6.968\n",
      "epoch: 170 loss: 6.760\n",
      "epoch: 171 loss: 6.676\n",
      "epoch: 172 loss: 6.668\n",
      "epoch: 173 loss: 6.805\n",
      "epoch: 174 loss: 6.478\n",
      "epoch: 175 loss: 6.634\n",
      "epoch: 176 loss: 6.696\n",
      "epoch: 177 loss: 6.280\n",
      "epoch: 178 loss: 6.269\n",
      "epoch: 179 loss: 6.556\n",
      "epoch: 180 loss: 6.243\n",
      "epoch: 181 loss: 6.205\n",
      "epoch: 182 loss: 6.097\n",
      "epoch: 183 loss: 6.231\n",
      "epoch: 184 loss: 6.630\n",
      "epoch: 185 loss: 6.233\n",
      "epoch: 186 loss: 5.907\n",
      "epoch: 187 loss: 6.034\n",
      "epoch: 188 loss: 5.992\n",
      "epoch: 189 loss: 6.282\n",
      "epoch: 190 loss: 5.857\n",
      "epoch: 191 loss: 6.216\n",
      "epoch: 192 loss: 6.499\n",
      "epoch: 193 loss: 6.203\n",
      "epoch: 194 loss: 5.905\n",
      "epoch: 195 loss: 5.892\n",
      "epoch: 196 loss: 6.335\n",
      "epoch: 197 loss: 6.119\n",
      "epoch: 198 loss: 5.967\n"
     ]
    },
    {
     "name": "stderr",
     "output_type": "stream",
     "text": [
      "WARNING:absl:You are saving your model as an HDF5 file via `model.save()` or `keras.saving.save_model(model)`. This file format is considered legacy. We recommend using instead the native Keras format, e.g. `model.save('my_model.keras')` or `keras.saving.save_model(model, 'my_model.keras')`. \n"
     ]
    },
    {
     "name": "stdout",
     "output_type": "stream",
     "text": [
      "epoch: 199 loss: 5.855\n",
      "epoch: 200 loss: 5.737\n"
     ]
    }
   ],
   "source": [
    "# Create a cosine-decayed learning rate schedule and SGD optimizer for training.\n",
    "lr_decayed_fn = tf.keras.optimizers.schedules.CosineDecay(initial_learning_rate=0.1, decay_steps=decay_steps)\n",
    "optimizer = tf.keras.optimizers.SGD(lr_decayed_fn)\n",
    "\n",
    "# Build the base model and attach the SimCLR head for contrastive learning.\n",
    "base_model = simclr_models.create_base_model(input_shape, model_name=\"base_model\")\n",
    "simclr_model = simclr_models.attach_simclr_head(base_model)\n",
    "simclr_model.summary()\n",
    "\n",
    "# Train the SimCLR model using the specified transformation function and optimizer.\n",
    "trained_simclr_model, epoch_losses = simclr_utitlities.simclr_train_model(\n",
    "    simclr_model, \n",
    "    np_train_data, \n",
    "    optimizer, \n",
    "    batch_size, \n",
    "    transformation_function,\n",
    "    temperature=temperature, \n",
    "    epochs=epochs, \n",
    "    is_trasnform_function_vectorized=True, \n",
    "    verbose=1\n",
    ")\n",
    "\n",
    "# Save the trained SimCLR model to disk for later use.\n",
    "simclr_model_save_path = f\"{working_directory}{start_time_str}_simclr.hdf5\"\n",
    "trained_simclr_model.save(simclr_model_save_path)"
   ]
  },
  {
   "cell_type": "code",
   "execution_count": 38,
   "id": "3e6b1270",
   "metadata": {},
   "outputs": [
    {
     "data": {
      "image/png": "[encoded data removed]",
      "text/plain": [
       "<Figure size 1200x800 with 1 Axes>"
      ]
     },
     "metadata": {},
     "output_type": "display_data"
    }
   ],
   "source": [
    "plt.figure(figsize=(12,8))\n",
    "plt.plot(epoch_losses)\n",
    "plt.ylabel(\"Loss\")\n",
    "plt.xlabel(\"Epoch\")\n",
    "plt.show()"
   ]
  },
  {
   "cell_type": "code",
   "execution_count": null,
   "id": "22e9a31c",
   "metadata": {},
   "outputs": [],
   "source": []
  }
 ],
 "metadata": {
  "kernelspec": {
   "display_name": "base",
   "language": "python",
   "name": "python3"
  },
  "language_info": {
   "codemirror_mode": {
    "name": "ipython",
    "version": 3
   },
   "file_extension": ".py",
   "mimetype": "text/x-python",
   "name": "python",
   "nbconvert_exporter": "python",
   "pygments_lexer": "ipython3",
   "version": "3.12.3"
  }
 },
 "nbformat": 4,
 "nbformat_minor": 5
}
