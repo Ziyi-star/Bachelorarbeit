{
 "cells": [
  {
   "cell_type": "markdown",
   "id": "6f163eb8",
   "metadata": {},
   "source": [
    "## Combine all datasets and Train Test Spilt"
   ]
  },
  {
   "cell_type": "code",
   "execution_count": 19,
   "id": "c29d18e9",
   "metadata": {},
   "outputs": [],
   "source": [
    "%load_ext autoreload\n",
    "%autoreload 2"
   ]
  },
  {
   "cell_type": "code",
   "execution_count": 20,
   "id": "9a0e0e1d",
   "metadata": {},
   "outputs": [],
   "source": [
    "import sys\n",
    "import numpy as np\n",
    "sys.path.append('../../')   # Add parent directory to Python path\n",
    "from utils.preprocessing import *\n",
    "from utils.segmentation import *\n",
    "from utils.visualization import *\n",
    "np.random.seed(42)  # For reproducibility"
   ]
  },
  {
   "cell_type": "code",
   "execution_count": 21,
   "id": "cfe69668",
   "metadata": {},
   "outputs": [],
   "source": [
    "def select_random_samples(data, n=190):\n",
    "    indices = np.random.choice(data.shape[0], n, replace=False)\n",
    "    return data[indices]"
   ]
  },
  {
   "cell_type": "markdown",
   "id": "71deede5",
   "metadata": {},
   "source": [
    "## 1. Combine all datasets"
   ]
  },
  {
   "cell_type": "code",
   "execution_count": null,
   "id": "1e8bbb6a",
   "metadata": {},
   "outputs": [],
   "source": [
    "\n",
    "data = np.load('../../data/Curb/P3/handlebar/Accelerometer/segments_100hz_0.5s_50overlap.npz')\n",
    "data_curb_0 = data['segments_0']\n",
    "data_curb_1 = data['segments_1']\n",
    "data= np.load('../../data/RoadRoughness/Raw/Asphalt/P1/segments_100hz_0.5s_50overlap.npz')\n",
    "data_asphalt= data['segments']\n",
    "data_asphalt = select_random_samples(data_asphalt, 190)\n",
    "data= np.load('../../data/RoadRoughness/Raw/Cobblestone/P1/segments_100hz_0.5s_50overlap.npz')\n",
    "data_cobblestone= data['segments']\n",
    "data_cobblestone = select_random_samples(data_cobblestone, 190)\n",
    "data= np.load('../../data/RoadRoughness/Raw/CompactGravel/P1/segments_100hz_0.5s_50overlap.npz')\n",
    "data_compact_gravel= data['segments']\n",
    "data_compact_gravel = select_random_samples(data_compact_gravel, 190)\n",
    "data= np.load('../../data/RoadRoughness/Raw/Dirt/P1/segments_100hz_0.5s_50overlap.npz')\n",
    "data_Dirt= data['segments']\n",
    "data_Dirt = select_random_samples(data_Dirt, 190)\n",
    "data= np.load('../../data/RoadRoughness/Raw/PavingStone/P1/segments_100hz_0.5s_50overlap.npz')\n",
    "data_PavingStone= data['segments']\n",
    "data_PavingStone = select_random_samples(data_PavingStone, 190)\n",
    "\n"
   ]
  },
  {
   "cell_type": "code",
   "execution_count": 24,
   "id": "e91720d0",
   "metadata": {},
   "outputs": [],
   "source": [
    "# Add labels\n",
    "# Assign labels for each surface type\n",
    "datasets = [\n",
    "    (data_curb_0, \"curb_0\"),\n",
    "    (data_curb_1, \"curb_1\"),\n",
    "    (data_asphalt, \"asphalt\"),\n",
    "    (data_cobblestone, \"cobblestone\"),\n",
    "    (data_compact_gravel, \"compact_gravel\"),\n",
    "    (data_Dirt, \"dirt\"),\n",
    "    (data_PavingStone, \"paving_stone\")\n",
    "]\n",
    "\n",
    "# Combine all into a single list of (sensor_values, label)\n",
    "combined_dataset = []\n",
    "for data, label in datasets:\n",
    "    for segment in data:\n",
    "        combined_dataset.append((segment, label))"
   ]
  },
  {
   "cell_type": "code",
   "execution_count": null,
   "id": "efa1f8eb",
   "metadata": {},
   "outputs": [],
   "source": [
    "import pickle\n",
    "with open('../../data/TrainTest/combined_dataset.pkl', 'wb') as f:\n",
    "    pickle.dump(combined_dataset, f)"
   ]
  },
  {
   "cell_type": "code",
   "execution_count": 25,
   "id": "1a903e5c",
   "metadata": {},
   "outputs": [
    {
     "name": "stdout",
     "output_type": "stream",
     "text": [
      "Number of samples: 1326\n",
      "Shape of first sample's sensor values: (50, 3)\n",
      "Number of samples per label:\n",
      "curb_0: 188\n",
      "curb_1: 188\n",
      "asphalt: 190\n",
      "cobblestone: 190\n",
      "compact_gravel: 190\n",
      "dirt: 190\n",
      "paving_stone: 190\n"
     ]
    }
   ],
   "source": [
    "# Show number of samples\n",
    "print(\"Number of samples:\", len(combined_dataset))\n",
    "# Show shape of sensor values for the first sample\n",
    "print(\"Shape of first sample's sensor values:\", combined_dataset[0][0].shape)\n",
    "# # Show first 3 samples (sensor values and labels)\n",
    "# for i in range(3):\n",
    "#     print(combined_dataset[i][0], combined_dataset[i][1])\n",
    "\n",
    "# Count samples for each label\n",
    "from collections import Counter\n",
    "label_counts = Counter(label for _, label in combined_dataset)\n",
    "print(\"Number of samples per label:\")\n",
    "for label, count in label_counts.items():\n",
    "    print(f\"{label}: {count}\")"
   ]
  },
  {
   "cell_type": "markdown",
   "id": "16e4d92a",
   "metadata": {},
   "source": [
    "## 2. Train Test Spilt\n"
   ]
  },
  {
   "cell_type": "code",
   "execution_count": null,
   "id": "a4d9ecb0",
   "metadata": {},
   "outputs": [
    {
     "name": "stdout",
     "output_type": "stream",
     "text": [
      "1060\n",
      "266\n"
     ]
    }
   ],
   "source": [
    "from sklearn.model_selection import train_test_split\n",
    "# 80% train, 20% test\n",
    "train_set, test_set = train_test_split(combined_dataset, test_size=0.2, random_state=42, shuffle=True, stratify=[label for data, label in combined_dataset])\n",
    "print(len(train_set))\n",
    "print(len(test_set))"
   ]
  },
  {
   "cell_type": "code",
   "execution_count": 29,
   "id": "d53143de",
   "metadata": {},
   "outputs": [
    {
     "data": {
      "text/plain": [
       "(array([[-2.94318687,  4.45824211,  5.85580769],\n",
       "        [-2.94290638,  4.458214  ,  5.85604172],\n",
       "        [-2.94262588,  4.45818589,  5.85627574],\n",
       "        [-2.94234539,  4.45815778,  5.85650977],\n",
       "        [-2.9420649 ,  4.45812967,  5.85674379],\n",
       "        [-2.94178441,  4.45810157,  5.85697782],\n",
       "        [-2.94150391,  4.45807346,  5.85721184],\n",
       "        [-2.94122342,  4.45804535,  5.85744586],\n",
       "        [-2.94094293,  4.45801724,  5.85767989],\n",
       "        [-2.94066243,  4.45798913,  5.85791391],\n",
       "        [-2.94038194,  4.45796102,  5.85814794],\n",
       "        [-2.94010145,  4.45793292,  5.85838196],\n",
       "        [-2.93982095,  4.45790481,  5.85861599],\n",
       "        [-2.93954046,  4.4578767 ,  5.85885001],\n",
       "        [-2.93925997,  4.45784859,  5.85908403],\n",
       "        [-2.93897947,  4.45782048,  5.85931806],\n",
       "        [-2.93869898,  4.45779237,  5.85955208],\n",
       "        [-2.93841849,  4.45776426,  5.85978611],\n",
       "        [-2.93813799,  4.45773616,  5.86002013],\n",
       "        [-2.9378575 ,  4.45770805,  5.86025416],\n",
       "        [-2.93757701,  4.45767994,  5.86048818],\n",
       "        [-2.93729652,  4.45765183,  5.8607222 ],\n",
       "        [-2.93701602,  4.45762372,  5.86095623],\n",
       "        [-2.93673553,  4.45759561,  5.86119025],\n",
       "        [-2.93645504,  4.45756751,  5.86142428],\n",
       "        [-2.93617454,  4.4575394 ,  5.8616583 ],\n",
       "        [-2.93589405,  4.45751129,  5.86189233],\n",
       "        [-2.93561356,  4.45748318,  5.86212635],\n",
       "        [-2.93533306,  4.45745507,  5.86236037],\n",
       "        [-2.93505257,  4.45742696,  5.8625944 ],\n",
       "        [-2.93477208,  4.45739886,  5.86282842],\n",
       "        [-2.93449158,  4.45737075,  5.86306245],\n",
       "        [-2.93421109,  4.45734264,  5.86329647],\n",
       "        [-2.9339306 ,  4.45731453,  5.8635305 ],\n",
       "        [-2.9336501 ,  4.45728642,  5.86376452],\n",
       "        [-2.93336961,  4.45725831,  5.86399854],\n",
       "        [-2.93308912,  4.45723021,  5.86423257],\n",
       "        [-2.93280862,  4.4572021 ,  5.86446659],\n",
       "        [-2.93252813,  4.45717399,  5.86470062],\n",
       "        [-2.93224764,  4.45714588,  5.86493464],\n",
       "        [-2.93196715,  4.45711777,  5.86516867],\n",
       "        [-2.93168665,  4.45708966,  5.86540269],\n",
       "        [-2.93140616,  4.45706156,  5.86563671],\n",
       "        [-2.93112567,  4.45703345,  5.86587074],\n",
       "        [-2.93084517,  4.45700534,  5.86610476],\n",
       "        [-2.93056468,  4.45697723,  5.86633879],\n",
       "        [-2.93028419,  4.45694912,  5.86657281],\n",
       "        [-2.93000369,  4.45692101,  5.86680684],\n",
       "        [-2.9297232 ,  4.45689291,  5.86704086],\n",
       "        [-2.92944271,  4.4568648 ,  5.86727488]]),\n",
       " 'paving_stone')"
      ]
     },
     "execution_count": 29,
     "metadata": {},
     "output_type": "execute_result"
    }
   ],
   "source": [
    "train_set[0]"
   ]
  },
  {
   "cell_type": "code",
   "execution_count": null,
   "id": "448f4c4a",
   "metadata": {},
   "outputs": [],
   "source": []
  }
 ],
 "metadata": {
  "kernelspec": {
   "display_name": "base",
   "language": "python",
   "name": "python3"
  },
  "language_info": {
   "codemirror_mode": {
    "name": "ipython",
    "version": 3
   },
   "file_extension": ".py",
   "mimetype": "text/x-python",
   "name": "python",
   "nbconvert_exporter": "python",
   "pygments_lexer": "ipython3",
   "version": "3.12.3"
  }
 },
 "nbformat": 4,
 "nbformat_minor": 5
}
